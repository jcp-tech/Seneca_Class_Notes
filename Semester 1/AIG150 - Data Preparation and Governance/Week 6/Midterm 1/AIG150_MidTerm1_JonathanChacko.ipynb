{
  "cells": [
    {
      "cell_type": "code",
      "execution_count": 2,
      "metadata": {
        "trusted": true
      },
      "outputs": [],
      "source": [
        "# AIG150 Midterm Test I \n",
        "# Max Marks 60\n",
        "# Time Allowed: 60 Minutes\n",
        "\n",
        "# Instructions\n",
        "\n",
        "#\tYou are allowed to bring a reference sheet (A4-both sided).\n",
        "#\tUse font “Arial- size 10” minimium, print your name on top of the reference sheet.\n",
        "#\tThe sheet must be submitted with the test.\n",
        "#\tAs a Seneca student, you must conduct yourself in an honest and trustworthy manner in all aspects of your academic career.\n",
        "#  Once you are done, upload the file on BB ( ONLY ONE SUBMISSION IS ALLOWED)"
      ]
    },
    {
      "cell_type": "code",
      "execution_count": 3,
      "metadata": {
        "trusted": true
      },
      "outputs": [],
      "source": [
        "# Download the given csv file "
      ]
    },
    {
      "cell_type": "code",
      "execution_count": 4,
      "metadata": {
        "trusted": true
      },
      "outputs": [
        {
          "name": "stdout",
          "output_type": "stream",
          "text": [
            "          id  gender   age  hypertension  heart_disease ever_married  \\\n",
            "0      30669    Male   3.0             0              0           No   \n",
            "1      30468    Male  58.0             1              0          Yes   \n",
            "2      16523  Female   8.0             0              0           No   \n",
            "3      56543  Female  70.0             0              0          Yes   \n",
            "4      46136    Male  14.0             0              0           No   \n",
            "...      ...     ...   ...           ...            ...          ...   \n",
            "43395  56196  Female  10.0             0              0           No   \n",
            "43396   5450  Female  56.0             0              0          Yes   \n",
            "43397  28375  Female  82.0             1              0          Yes   \n",
            "43398  27973    Male  40.0             0              0          Yes   \n",
            "43399  36271  Female  82.0             0              0          Yes   \n",
            "\n",
            "          work_type Residence_type  avg_glucose_level   bmi   smoking_status  \\\n",
            "0          children          Rural              95.12  18.0              NaN   \n",
            "1           Private          Urban              87.96  39.2     never smoked   \n",
            "2           Private          Urban             110.89  17.6              NaN   \n",
            "3           Private          Rural              69.04  35.9  formerly smoked   \n",
            "4      Never_worked          Rural             161.28  19.1              NaN   \n",
            "...             ...            ...                ...   ...              ...   \n",
            "43395      children          Urban              58.64  20.4     never smoked   \n",
            "43396      Govt_job          Urban             213.61  55.4  formerly smoked   \n",
            "43397       Private          Urban              91.94  28.9  formerly smoked   \n",
            "43398       Private          Urban              99.16  33.2     never smoked   \n",
            "43399       Private          Urban              79.48  20.6     never smoked   \n",
            "\n",
            "       stroke  \n",
            "0           0  \n",
            "1           0  \n",
            "2           0  \n",
            "3           0  \n",
            "4           0  \n",
            "...       ...  \n",
            "43395       0  \n",
            "43396       0  \n",
            "43397       0  \n",
            "43398       0  \n",
            "43399       0  \n",
            "\n",
            "[43400 rows x 12 columns]\n"
          ]
        }
      ],
      "source": [
        "import pandas as pd\n",
        "stroke=pd.read_csv('stroke.csv')\n",
        "print(stroke)"
      ]
    },
    {
      "cell_type": "code",
      "execution_count": 5,
      "metadata": {},
      "outputs": [],
      "source": [
        "import warnings # Added to suppress warnings\n",
        "warnings.filterwarnings(\"ignore\")"
      ]
    },
    {
      "cell_type": "code",
      "execution_count": 6,
      "metadata": {
        "trusted": true
      },
      "outputs": [],
      "source": [
        "# Using the stroke dataframe, you have to write commands for Q 1-10.\n",
        "# Each command is worth 3 marks [ In total 30 marks]."
      ]
    },
    {
      "cell_type": "code",
      "execution_count": 7,
      "metadata": {
        "trusted": true
      },
      "outputs": [],
      "source": [
        "#1. Show the data type for each of the columns in stroke dataframe."
      ]
    },
    {
      "cell_type": "code",
      "execution_count": 8,
      "metadata": {
        "trusted": true
      },
      "outputs": [
        {
          "data": {
            "text/plain": [
              "id                     int64\n",
              "gender                object\n",
              "age                  float64\n",
              "hypertension           int64\n",
              "heart_disease          int64\n",
              "ever_married          object\n",
              "work_type             object\n",
              "Residence_type        object\n",
              "avg_glucose_level    float64\n",
              "bmi                  float64\n",
              "smoking_status        object\n",
              "stroke                 int64\n",
              "dtype: object"
            ]
          },
          "execution_count": 8,
          "metadata": {},
          "output_type": "execute_result"
        }
      ],
      "source": [
        "stroke.dtypes"
      ]
    },
    {
      "cell_type": "code",
      "execution_count": 9,
      "metadata": {
        "trusted": true
      },
      "outputs": [],
      "source": [
        "#2. Convert the hypertension column dtype to string then show the type for each of the columns."
      ]
    },
    {
      "cell_type": "code",
      "execution_count": 10,
      "metadata": {
        "trusted": true
      },
      "outputs": [
        {
          "data": {
            "text/plain": [
              "id                     int64\n",
              "gender                object\n",
              "age                  float64\n",
              "hypertension          object\n",
              "heart_disease          int64\n",
              "ever_married          object\n",
              "work_type             object\n",
              "Residence_type        object\n",
              "avg_glucose_level    float64\n",
              "bmi                  float64\n",
              "smoking_status        object\n",
              "stroke                 int64\n",
              "dtype: object"
            ]
          },
          "execution_count": 10,
          "metadata": {},
          "output_type": "execute_result"
        }
      ],
      "source": [
        "stroke['hypertension'] = stroke['hypertension'].astype(str)\n",
        "stroke.dtypes"
      ]
    },
    {
      "cell_type": "code",
      "execution_count": 11,
      "metadata": {
        "trusted": true
      },
      "outputs": [],
      "source": [
        "#3. Count the number of missing values for the column \"age\"."
      ]
    },
    {
      "cell_type": "code",
      "execution_count": 12,
      "metadata": {
        "trusted": true
      },
      "outputs": [
        {
          "data": {
            "text/plain": [
              "np.int64(0)"
            ]
          },
          "execution_count": 12,
          "metadata": {},
          "output_type": "execute_result"
        }
      ],
      "source": [
        "stroke['age'].isnull().sum()"
      ]
    },
    {
      "cell_type": "code",
      "execution_count": 13,
      "metadata": {
        "trusted": true
      },
      "outputs": [],
      "source": [
        "#4. Replace the missing values under the age column with the mean age."
      ]
    },
    {
      "cell_type": "code",
      "execution_count": 14,
      "metadata": {
        "trusted": true
      },
      "outputs": [
        {
          "data": {
            "text/plain": [
              "np.int64(0)"
            ]
          },
          "execution_count": 14,
          "metadata": {},
          "output_type": "execute_result"
        }
      ],
      "source": [
        "# NOTE from JCP: there are no missing values in the age column but if there were, the code would be:\n",
        "stroke['age'].fillna(stroke['age'].mean(), inplace=True)\n",
        "stroke['age'].isnull().sum()"
      ]
    },
    {
      "cell_type": "code",
      "execution_count": 15,
      "metadata": {
        "trusted": true
      },
      "outputs": [],
      "source": [
        "#5. Use iloc and slice 'every other' column up to '5 inclusive' into a dataframe subset. Then show the first 5 obs of the dataframe subset."
      ]
    },
    {
      "cell_type": "code",
      "execution_count": 16,
      "metadata": {
        "trusted": true
      },
      "outputs": [
        {
          "data": {
            "text/html": [
              "<div>\n",
              "<style scoped>\n",
              "    .dataframe tbody tr th:only-of-type {\n",
              "        vertical-align: middle;\n",
              "    }\n",
              "\n",
              "    .dataframe tbody tr th {\n",
              "        vertical-align: top;\n",
              "    }\n",
              "\n",
              "    .dataframe thead th {\n",
              "        text-align: right;\n",
              "    }\n",
              "</style>\n",
              "<table border=\"1\" class=\"dataframe\">\n",
              "  <thead>\n",
              "    <tr style=\"text-align: right;\">\n",
              "      <th></th>\n",
              "      <th>id</th>\n",
              "      <th>age</th>\n",
              "      <th>heart_disease</th>\n",
              "    </tr>\n",
              "  </thead>\n",
              "  <tbody>\n",
              "    <tr>\n",
              "      <th>0</th>\n",
              "      <td>30669</td>\n",
              "      <td>3.0</td>\n",
              "      <td>0</td>\n",
              "    </tr>\n",
              "    <tr>\n",
              "      <th>1</th>\n",
              "      <td>30468</td>\n",
              "      <td>58.0</td>\n",
              "      <td>0</td>\n",
              "    </tr>\n",
              "    <tr>\n",
              "      <th>2</th>\n",
              "      <td>16523</td>\n",
              "      <td>8.0</td>\n",
              "      <td>0</td>\n",
              "    </tr>\n",
              "    <tr>\n",
              "      <th>3</th>\n",
              "      <td>56543</td>\n",
              "      <td>70.0</td>\n",
              "      <td>0</td>\n",
              "    </tr>\n",
              "    <tr>\n",
              "      <th>4</th>\n",
              "      <td>46136</td>\n",
              "      <td>14.0</td>\n",
              "      <td>0</td>\n",
              "    </tr>\n",
              "  </tbody>\n",
              "</table>\n",
              "</div>"
            ],
            "text/plain": [
              "      id   age  heart_disease\n",
              "0  30669   3.0              0\n",
              "1  30468  58.0              0\n",
              "2  16523   8.0              0\n",
              "3  56543  70.0              0\n",
              "4  46136  14.0              0"
            ]
          },
          "execution_count": 16,
          "metadata": {},
          "output_type": "execute_result"
        }
      ],
      "source": [
        "q5_subset = stroke.iloc[:, 0:5:2]\n",
        "q5_subset.head()"
      ]
    },
    {
      "cell_type": "code",
      "execution_count": 17,
      "metadata": {
        "trusted": true
      },
      "outputs": [],
      "source": [
        "#6. Print the subset of bmi that are more than mean bmi value."
      ]
    },
    {
      "cell_type": "code",
      "execution_count": 18,
      "metadata": {
        "trusted": true
      },
      "outputs": [
        {
          "data": {
            "text/html": [
              "<div>\n",
              "<style scoped>\n",
              "    .dataframe tbody tr th:only-of-type {\n",
              "        vertical-align: middle;\n",
              "    }\n",
              "\n",
              "    .dataframe tbody tr th {\n",
              "        vertical-align: top;\n",
              "    }\n",
              "\n",
              "    .dataframe thead th {\n",
              "        text-align: right;\n",
              "    }\n",
              "</style>\n",
              "<table border=\"1\" class=\"dataframe\">\n",
              "  <thead>\n",
              "    <tr style=\"text-align: right;\">\n",
              "      <th></th>\n",
              "      <th>id</th>\n",
              "      <th>gender</th>\n",
              "      <th>age</th>\n",
              "      <th>hypertension</th>\n",
              "      <th>heart_disease</th>\n",
              "      <th>ever_married</th>\n",
              "      <th>work_type</th>\n",
              "      <th>Residence_type</th>\n",
              "      <th>avg_glucose_level</th>\n",
              "      <th>bmi</th>\n",
              "      <th>smoking_status</th>\n",
              "      <th>stroke</th>\n",
              "    </tr>\n",
              "  </thead>\n",
              "  <tbody>\n",
              "    <tr>\n",
              "      <th>1</th>\n",
              "      <td>30468</td>\n",
              "      <td>Male</td>\n",
              "      <td>58.0</td>\n",
              "      <td>1</td>\n",
              "      <td>0</td>\n",
              "      <td>Yes</td>\n",
              "      <td>Private</td>\n",
              "      <td>Urban</td>\n",
              "      <td>87.96</td>\n",
              "      <td>39.2</td>\n",
              "      <td>never smoked</td>\n",
              "      <td>0</td>\n",
              "    </tr>\n",
              "    <tr>\n",
              "      <th>3</th>\n",
              "      <td>56543</td>\n",
              "      <td>Female</td>\n",
              "      <td>70.0</td>\n",
              "      <td>0</td>\n",
              "      <td>0</td>\n",
              "      <td>Yes</td>\n",
              "      <td>Private</td>\n",
              "      <td>Rural</td>\n",
              "      <td>69.04</td>\n",
              "      <td>35.9</td>\n",
              "      <td>formerly smoked</td>\n",
              "      <td>0</td>\n",
              "    </tr>\n",
              "    <tr>\n",
              "      <th>5</th>\n",
              "      <td>32257</td>\n",
              "      <td>Female</td>\n",
              "      <td>47.0</td>\n",
              "      <td>0</td>\n",
              "      <td>0</td>\n",
              "      <td>Yes</td>\n",
              "      <td>Private</td>\n",
              "      <td>Urban</td>\n",
              "      <td>210.95</td>\n",
              "      <td>50.1</td>\n",
              "      <td>NaN</td>\n",
              "      <td>0</td>\n",
              "    </tr>\n",
              "    <tr>\n",
              "      <th>8</th>\n",
              "      <td>15266</td>\n",
              "      <td>Female</td>\n",
              "      <td>32.0</td>\n",
              "      <td>0</td>\n",
              "      <td>0</td>\n",
              "      <td>Yes</td>\n",
              "      <td>Private</td>\n",
              "      <td>Rural</td>\n",
              "      <td>77.67</td>\n",
              "      <td>32.3</td>\n",
              "      <td>smokes</td>\n",
              "      <td>0</td>\n",
              "    </tr>\n",
              "    <tr>\n",
              "      <th>9</th>\n",
              "      <td>28674</td>\n",
              "      <td>Female</td>\n",
              "      <td>74.0</td>\n",
              "      <td>1</td>\n",
              "      <td>0</td>\n",
              "      <td>Yes</td>\n",
              "      <td>Self-employed</td>\n",
              "      <td>Urban</td>\n",
              "      <td>205.84</td>\n",
              "      <td>54.6</td>\n",
              "      <td>never smoked</td>\n",
              "      <td>0</td>\n",
              "    </tr>\n",
              "    <tr>\n",
              "      <th>...</th>\n",
              "      <td>...</td>\n",
              "      <td>...</td>\n",
              "      <td>...</td>\n",
              "      <td>...</td>\n",
              "      <td>...</td>\n",
              "      <td>...</td>\n",
              "      <td>...</td>\n",
              "      <td>...</td>\n",
              "      <td>...</td>\n",
              "      <td>...</td>\n",
              "      <td>...</td>\n",
              "      <td>...</td>\n",
              "    </tr>\n",
              "    <tr>\n",
              "      <th>43390</th>\n",
              "      <td>10096</td>\n",
              "      <td>Female</td>\n",
              "      <td>69.0</td>\n",
              "      <td>0</td>\n",
              "      <td>0</td>\n",
              "      <td>Yes</td>\n",
              "      <td>Self-employed</td>\n",
              "      <td>Urban</td>\n",
              "      <td>229.85</td>\n",
              "      <td>31.2</td>\n",
              "      <td>never smoked</td>\n",
              "      <td>0</td>\n",
              "    </tr>\n",
              "    <tr>\n",
              "      <th>43393</th>\n",
              "      <td>69344</td>\n",
              "      <td>Male</td>\n",
              "      <td>39.0</td>\n",
              "      <td>0</td>\n",
              "      <td>0</td>\n",
              "      <td>Yes</td>\n",
              "      <td>Private</td>\n",
              "      <td>Rural</td>\n",
              "      <td>132.22</td>\n",
              "      <td>31.6</td>\n",
              "      <td>never smoked</td>\n",
              "      <td>0</td>\n",
              "    </tr>\n",
              "    <tr>\n",
              "      <th>43396</th>\n",
              "      <td>5450</td>\n",
              "      <td>Female</td>\n",
              "      <td>56.0</td>\n",
              "      <td>0</td>\n",
              "      <td>0</td>\n",
              "      <td>Yes</td>\n",
              "      <td>Govt_job</td>\n",
              "      <td>Urban</td>\n",
              "      <td>213.61</td>\n",
              "      <td>55.4</td>\n",
              "      <td>formerly smoked</td>\n",
              "      <td>0</td>\n",
              "    </tr>\n",
              "    <tr>\n",
              "      <th>43397</th>\n",
              "      <td>28375</td>\n",
              "      <td>Female</td>\n",
              "      <td>82.0</td>\n",
              "      <td>1</td>\n",
              "      <td>0</td>\n",
              "      <td>Yes</td>\n",
              "      <td>Private</td>\n",
              "      <td>Urban</td>\n",
              "      <td>91.94</td>\n",
              "      <td>28.9</td>\n",
              "      <td>formerly smoked</td>\n",
              "      <td>0</td>\n",
              "    </tr>\n",
              "    <tr>\n",
              "      <th>43398</th>\n",
              "      <td>27973</td>\n",
              "      <td>Male</td>\n",
              "      <td>40.0</td>\n",
              "      <td>0</td>\n",
              "      <td>0</td>\n",
              "      <td>Yes</td>\n",
              "      <td>Private</td>\n",
              "      <td>Urban</td>\n",
              "      <td>99.16</td>\n",
              "      <td>33.2</td>\n",
              "      <td>never smoked</td>\n",
              "      <td>0</td>\n",
              "    </tr>\n",
              "  </tbody>\n",
              "</table>\n",
              "<p>18898 rows × 12 columns</p>\n",
              "</div>"
            ],
            "text/plain": [
              "          id  gender   age hypertension  heart_disease ever_married  \\\n",
              "1      30468    Male  58.0            1              0          Yes   \n",
              "3      56543  Female  70.0            0              0          Yes   \n",
              "5      32257  Female  47.0            0              0          Yes   \n",
              "8      15266  Female  32.0            0              0          Yes   \n",
              "9      28674  Female  74.0            1              0          Yes   \n",
              "...      ...     ...   ...          ...            ...          ...   \n",
              "43390  10096  Female  69.0            0              0          Yes   \n",
              "43393  69344    Male  39.0            0              0          Yes   \n",
              "43396   5450  Female  56.0            0              0          Yes   \n",
              "43397  28375  Female  82.0            1              0          Yes   \n",
              "43398  27973    Male  40.0            0              0          Yes   \n",
              "\n",
              "           work_type Residence_type  avg_glucose_level   bmi   smoking_status  \\\n",
              "1            Private          Urban              87.96  39.2     never smoked   \n",
              "3            Private          Rural              69.04  35.9  formerly smoked   \n",
              "5            Private          Urban             210.95  50.1              NaN   \n",
              "8            Private          Rural              77.67  32.3           smokes   \n",
              "9      Self-employed          Urban             205.84  54.6     never smoked   \n",
              "...              ...            ...                ...   ...              ...   \n",
              "43390  Self-employed          Urban             229.85  31.2     never smoked   \n",
              "43393        Private          Rural             132.22  31.6     never smoked   \n",
              "43396       Govt_job          Urban             213.61  55.4  formerly smoked   \n",
              "43397        Private          Urban              91.94  28.9  formerly smoked   \n",
              "43398        Private          Urban              99.16  33.2     never smoked   \n",
              "\n",
              "       stroke  \n",
              "1           0  \n",
              "3           0  \n",
              "5           0  \n",
              "8           0  \n",
              "9           0  \n",
              "...       ...  \n",
              "43390       0  \n",
              "43393       0  \n",
              "43396       0  \n",
              "43397       0  \n",
              "43398       0  \n",
              "\n",
              "[18898 rows x 12 columns]"
            ]
          },
          "execution_count": 18,
          "metadata": {},
          "output_type": "execute_result"
        }
      ],
      "source": [
        "q6_subset = stroke[stroke['bmi'] > stroke['bmi'].mean()]\n",
        "q6_subset"
      ]
    },
    {
      "cell_type": "code",
      "execution_count": 19,
      "metadata": {
        "trusted": true
      },
      "outputs": [],
      "source": [
        "#7.  Show the average age for females only."
      ]
    },
    {
      "cell_type": "code",
      "execution_count": 20,
      "metadata": {
        "trusted": true
      },
      "outputs": [
        {
          "name": "stdout",
          "output_type": "stream",
          "text": [
            "The average age of female students is: 42\n"
          ]
        }
      ],
      "source": [
        "# Im Hoping it doesnt matter if i make it an Integer.\n",
        "q7_ans = stroke.loc[stroke['gender'] == 'Female', 'age'].mean().astype(int)  # stroke[stroke['gender'] == 'Female']['age'].mean().astype(int)\n",
        "print(\"The average age of female students is:\", q7_ans)"
      ]
    },
    {
      "cell_type": "code",
      "execution_count": 21,
      "metadata": {
        "trusted": true
      },
      "outputs": [],
      "source": [
        "#8. Count the number of married records(records with ever_married ='yes'). "
      ]
    },
    {
      "cell_type": "code",
      "execution_count": 22,
      "metadata": {
        "trusted": true
      },
      "outputs": [
        {
          "name": "stdout",
          "output_type": "stream",
          "text": [
            "The number of married records is: 27938\n"
          ]
        }
      ],
      "source": [
        "q8_ans = stroke[stroke['ever_married'] == 'Yes'].shape[0] # len(stroke[stroke['ever_married'] == 'Yes'])\n",
        "print(\"The number of married records is:\", q8_ans)"
      ]
    },
    {
      "cell_type": "code",
      "execution_count": 23,
      "metadata": {
        "trusted": true
      },
      "outputs": [],
      "source": [
        "#9. Display the list of unique values for the column \"work_type\"."
      ]
    },
    {
      "cell_type": "code",
      "execution_count": 24,
      "metadata": {
        "trusted": true
      },
      "outputs": [
        {
          "data": {
            "text/plain": [
              "array(['children', 'Private', 'Never_worked', 'Self-employed', 'Govt_job'],\n",
              "      dtype=object)"
            ]
          },
          "execution_count": 24,
          "metadata": {},
          "output_type": "execute_result"
        }
      ],
      "source": [
        "stroke['work_type'].unique()"
      ]
    },
    {
      "cell_type": "code",
      "execution_count": 25,
      "metadata": {
        "trusted": true
      },
      "outputs": [],
      "source": [
        "#10. Show the quantile table for the numerical columns of stroke dataset using the quantile() function. "
      ]
    },
    {
      "cell_type": "code",
      "execution_count": null,
      "metadata": {
        "trusted": true
      },
      "outputs": [
        {
          "name": "stdout",
          "output_type": "stream",
          "text": [
            "id                   36351.50\n",
            "age                     44.00\n",
            "heart_disease            0.00\n",
            "avg_glucose_level       91.58\n",
            "bmi                     27.70\n",
            "stroke                   0.00\n",
            "Name: 0.5, dtype: float64\n"
          ]
        },
        {
          "data": {
            "text/html": [
              "<div>\n",
              "<style scoped>\n",
              "    .dataframe tbody tr th:only-of-type {\n",
              "        vertical-align: middle;\n",
              "    }\n",
              "\n",
              "    .dataframe tbody tr th {\n",
              "        vertical-align: top;\n",
              "    }\n",
              "\n",
              "    .dataframe thead th {\n",
              "        text-align: right;\n",
              "    }\n",
              "</style>\n",
              "<table border=\"1\" class=\"dataframe\">\n",
              "  <thead>\n",
              "    <tr style=\"text-align: right;\">\n",
              "      <th></th>\n",
              "      <th>id</th>\n",
              "      <th>age</th>\n",
              "      <th>heart_disease</th>\n",
              "      <th>avg_glucose_level</th>\n",
              "      <th>bmi</th>\n",
              "      <th>stroke</th>\n",
              "    </tr>\n",
              "  </thead>\n",
              "  <tbody>\n",
              "    <tr>\n",
              "      <th>0.25</th>\n",
              "      <td>18038.50</td>\n",
              "      <td>24.0</td>\n",
              "      <td>0.0</td>\n",
              "      <td>77.54</td>\n",
              "      <td>23.2</td>\n",
              "      <td>0.0</td>\n",
              "    </tr>\n",
              "    <tr>\n",
              "      <th>0.50</th>\n",
              "      <td>36351.50</td>\n",
              "      <td>44.0</td>\n",
              "      <td>0.0</td>\n",
              "      <td>91.58</td>\n",
              "      <td>27.7</td>\n",
              "      <td>0.0</td>\n",
              "    </tr>\n",
              "    <tr>\n",
              "      <th>0.75</th>\n",
              "      <td>54514.25</td>\n",
              "      <td>60.0</td>\n",
              "      <td>0.0</td>\n",
              "      <td>112.07</td>\n",
              "      <td>32.9</td>\n",
              "      <td>0.0</td>\n",
              "    </tr>\n",
              "  </tbody>\n",
              "</table>\n",
              "</div>"
            ],
            "text/plain": [
              "            id   age  heart_disease  avg_glucose_level   bmi  stroke\n",
              "0.25  18038.50  24.0            0.0              77.54  23.2     0.0\n",
              "0.50  36351.50  44.0            0.0              91.58  27.7     0.0\n",
              "0.75  54514.25  60.0            0.0             112.07  32.9     0.0"
            ]
          },
          "execution_count": 26,
          "metadata": {},
          "output_type": "execute_result"
        }
      ],
      "source": [
        "# Convert gender, ever_married, work_type, Residence_type, smoking_status to numerical values\n",
        "# converted_df = stroke.copy()\n",
        "# for col in ['gender', 'ever_married', 'work_type', 'Residence_type', 'smoking_status']:\n",
        "#     numberOfUniqueValues = converted_df[col].nunique() - 1\n",
        "#     mapper = {converted_df[col].unique()[i]: i for i in range(numberOfUniqueValues)}\n",
        "#     converted_df[col] = converted_df[col].map(mapper)\n",
        "numerical_columns = stroke.copy().select_dtypes(include=['int64', 'float64'])\n",
        "q10_ans_a = numerical_columns.quantile()\n",
        "q10_ans_b = numerical_columns.quantile([0.25, 0.5, 0.75])\n",
        "print(q10_ans_a)\n",
        "q10_ans_b"
      ]
    },
    {
      "cell_type": "code",
      "execution_count": 27,
      "metadata": {
        "trusted": true
      },
      "outputs": [],
      "source": [
        "# Question 11- 15, each is worth 6 marks [ In total 30 marks]"
      ]
    },
    {
      "cell_type": "code",
      "execution_count": 28,
      "metadata": {
        "trusted": true
      },
      "outputs": [],
      "source": [
        "#11. Add a new column called Smoker to the dataframe that takes the following values:\n",
        "#           smoking_status= smokes  value=2\n",
        "#           smoking_status= formerly smokes  value=1\n",
        "#           in all the other cases value=0"
      ]
    },
    {
      "cell_type": "code",
      "execution_count": 29,
      "metadata": {
        "trusted": true
      },
      "outputs": [
        {
          "data": {
            "text/html": [
              "<div>\n",
              "<style scoped>\n",
              "    .dataframe tbody tr th:only-of-type {\n",
              "        vertical-align: middle;\n",
              "    }\n",
              "\n",
              "    .dataframe tbody tr th {\n",
              "        vertical-align: top;\n",
              "    }\n",
              "\n",
              "    .dataframe thead th {\n",
              "        text-align: right;\n",
              "    }\n",
              "</style>\n",
              "<table border=\"1\" class=\"dataframe\">\n",
              "  <thead>\n",
              "    <tr style=\"text-align: right;\">\n",
              "      <th></th>\n",
              "      <th>id</th>\n",
              "      <th>gender</th>\n",
              "      <th>age</th>\n",
              "      <th>hypertension</th>\n",
              "      <th>heart_disease</th>\n",
              "      <th>ever_married</th>\n",
              "      <th>work_type</th>\n",
              "      <th>Residence_type</th>\n",
              "      <th>avg_glucose_level</th>\n",
              "      <th>bmi</th>\n",
              "      <th>smoking_status</th>\n",
              "      <th>stroke</th>\n",
              "      <th>Smoker</th>\n",
              "    </tr>\n",
              "  </thead>\n",
              "  <tbody>\n",
              "    <tr>\n",
              "      <th>0</th>\n",
              "      <td>30669</td>\n",
              "      <td>Male</td>\n",
              "      <td>3.0</td>\n",
              "      <td>0</td>\n",
              "      <td>0</td>\n",
              "      <td>No</td>\n",
              "      <td>children</td>\n",
              "      <td>Rural</td>\n",
              "      <td>95.12</td>\n",
              "      <td>18.0</td>\n",
              "      <td>NaN</td>\n",
              "      <td>0</td>\n",
              "      <td>0</td>\n",
              "    </tr>\n",
              "    <tr>\n",
              "      <th>1</th>\n",
              "      <td>30468</td>\n",
              "      <td>Male</td>\n",
              "      <td>58.0</td>\n",
              "      <td>1</td>\n",
              "      <td>0</td>\n",
              "      <td>Yes</td>\n",
              "      <td>Private</td>\n",
              "      <td>Urban</td>\n",
              "      <td>87.96</td>\n",
              "      <td>39.2</td>\n",
              "      <td>never smoked</td>\n",
              "      <td>0</td>\n",
              "      <td>0</td>\n",
              "    </tr>\n",
              "    <tr>\n",
              "      <th>2</th>\n",
              "      <td>16523</td>\n",
              "      <td>Female</td>\n",
              "      <td>8.0</td>\n",
              "      <td>0</td>\n",
              "      <td>0</td>\n",
              "      <td>No</td>\n",
              "      <td>Private</td>\n",
              "      <td>Urban</td>\n",
              "      <td>110.89</td>\n",
              "      <td>17.6</td>\n",
              "      <td>NaN</td>\n",
              "      <td>0</td>\n",
              "      <td>0</td>\n",
              "    </tr>\n",
              "    <tr>\n",
              "      <th>3</th>\n",
              "      <td>56543</td>\n",
              "      <td>Female</td>\n",
              "      <td>70.0</td>\n",
              "      <td>0</td>\n",
              "      <td>0</td>\n",
              "      <td>Yes</td>\n",
              "      <td>Private</td>\n",
              "      <td>Rural</td>\n",
              "      <td>69.04</td>\n",
              "      <td>35.9</td>\n",
              "      <td>formerly smoked</td>\n",
              "      <td>0</td>\n",
              "      <td>1</td>\n",
              "    </tr>\n",
              "    <tr>\n",
              "      <th>4</th>\n",
              "      <td>46136</td>\n",
              "      <td>Male</td>\n",
              "      <td>14.0</td>\n",
              "      <td>0</td>\n",
              "      <td>0</td>\n",
              "      <td>No</td>\n",
              "      <td>Never_worked</td>\n",
              "      <td>Rural</td>\n",
              "      <td>161.28</td>\n",
              "      <td>19.1</td>\n",
              "      <td>NaN</td>\n",
              "      <td>0</td>\n",
              "      <td>0</td>\n",
              "    </tr>\n",
              "    <tr>\n",
              "      <th>...</th>\n",
              "      <td>...</td>\n",
              "      <td>...</td>\n",
              "      <td>...</td>\n",
              "      <td>...</td>\n",
              "      <td>...</td>\n",
              "      <td>...</td>\n",
              "      <td>...</td>\n",
              "      <td>...</td>\n",
              "      <td>...</td>\n",
              "      <td>...</td>\n",
              "      <td>...</td>\n",
              "      <td>...</td>\n",
              "      <td>...</td>\n",
              "    </tr>\n",
              "    <tr>\n",
              "      <th>43395</th>\n",
              "      <td>56196</td>\n",
              "      <td>Female</td>\n",
              "      <td>10.0</td>\n",
              "      <td>0</td>\n",
              "      <td>0</td>\n",
              "      <td>No</td>\n",
              "      <td>children</td>\n",
              "      <td>Urban</td>\n",
              "      <td>58.64</td>\n",
              "      <td>20.4</td>\n",
              "      <td>never smoked</td>\n",
              "      <td>0</td>\n",
              "      <td>0</td>\n",
              "    </tr>\n",
              "    <tr>\n",
              "      <th>43396</th>\n",
              "      <td>5450</td>\n",
              "      <td>Female</td>\n",
              "      <td>56.0</td>\n",
              "      <td>0</td>\n",
              "      <td>0</td>\n",
              "      <td>Yes</td>\n",
              "      <td>Govt_job</td>\n",
              "      <td>Urban</td>\n",
              "      <td>213.61</td>\n",
              "      <td>55.4</td>\n",
              "      <td>formerly smoked</td>\n",
              "      <td>0</td>\n",
              "      <td>1</td>\n",
              "    </tr>\n",
              "    <tr>\n",
              "      <th>43397</th>\n",
              "      <td>28375</td>\n",
              "      <td>Female</td>\n",
              "      <td>82.0</td>\n",
              "      <td>1</td>\n",
              "      <td>0</td>\n",
              "      <td>Yes</td>\n",
              "      <td>Private</td>\n",
              "      <td>Urban</td>\n",
              "      <td>91.94</td>\n",
              "      <td>28.9</td>\n",
              "      <td>formerly smoked</td>\n",
              "      <td>0</td>\n",
              "      <td>1</td>\n",
              "    </tr>\n",
              "    <tr>\n",
              "      <th>43398</th>\n",
              "      <td>27973</td>\n",
              "      <td>Male</td>\n",
              "      <td>40.0</td>\n",
              "      <td>0</td>\n",
              "      <td>0</td>\n",
              "      <td>Yes</td>\n",
              "      <td>Private</td>\n",
              "      <td>Urban</td>\n",
              "      <td>99.16</td>\n",
              "      <td>33.2</td>\n",
              "      <td>never smoked</td>\n",
              "      <td>0</td>\n",
              "      <td>0</td>\n",
              "    </tr>\n",
              "    <tr>\n",
              "      <th>43399</th>\n",
              "      <td>36271</td>\n",
              "      <td>Female</td>\n",
              "      <td>82.0</td>\n",
              "      <td>0</td>\n",
              "      <td>0</td>\n",
              "      <td>Yes</td>\n",
              "      <td>Private</td>\n",
              "      <td>Urban</td>\n",
              "      <td>79.48</td>\n",
              "      <td>20.6</td>\n",
              "      <td>never smoked</td>\n",
              "      <td>0</td>\n",
              "      <td>0</td>\n",
              "    </tr>\n",
              "  </tbody>\n",
              "</table>\n",
              "<p>43400 rows × 13 columns</p>\n",
              "</div>"
            ],
            "text/plain": [
              "          id  gender   age hypertension  heart_disease ever_married  \\\n",
              "0      30669    Male   3.0            0              0           No   \n",
              "1      30468    Male  58.0            1              0          Yes   \n",
              "2      16523  Female   8.0            0              0           No   \n",
              "3      56543  Female  70.0            0              0          Yes   \n",
              "4      46136    Male  14.0            0              0           No   \n",
              "...      ...     ...   ...          ...            ...          ...   \n",
              "43395  56196  Female  10.0            0              0           No   \n",
              "43396   5450  Female  56.0            0              0          Yes   \n",
              "43397  28375  Female  82.0            1              0          Yes   \n",
              "43398  27973    Male  40.0            0              0          Yes   \n",
              "43399  36271  Female  82.0            0              0          Yes   \n",
              "\n",
              "          work_type Residence_type  avg_glucose_level   bmi   smoking_status  \\\n",
              "0          children          Rural              95.12  18.0              NaN   \n",
              "1           Private          Urban              87.96  39.2     never smoked   \n",
              "2           Private          Urban             110.89  17.6              NaN   \n",
              "3           Private          Rural              69.04  35.9  formerly smoked   \n",
              "4      Never_worked          Rural             161.28  19.1              NaN   \n",
              "...             ...            ...                ...   ...              ...   \n",
              "43395      children          Urban              58.64  20.4     never smoked   \n",
              "43396      Govt_job          Urban             213.61  55.4  formerly smoked   \n",
              "43397       Private          Urban              91.94  28.9  formerly smoked   \n",
              "43398       Private          Urban              99.16  33.2     never smoked   \n",
              "43399       Private          Urban              79.48  20.6     never smoked   \n",
              "\n",
              "       stroke  Smoker  \n",
              "0           0       0  \n",
              "1           0       0  \n",
              "2           0       0  \n",
              "3           0       1  \n",
              "4           0       0  \n",
              "...       ...     ...  \n",
              "43395       0       0  \n",
              "43396       0       1  \n",
              "43397       0       1  \n",
              "43398       0       0  \n",
              "43399       0       0  \n",
              "\n",
              "[43400 rows x 13 columns]"
            ]
          },
          "execution_count": 29,
          "metadata": {},
          "output_type": "execute_result"
        }
      ],
      "source": [
        "def smoker(row):\n",
        "    if row['smoking_status'] == 'smokes':\n",
        "        return 2\n",
        "    elif row['smoking_status'] in ['formerly smoked', 'formerly smokes']:\n",
        "        return 1\n",
        "    else:\n",
        "        return 0\n",
        "stroke['Smoker'] = stroke.apply(smoker, axis=1)\n",
        "stroke"
      ]
    },
    {
      "cell_type": "code",
      "execution_count": 30,
      "metadata": {
        "trusted": true
      },
      "outputs": [],
      "source": [
        "#12. Define a function called \"riskScore\" that calculates a risk score based on whether the patient has hypertension, has heart disease and the bmi value.\n",
        "#   The function accepts scalar parameters:hypertension,heat_disease and bmi.\n",
        "#   The sum of hypertension and heart_disease contribute to the risk score. \n",
        "#   In addition, if bmi > 50, you should increment the risk score by 1.\n",
        "#   The header of the function is given below:"
      ]
    },
    {
      "cell_type": "code",
      "execution_count": 31,
      "metadata": {
        "trusted": true
      },
      "outputs": [],
      "source": [
        "def riskScore(hypertension, heart_disease, bmi):\n",
        "    risk = hypertension + heart_disease\n",
        "    risk += 1 if bmi > 50 else 0\n",
        "    return risk"
      ]
    },
    {
      "cell_type": "code",
      "execution_count": 32,
      "metadata": {
        "trusted": true
      },
      "outputs": [],
      "source": [
        "#13. Vectorize the function \"riskScore\" then call it with hypertension, heart_disease and bmi vectors of the stroke dataframe.\n",
        "#    The return value should be assigned to a new column named risk_score in the stroke dataframe.\n",
        "#    Print the first 5 values of \"risk_score\" column."
      ]
    },
    {
      "cell_type": "code",
      "execution_count": 33,
      "metadata": {
        "trusted": true
      },
      "outputs": [
        {
          "data": {
            "text/plain": [
              "0    0\n",
              "1    1\n",
              "2    0\n",
              "3    0\n",
              "4    0\n",
              "Name: risk_score, dtype: int64"
            ]
          },
          "execution_count": 33,
          "metadata": {},
          "output_type": "execute_result"
        }
      ],
      "source": [
        "import numpy as np\n",
        "stroke['hypertension'] = stroke['hypertension'].astype(int) # Convert to int because its dtype is object\n",
        "q13_vector = np.vectorize(riskScore)\n",
        "stroke['risk_score'] = q13_vector(stroke['hypertension'], stroke['heart_disease'], stroke['bmi'])\n",
        "stroke['risk_score'].head()"
      ]
    },
    {
      "cell_type": "code",
      "execution_count": 34,
      "metadata": {
        "trusted": true
      },
      "outputs": [],
      "source": [
        "#14. Show the average, min and max age per residentce_type and Work_type. Use agg function and rename the columns as min age,\n",
        "#    max age and avg age and also flatten the dataframe."
      ]
    },
    {
      "cell_type": "code",
      "execution_count": null,
      "metadata": {
        "trusted": true,
        "vscode": {
          "languageId": "javascript"
        }
      },
      "outputs": [
        {
          "data": {
            "text/html": [
              "<div>\n",
              "<style scoped>\n",
              "    .dataframe tbody tr th:only-of-type {\n",
              "        vertical-align: middle;\n",
              "    }\n",
              "\n",
              "    .dataframe tbody tr th {\n",
              "        vertical-align: top;\n",
              "    }\n",
              "\n",
              "    .dataframe thead th {\n",
              "        text-align: right;\n",
              "    }\n",
              "</style>\n",
              "<table border=\"1\" class=\"dataframe\">\n",
              "  <thead>\n",
              "    <tr style=\"text-align: right;\">\n",
              "      <th></th>\n",
              "      <th>Residence_type</th>\n",
              "      <th>work_type</th>\n",
              "      <th>min age</th>\n",
              "      <th>max age</th>\n",
              "      <th>avg age</th>\n",
              "    </tr>\n",
              "  </thead>\n",
              "  <tbody>\n",
              "    <tr>\n",
              "      <th>0</th>\n",
              "      <td>Rural</td>\n",
              "      <td>Govt_job</td>\n",
              "      <td>13.00</td>\n",
              "      <td>82.0</td>\n",
              "      <td>48.912307</td>\n",
              "    </tr>\n",
              "    <tr>\n",
              "      <th>1</th>\n",
              "      <td>Rural</td>\n",
              "      <td>Never_worked</td>\n",
              "      <td>13.00</td>\n",
              "      <td>31.0</td>\n",
              "      <td>16.916667</td>\n",
              "    </tr>\n",
              "    <tr>\n",
              "      <th>2</th>\n",
              "      <td>Rural</td>\n",
              "      <td>Private</td>\n",
              "      <td>13.00</td>\n",
              "      <td>82.0</td>\n",
              "      <td>44.976786</td>\n",
              "    </tr>\n",
              "    <tr>\n",
              "      <th>3</th>\n",
              "      <td>Rural</td>\n",
              "      <td>Self-employed</td>\n",
              "      <td>7.00</td>\n",
              "      <td>82.0</td>\n",
              "      <td>59.192799</td>\n",
              "    </tr>\n",
              "    <tr>\n",
              "      <th>4</th>\n",
              "      <td>Rural</td>\n",
              "      <td>children</td>\n",
              "      <td>0.08</td>\n",
              "      <td>16.0</td>\n",
              "      <td>6.809371</td>\n",
              "    </tr>\n",
              "    <tr>\n",
              "      <th>5</th>\n",
              "      <td>Urban</td>\n",
              "      <td>Govt_job</td>\n",
              "      <td>14.00</td>\n",
              "      <td>82.0</td>\n",
              "      <td>49.282098</td>\n",
              "    </tr>\n",
              "    <tr>\n",
              "      <th>6</th>\n",
              "      <td>Urban</td>\n",
              "      <td>Never_worked</td>\n",
              "      <td>13.00</td>\n",
              "      <td>64.0</td>\n",
              "      <td>18.516129</td>\n",
              "    </tr>\n",
              "    <tr>\n",
              "      <th>7</th>\n",
              "      <td>Urban</td>\n",
              "      <td>Private</td>\n",
              "      <td>8.00</td>\n",
              "      <td>82.0</td>\n",
              "      <td>45.052741</td>\n",
              "    </tr>\n",
              "    <tr>\n",
              "      <th>8</th>\n",
              "      <td>Urban</td>\n",
              "      <td>Self-employed</td>\n",
              "      <td>13.00</td>\n",
              "      <td>82.0</td>\n",
              "      <td>59.426097</td>\n",
              "    </tr>\n",
              "    <tr>\n",
              "      <th>9</th>\n",
              "      <td>Urban</td>\n",
              "      <td>children</td>\n",
              "      <td>0.08</td>\n",
              "      <td>16.0</td>\n",
              "      <td>6.588848</td>\n",
              "    </tr>\n",
              "  </tbody>\n",
              "</table>\n",
              "</div>"
            ],
            "text/plain": [
              "  Residence_type      work_type  min age  max age    avg age\n",
              "0          Rural       Govt_job    13.00     82.0  48.912307\n",
              "1          Rural   Never_worked    13.00     31.0  16.916667\n",
              "2          Rural        Private    13.00     82.0  44.976786\n",
              "3          Rural  Self-employed     7.00     82.0  59.192799\n",
              "4          Rural       children     0.08     16.0   6.809371\n",
              "5          Urban       Govt_job    14.00     82.0  49.282098\n",
              "6          Urban   Never_worked    13.00     64.0  18.516129\n",
              "7          Urban        Private     8.00     82.0  45.052741\n",
              "8          Urban  Self-employed    13.00     82.0  59.426097\n",
              "9          Urban       children     0.08     16.0   6.588848"
            ]
          },
          "execution_count": 35,
          "metadata": {},
          "output_type": "execute_result"
        }
      ],
      "source": [
        "stroke.groupby(['Residence_type', 'work_type'])['age'].agg(['min', 'max', 'mean']).rename(columns={'min': 'min age', 'max': 'max age', 'mean': 'avg age'}).reset_index()"
      ]
    },
    {
      "cell_type": "code",
      "execution_count": 36,
      "metadata": {
        "trusted": true
      },
      "outputs": [],
      "source": [
        "#15. Calculate a grouped zscore for avg_glucose_level value based on gender.  \n",
        "#    Also calculate a non-grouped zscore for avg_glucose_level value. \n",
        "#   Show the first 5 obs of each series. "
      ]
    },
    {
      "cell_type": "code",
      "execution_count": 37,
      "metadata": {},
      "outputs": [],
      "source": [
        "def zscore(series): # from scipy.stats import zscore\n",
        "    return (series - series.mean()) / series.std() if series.std() != 0 else 0"
      ]
    },
    {
      "cell_type": "code",
      "execution_count": 38,
      "metadata": {
        "trusted": true
      },
      "outputs": [
        {
          "data": {
            "text/plain": [
              "gender   \n",
              "Female  2    0.184665\n",
              "        3   -0.820770\n",
              "        5    2.588581\n",
              "        6   -0.615359\n",
              "        7    3.371307\n",
              "Name: avg_glucose_level, dtype: float64"
            ]
          },
          "execution_count": 38,
          "metadata": {},
          "output_type": "execute_result"
        }
      ],
      "source": [
        "q_15_groupedZscore = stroke.groupby('gender')['avg_glucose_level'].apply(zscore)\n",
        "q_15_groupedZscore.head()"
      ]
    },
    {
      "cell_type": "code",
      "execution_count": 39,
      "metadata": {},
      "outputs": [
        {
          "data": {
            "text/plain": [
              "0   -0.217174\n",
              "1   -0.383254\n",
              "2    0.148620\n",
              "3   -0.822113\n",
              "4    1.317442\n",
              "Name: avg_glucose_level, dtype: float64"
            ]
          },
          "execution_count": 39,
          "metadata": {},
          "output_type": "execute_result"
        }
      ],
      "source": [
        "q_15_ungroupedZscore = zscore(stroke['avg_glucose_level'])\n",
        "q_15_ungroupedZscore.head()"
      ]
    }
  ],
  "metadata": {
    "kernelspec": {
      "display_name": "Python 3",
      "language": "python",
      "name": "python3"
    },
    "language_info": {
      "codemirror_mode": {
        "name": "ipython",
        "version": 3
      },
      "file_extension": ".py",
      "mimetype": "text/x-python",
      "name": "python",
      "nbconvert_exporter": "python",
      "pygments_lexer": "ipython3",
      "version": "3.12.6"
    }
  },
  "nbformat": 4,
  "nbformat_minor": 4
}
