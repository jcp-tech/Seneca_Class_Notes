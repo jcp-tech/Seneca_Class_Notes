{
  "cells": [
    {
      "cell_type": "markdown",
      "metadata": {
        "id": "lRezksWMGPxs"
      },
      "source": [
        "# AIG150 Final Exam - Fall 2024\n",
        "## Max Marks = *75/75*\n",
        "## Time Allowed = *60 Minutes*\n",
        "\n",
        "## Instructions\n",
        "- You are allowed to bring a reference sheet (A4-both sided).\n",
        "- Print your name on top of the reference sheet. The sheet **must be submitted with the exam.**\n",
        "- As a Seneca student, you must conduct yourself in an honest and trustworthy manner in all aspects of your academic career. A dishonest attempt to obtain an academic advantage is considered an offense and will **not** be tolerated by the College.\n",
        "\n",
        "- Rename the file with the student’s name.\n",
        "- Once you are done, upload the file on BB **(ONLY ONE SUBMISSION IS ALLOWED)**.\n",
        "- The exam contains **15** questions in total.\n",
        "- Each question is worth **5** marks [Total **75** marks]."
      ]
    },
    {
      "cell_type": "code",
      "execution_count": null,
      "metadata": {},
      "outputs": [
        {
          "name": "stdout",
          "output_type": "stream",
          "text": [
            "Requirement already satisfied: matplotlib in c:\\users\\jonathanchackopattas\\appdata\\local\\programs\\python\\python312\\lib\\site-packages (3.10.0)\n",
            "Requirement already satisfied: pandas in c:\\users\\jonathanchackopattas\\appdata\\local\\programs\\python\\python312\\lib\\site-packages (2.2.3)\n",
            "Requirement already satisfied: contourpy>=1.0.1 in c:\\users\\jonathanchackopattas\\appdata\\local\\programs\\python\\python312\\lib\\site-packages (from matplotlib) (1.2.1)\n",
            "Requirement already satisfied: cycler>=0.10 in c:\\users\\jonathanchackopattas\\appdata\\local\\programs\\python\\python312\\lib\\site-packages (from matplotlib) (0.12.1)\n",
            "Requirement already satisfied: fonttools>=4.22.0 in c:\\users\\jonathanchackopattas\\appdata\\local\\programs\\python\\python312\\lib\\site-packages (from matplotlib) (4.53.1)\n",
            "Requirement already satisfied: kiwisolver>=1.3.1 in c:\\users\\jonathanchackopattas\\appdata\\local\\programs\\python\\python312\\lib\\site-packages (from matplotlib) (1.4.5)\n",
            "Requirement already satisfied: numpy>=1.23 in c:\\users\\jonathanchackopattas\\appdata\\local\\programs\\python\\python312\\lib\\site-packages (from matplotlib) (2.1.3)\n",
            "Requirement already satisfied: packaging>=20.0 in c:\\users\\jonathanchackopattas\\appdata\\local\\programs\\python\\python312\\lib\\site-packages (from matplotlib) (24.2)\n",
            "Requirement already satisfied: pillow>=8 in c:\\users\\jonathanchackopattas\\appdata\\local\\programs\\python\\python312\\lib\\site-packages (from matplotlib) (10.4.0)\n",
            "Requirement already satisfied: pyparsing>=2.3.1 in c:\\users\\jonathanchackopattas\\appdata\\local\\programs\\python\\python312\\lib\\site-packages (from matplotlib) (3.1.2)\n",
            "Requirement already satisfied: python-dateutil>=2.7 in c:\\users\\jonathanchackopattas\\appdata\\local\\programs\\python\\python312\\lib\\site-packages (from matplotlib) (2.9.0.post0)\n",
            "Requirement already satisfied: pytz>=2020.1 in c:\\users\\jonathanchackopattas\\appdata\\local\\programs\\python\\python312\\lib\\site-packages (from pandas) (2024.1)\n",
            "Requirement already satisfied: tzdata>=2022.7 in c:\\users\\jonathanchackopattas\\appdata\\local\\programs\\python\\python312\\lib\\site-packages (from pandas) (2024.1)\n",
            "Requirement already satisfied: six>=1.5 in c:\\users\\jonathanchackopattas\\appdata\\local\\programs\\python\\python312\\lib\\site-packages (from python-dateutil>=2.7->matplotlib) (1.16.0)\n",
            "Note: you may need to restart the kernel to use updated packages.\n"
          ]
        }
      ],
      "source": [
        "# %pip install matplotlib pandas"
      ]
    },
    {
      "cell_type": "code",
      "execution_count": 75,
      "metadata": {},
      "outputs": [],
      "source": [
        "import matplotlib.pyplot as plt\n",
        "# import numpy as np\n",
        "import pandas as pd\n",
        "import warnings\n",
        "\n",
        "warnings.filterwarnings(\"ignore\")"
      ]
    },
    {
      "cell_type": "markdown",
      "metadata": {
        "id": "412_K5x_G30v"
      },
      "source": [
        "Download the three csv files from BlackBoard (THREE IN TOTAL):\n",
        "- customer.csv\n",
        "- height_weight.csv\n",
        "- invoice.csv"
      ]
    },
    {
      "cell_type": "code",
      "execution_count": 76,
      "metadata": {
        "id": "5we8zfO9GAgR",
        "trusted": true
      },
      "outputs": [
        {
          "data": {
            "application/vnd.microsoft.datawrangler.viewer.v0+json": {
              "columns": [
                {
                  "name": "index",
                  "rawType": "int64",
                  "type": "integer"
                },
                {
                  "name": "sex",
                  "rawType": "object",
                  "type": "string"
                },
                {
                  "name": "tv",
                  "rawType": "float64",
                  "type": "float"
                },
                {
                  "name": "computer",
                  "rawType": "float64",
                  "type": "float"
                },
                {
                  "name": "sleep",
                  "rawType": "float64",
                  "type": "float"
                },
                {
                  "name": "height",
                  "rawType": "float64",
                  "type": "float"
                },
                {
                  "name": "momheight",
                  "rawType": "float64",
                  "type": "float"
                },
                {
                  "name": "dadheight",
                  "rawType": "float64",
                  "type": "float"
                },
                {
                  "name": "exercise",
                  "rawType": "float64",
                  "type": "float"
                },
                {
                  "name": "gpa",
                  "rawType": "float64",
                  "type": "float"
                }
              ],
              "conversionMethod": "pd.DataFrame",
              "ref": "1a68a5aa-0c50-4dc2-bedb-1a77057adb70",
              "rows": [
                [
                  "0",
                  "Female",
                  "13.0",
                  "10.0",
                  "3.5",
                  "66.0",
                  "66.0",
                  "71.0",
                  "10.0",
                  "4.0"
                ],
                [
                  "1",
                  "Male",
                  "20.0",
                  "7.0",
                  "9.0",
                  "72.0",
                  "64.0",
                  "65.0",
                  "2.0",
                  "2.3"
                ],
                [
                  "2",
                  "Male",
                  "15.0",
                  "15.0",
                  "6.0",
                  "68.0",
                  "62.0",
                  "74.0",
                  "3.0",
                  "2.6"
                ],
                [
                  "3",
                  "Male",
                  "8.0",
                  "20.0",
                  "6.0",
                  "68.0",
                  "59.0",
                  "70.0",
                  "6.0",
                  "2.8"
                ],
                [
                  "4",
                  "Female",
                  "2.5",
                  "10.0",
                  "5.0",
                  "64.0",
                  "65.0",
                  "70.0",
                  "6.5",
                  "2.62"
                ],
                [
                  "5",
                  "Male",
                  "2.0",
                  "14.0",
                  "9.0",
                  "68.5",
                  "60.0",
                  "68.0",
                  "2.0",
                  "2.2"
                ],
                [
                  "6",
                  "Female",
                  "4.0",
                  "28.0",
                  "8.5",
                  "69.0",
                  "66.0",
                  "76.0",
                  "3.0",
                  "3.78"
                ],
                [
                  "7",
                  "Female",
                  "8.0",
                  "10.0",
                  "7.0",
                  "66.0",
                  "63.0",
                  "70.0",
                  "4.5",
                  "3.2"
                ],
                [
                  "8",
                  "Male",
                  "1.0",
                  "15.0",
                  "8.0",
                  "70.0",
                  "68.0",
                  "71.0",
                  "3.0",
                  "3.31"
                ],
                [
                  "9",
                  "Male",
                  "8.0",
                  "25.0",
                  "4.5",
                  "67.0",
                  "63.0",
                  "66.0",
                  "6.0",
                  "3.39"
                ],
                [
                  "10",
                  "Male",
                  "3.5",
                  "9.0",
                  "8.0",
                  "68.0",
                  "62.0",
                  "64.0",
                  "8.0",
                  "3.0"
                ],
                [
                  "11",
                  "Female",
                  "11.0",
                  "20.0",
                  "5.0",
                  "68.0",
                  "64.0",
                  "69.0",
                  "0.0",
                  "2.5"
                ],
                [
                  "12",
                  "Male",
                  "10.0",
                  "14.0",
                  "8.0",
                  "68.0",
                  "61.0",
                  "72.0",
                  "10.0",
                  "2.8"
                ],
                [
                  "13",
                  "Male",
                  "1.0",
                  "84.0",
                  "5.0",
                  "61.0",
                  "62.0",
                  "62.0",
                  "3.0",
                  "2.34"
                ],
                [
                  "14",
                  "Female",
                  "10.0",
                  "11.0",
                  "9.0",
                  "65.0",
                  "62.0",
                  "66.0",
                  "5.0",
                  null
                ],
                [
                  "15",
                  "Female",
                  "10.0",
                  "1.0",
                  "9.0",
                  "64.0",
                  "70.0",
                  "73.0",
                  "4.0",
                  "2.4"
                ],
                [
                  "16",
                  "Female",
                  "1.0",
                  "5.0",
                  "6.5",
                  "65.0",
                  "70.0",
                  "75.0",
                  "3.0",
                  "1.05"
                ],
                [
                  "17",
                  "Male",
                  "2.0",
                  "6.0",
                  "5.0",
                  "71.0",
                  "62.0",
                  "69.0",
                  "20.0",
                  "3.25"
                ],
                [
                  "18",
                  "Male",
                  "40.0",
                  "4.0",
                  "4.0",
                  "68.0",
                  "54.0",
                  "68.0",
                  "4.5",
                  "3.5"
                ],
                [
                  "19",
                  "Male",
                  "10.0",
                  "10.0",
                  "8.5",
                  "77.0",
                  "64.0",
                  "74.0",
                  "10.0",
                  "2.2"
                ],
                [
                  "20",
                  "Female",
                  "30.0",
                  "30.0",
                  "9.5",
                  "68.0",
                  "68.0",
                  "69.0",
                  "1.0",
                  "2.5"
                ],
                [
                  "21",
                  "Male",
                  "1.5",
                  "8.0",
                  "8.5",
                  "67.0",
                  "64.0",
                  "66.0",
                  "5.0",
                  null
                ],
                [
                  "22",
                  "Male",
                  "10.0",
                  "12.0",
                  "9.0",
                  "75.0",
                  "68.0",
                  "73.0",
                  "7.0",
                  "3.0"
                ],
                [
                  "23",
                  "Male",
                  "15.0",
                  "5.0",
                  "6.0",
                  "72.0",
                  "67.0",
                  "71.0",
                  "6.0",
                  "3.6"
                ],
                [
                  "24",
                  "Male",
                  "4.0",
                  "5.0",
                  "6.5",
                  "68.0",
                  "66.0",
                  "68.0",
                  "9.0",
                  "3.16"
                ],
                [
                  "25",
                  "Male",
                  "6.0",
                  "6.0",
                  "5.0",
                  "72.0",
                  "62.0",
                  "70.0",
                  "10.0",
                  "2.4"
                ],
                [
                  "26",
                  "Female",
                  "100.0",
                  "2.0",
                  "7.0",
                  "66.0",
                  "60.0",
                  "77.0",
                  "3.0",
                  "2.65"
                ],
                [
                  "27",
                  "Female",
                  "15.0",
                  "40.0",
                  "5.0",
                  "60.0",
                  "59.0",
                  "62.0",
                  "10.0",
                  "2.6"
                ],
                [
                  "28",
                  "Female",
                  "1.0",
                  "14.0",
                  "6.0",
                  "60.0",
                  "62.0",
                  "63.0",
                  "2.0",
                  null
                ],
                [
                  "29",
                  "Male",
                  "3.5",
                  "22.5",
                  "7.0",
                  "66.0",
                  "60.0",
                  "64.0",
                  "3.0",
                  "3.4"
                ],
                [
                  "30",
                  "Male",
                  "10.0",
                  "20.0",
                  "8.0",
                  "75.0",
                  "64.0",
                  "67.0",
                  "5.0",
                  "4.0"
                ],
                [
                  "31",
                  "Male",
                  "1.0",
                  "10.0",
                  "6.5",
                  "73.0",
                  "60.0",
                  "67.0",
                  "8.0",
                  "3.0"
                ],
                [
                  "32",
                  "Female",
                  "1.0",
                  "3.0",
                  "7.0",
                  "64.0",
                  "60.0",
                  "72.0",
                  "3.0",
                  null
                ],
                [
                  "33",
                  "Female",
                  "6.0",
                  "3.0",
                  "7.0",
                  "70.0",
                  "62.0",
                  "74.0",
                  "10.0",
                  "3.28"
                ],
                [
                  "34",
                  "Female",
                  "1.5",
                  "5.5",
                  "5.5",
                  "64.0",
                  "61.0",
                  "70.0",
                  "1.5",
                  "3.2"
                ],
                [
                  "35",
                  "Female",
                  "4.0",
                  "1.0",
                  "7.5",
                  "63.0",
                  "61.0",
                  "70.0",
                  "4.0",
                  "2.81"
                ],
                [
                  "36",
                  "Female",
                  "10.0",
                  "5.0",
                  "9.0",
                  "61.0",
                  "60.0",
                  "67.0",
                  "3.0",
                  "2.87"
                ],
                [
                  "37",
                  "Female",
                  "18.0",
                  "14.0",
                  "7.0",
                  "69.0",
                  "65.0",
                  "68.0",
                  "5.0",
                  "3.19"
                ],
                [
                  "38",
                  "Male",
                  "20.0",
                  "15.0",
                  "6.5",
                  "73.0",
                  "67.0",
                  "73.0",
                  "4.0",
                  "1.98"
                ],
                [
                  "39",
                  "Female",
                  "4.0",
                  "6.0",
                  "6.0",
                  "63.0",
                  "64.0",
                  "65.0",
                  "4.0",
                  "1.9"
                ],
                [
                  "40",
                  "Male",
                  "20.0",
                  "25.0",
                  "9.0",
                  "70.0",
                  "60.0",
                  "64.0",
                  "5.0",
                  "2.51"
                ],
                [
                  "41",
                  "Male",
                  "5.0",
                  "20.0",
                  "4.0",
                  "70.0",
                  "64.0",
                  "68.0",
                  "2.0",
                  "3.2"
                ],
                [
                  "42",
                  "Male",
                  "0.0",
                  "30.0",
                  "3.5",
                  "69.0",
                  "63.0",
                  "65.0",
                  "6.0",
                  "3.04"
                ],
                [
                  "43",
                  "Male",
                  "11.0",
                  "17.0",
                  "4.5",
                  "76.0",
                  "66.0",
                  "72.0",
                  "4.0",
                  "2.5"
                ],
                [
                  "44",
                  "Female",
                  "0.0",
                  "30.0",
                  "8.5",
                  "66.0",
                  "66.0",
                  "66.0",
                  "2.0",
                  "2.0"
                ],
                [
                  "45",
                  "Female",
                  "1.0",
                  "8.5",
                  "7.0",
                  "65.0",
                  "64.0",
                  "70.0",
                  "4.0",
                  "2.6"
                ],
                [
                  "46",
                  "Female",
                  "2.0",
                  "10.0",
                  "11.0",
                  "64.0",
                  "62.0",
                  "68.0",
                  "2.0",
                  "3.06"
                ],
                [
                  "47",
                  "Female",
                  "8.0",
                  "7.0",
                  "8.0",
                  "66.0",
                  "64.0",
                  "73.0",
                  "6.0",
                  "2.8"
                ],
                [
                  "48",
                  "Female",
                  "1.0",
                  "5.0",
                  "4.0",
                  "65.0",
                  "61.0",
                  "67.0",
                  "3.0",
                  null
                ],
                [
                  "49",
                  "Female",
                  "3.0",
                  "8.0",
                  "7.0",
                  "63.0",
                  "60.0",
                  "67.0",
                  "2.0",
                  "3.3"
                ]
              ],
              "shape": {
                "columns": 9,
                "rows": 148
              }
            },
            "text/html": [
              "<div>\n",
              "<style scoped>\n",
              "    .dataframe tbody tr th:only-of-type {\n",
              "        vertical-align: middle;\n",
              "    }\n",
              "\n",
              "    .dataframe tbody tr th {\n",
              "        vertical-align: top;\n",
              "    }\n",
              "\n",
              "    .dataframe thead th {\n",
              "        text-align: right;\n",
              "    }\n",
              "</style>\n",
              "<table border=\"1\" class=\"dataframe\">\n",
              "  <thead>\n",
              "    <tr style=\"text-align: right;\">\n",
              "      <th></th>\n",
              "      <th>sex</th>\n",
              "      <th>tv</th>\n",
              "      <th>computer</th>\n",
              "      <th>sleep</th>\n",
              "      <th>height</th>\n",
              "      <th>momheight</th>\n",
              "      <th>dadheight</th>\n",
              "      <th>exercise</th>\n",
              "      <th>gpa</th>\n",
              "    </tr>\n",
              "  </thead>\n",
              "  <tbody>\n",
              "    <tr>\n",
              "      <th>0</th>\n",
              "      <td>Female</td>\n",
              "      <td>13.0</td>\n",
              "      <td>10.0</td>\n",
              "      <td>3.5</td>\n",
              "      <td>66.0</td>\n",
              "      <td>66.0</td>\n",
              "      <td>71.0</td>\n",
              "      <td>10.0</td>\n",
              "      <td>4.00</td>\n",
              "    </tr>\n",
              "    <tr>\n",
              "      <th>1</th>\n",
              "      <td>Male</td>\n",
              "      <td>20.0</td>\n",
              "      <td>7.0</td>\n",
              "      <td>9.0</td>\n",
              "      <td>72.0</td>\n",
              "      <td>64.0</td>\n",
              "      <td>65.0</td>\n",
              "      <td>2.0</td>\n",
              "      <td>2.30</td>\n",
              "    </tr>\n",
              "    <tr>\n",
              "      <th>2</th>\n",
              "      <td>Male</td>\n",
              "      <td>15.0</td>\n",
              "      <td>15.0</td>\n",
              "      <td>6.0</td>\n",
              "      <td>68.0</td>\n",
              "      <td>62.0</td>\n",
              "      <td>74.0</td>\n",
              "      <td>3.0</td>\n",
              "      <td>2.60</td>\n",
              "    </tr>\n",
              "    <tr>\n",
              "      <th>3</th>\n",
              "      <td>Male</td>\n",
              "      <td>8.0</td>\n",
              "      <td>20.0</td>\n",
              "      <td>6.0</td>\n",
              "      <td>68.0</td>\n",
              "      <td>59.0</td>\n",
              "      <td>70.0</td>\n",
              "      <td>6.0</td>\n",
              "      <td>2.80</td>\n",
              "    </tr>\n",
              "    <tr>\n",
              "      <th>4</th>\n",
              "      <td>Female</td>\n",
              "      <td>2.5</td>\n",
              "      <td>10.0</td>\n",
              "      <td>5.0</td>\n",
              "      <td>64.0</td>\n",
              "      <td>65.0</td>\n",
              "      <td>70.0</td>\n",
              "      <td>6.5</td>\n",
              "      <td>2.62</td>\n",
              "    </tr>\n",
              "    <tr>\n",
              "      <th>...</th>\n",
              "      <td>...</td>\n",
              "      <td>...</td>\n",
              "      <td>...</td>\n",
              "      <td>...</td>\n",
              "      <td>...</td>\n",
              "      <td>...</td>\n",
              "      <td>...</td>\n",
              "      <td>...</td>\n",
              "      <td>...</td>\n",
              "    </tr>\n",
              "    <tr>\n",
              "      <th>143</th>\n",
              "      <td>Female</td>\n",
              "      <td>5.0</td>\n",
              "      <td>35.0</td>\n",
              "      <td>5.0</td>\n",
              "      <td>65.0</td>\n",
              "      <td>69.0</td>\n",
              "      <td>72.0</td>\n",
              "      <td>5.0</td>\n",
              "      <td>2.18</td>\n",
              "    </tr>\n",
              "    <tr>\n",
              "      <th>144</th>\n",
              "      <td>Male</td>\n",
              "      <td>8.0</td>\n",
              "      <td>32.0</td>\n",
              "      <td>6.0</td>\n",
              "      <td>72.0</td>\n",
              "      <td>65.0</td>\n",
              "      <td>71.0</td>\n",
              "      <td>1.5</td>\n",
              "      <td>2.80</td>\n",
              "    </tr>\n",
              "    <tr>\n",
              "      <th>145</th>\n",
              "      <td>Male</td>\n",
              "      <td>9.0</td>\n",
              "      <td>7.0</td>\n",
              "      <td>7.0</td>\n",
              "      <td>75.0</td>\n",
              "      <td>68.0</td>\n",
              "      <td>74.0</td>\n",
              "      <td>7.0</td>\n",
              "      <td>3.50</td>\n",
              "    </tr>\n",
              "    <tr>\n",
              "      <th>146</th>\n",
              "      <td>Male</td>\n",
              "      <td>1.0</td>\n",
              "      <td>10.0</td>\n",
              "      <td>5.0</td>\n",
              "      <td>72.0</td>\n",
              "      <td>60.0</td>\n",
              "      <td>74.0</td>\n",
              "      <td>3.0</td>\n",
              "      <td>4.00</td>\n",
              "    </tr>\n",
              "    <tr>\n",
              "      <th>147</th>\n",
              "      <td>Female</td>\n",
              "      <td>5.0</td>\n",
              "      <td>2.0</td>\n",
              "      <td>6.0</td>\n",
              "      <td>64.0</td>\n",
              "      <td>62.0</td>\n",
              "      <td>66.0</td>\n",
              "      <td>6.0</td>\n",
              "      <td>4.00</td>\n",
              "    </tr>\n",
              "  </tbody>\n",
              "</table>\n",
              "<p>148 rows × 9 columns</p>\n",
              "</div>"
            ],
            "text/plain": [
              "        sex    tv  computer  sleep  height  momheight  dadheight  exercise  \\\n",
              "0    Female  13.0      10.0    3.5    66.0       66.0       71.0      10.0   \n",
              "1      Male  20.0       7.0    9.0    72.0       64.0       65.0       2.0   \n",
              "2      Male  15.0      15.0    6.0    68.0       62.0       74.0       3.0   \n",
              "3      Male   8.0      20.0    6.0    68.0       59.0       70.0       6.0   \n",
              "4    Female   2.5      10.0    5.0    64.0       65.0       70.0       6.5   \n",
              "..      ...   ...       ...    ...     ...        ...        ...       ...   \n",
              "143  Female   5.0      35.0    5.0    65.0       69.0       72.0       5.0   \n",
              "144    Male   8.0      32.0    6.0    72.0       65.0       71.0       1.5   \n",
              "145    Male   9.0       7.0    7.0    75.0       68.0       74.0       7.0   \n",
              "146    Male   1.0      10.0    5.0    72.0       60.0       74.0       3.0   \n",
              "147  Female   5.0       2.0    6.0    64.0       62.0       66.0       6.0   \n",
              "\n",
              "      gpa  \n",
              "0    4.00  \n",
              "1    2.30  \n",
              "2    2.60  \n",
              "3    2.80  \n",
              "4    2.62  \n",
              "..    ...  \n",
              "143  2.18  \n",
              "144  2.80  \n",
              "145  3.50  \n",
              "146  4.00  \n",
              "147  4.00  \n",
              "\n",
              "[148 rows x 9 columns]"
            ]
          },
          "execution_count": 76,
          "metadata": {},
          "output_type": "execute_result"
        }
      ],
      "source": [
        "hw=pd.read_csv('height_weight.csv')\n",
        "hw"
      ]
    },
    {
      "cell_type": "markdown",
      "metadata": {
        "id": "nyjM9O-yG8aJ"
      },
      "source": [
        "# Using dataframe hw, complete questions 1-10."
      ]
    },
    {
      "cell_type": "markdown",
      "metadata": {
        "id": "oQGM3zu8HJEz"
      },
      "source": [
        "1. Replace all female occurrences with 'f' and all male occurrences with 'm' under the sex column in the hw dataframe."
      ]
    },
    {
      "cell_type": "code",
      "execution_count": 77,
      "metadata": {
        "id": "gl3a6oAxHTVb"
      },
      "outputs": [
        {
          "data": {
            "text/plain": [
              "sex\n",
              "f    81\n",
              "m    67\n",
              "Name: count, dtype: int64"
            ]
          },
          "execution_count": 77,
          "metadata": {},
          "output_type": "execute_result"
        }
      ],
      "source": [
        "hw['sex'] = hw['sex'].replace({'Female': 'f', 'Male': 'm'})\n",
        "hw.value_counts('sex')"
      ]
    },
    {
      "cell_type": "markdown",
      "metadata": {
        "id": "NPiXZrQ8HNoV"
      },
      "source": [
        "2. Add a column named 'tall' to the hw dataframe, that takes the value \"1\" if height is greater than the height of mom and dad, and '0' otherwise."
      ]
    },
    {
      "cell_type": "code",
      "execution_count": 78,
      "metadata": {
        "id": "K30x6O1nGAgT",
        "trusted": true
      },
      "outputs": [
        {
          "data": {
            "text/plain": [
              "tall\n",
              "0    107\n",
              "1     41\n",
              "Name: count, dtype: int64"
            ]
          },
          "execution_count": 78,
          "metadata": {},
          "output_type": "execute_result"
        }
      ],
      "source": [
        "hw['tall'] = ((hw['height'] > hw['momheight']) & (hw['height'] > hw['dadheight'])).astype(int)\n",
        "hw['tall'].value_counts()"
      ]
    },
    {
      "cell_type": "markdown",
      "metadata": {
        "id": "v4IbfTcTHU-h"
      },
      "source": [
        "3. Write the code to show the rows of the hw dataframe where there are outliers for the \"sleep\" variable.\n",
        "- Outliers should be considered based on the mean and standard deviation method.\n",
        "- Any value greater than the mean+2std_dev or lower than mean +2std_dev is considered as outlier."
      ]
    },
    {
      "cell_type": "code",
      "execution_count": 79,
      "metadata": {
        "id": "84g96HF5GAgV",
        "trusted": true
      },
      "outputs": [
        {
          "data": {
            "application/vnd.microsoft.datawrangler.viewer.v0+json": {
              "columns": [
                {
                  "name": "index",
                  "rawType": "int64",
                  "type": "integer"
                },
                {
                  "name": "sex",
                  "rawType": "object",
                  "type": "string"
                },
                {
                  "name": "tv",
                  "rawType": "float64",
                  "type": "float"
                },
                {
                  "name": "computer",
                  "rawType": "float64",
                  "type": "float"
                },
                {
                  "name": "sleep",
                  "rawType": "float64",
                  "type": "float"
                },
                {
                  "name": "height",
                  "rawType": "float64",
                  "type": "float"
                },
                {
                  "name": "momheight",
                  "rawType": "float64",
                  "type": "float"
                },
                {
                  "name": "dadheight",
                  "rawType": "float64",
                  "type": "float"
                },
                {
                  "name": "exercise",
                  "rawType": "float64",
                  "type": "float"
                },
                {
                  "name": "gpa",
                  "rawType": "float64",
                  "type": "float"
                },
                {
                  "name": "tall",
                  "rawType": "int64",
                  "type": "integer"
                }
              ],
              "conversionMethod": "pd.DataFrame",
              "ref": "eae3bec3-88e5-450e-abe2-babcd4d681e6",
              "rows": [
                [
                  "0",
                  "f",
                  "13.0",
                  "10.0",
                  "3.5",
                  "66.0",
                  "66.0",
                  "71.0",
                  "10.0",
                  "4.0",
                  "0"
                ],
                [
                  "42",
                  "m",
                  "0.0",
                  "30.0",
                  "3.5",
                  "69.0",
                  "63.0",
                  "65.0",
                  "6.0",
                  "3.04",
                  "1"
                ],
                [
                  "46",
                  "f",
                  "2.0",
                  "10.0",
                  "11.0",
                  "64.0",
                  "62.0",
                  "68.0",
                  "2.0",
                  "3.06",
                  "0"
                ],
                [
                  "63",
                  "m",
                  "10.0",
                  "5.0",
                  "2.0",
                  "66.0",
                  "60.0",
                  "65.0",
                  "1.0",
                  null,
                  "1"
                ],
                [
                  "69",
                  "m",
                  "0.0",
                  "10.0",
                  "12.0",
                  "71.0",
                  "64.0",
                  "72.0",
                  "2.0",
                  "1.85",
                  "0"
                ],
                [
                  "95",
                  "f",
                  "35.0",
                  "21.0",
                  "10.5",
                  "63.0",
                  "68.0",
                  "75.0",
                  "2.5",
                  "2.83",
                  "0"
                ],
                [
                  "110",
                  "f",
                  "1.0",
                  "13.5",
                  "3.0",
                  "62.0",
                  "60.0",
                  "68.0",
                  "3.0",
                  "3.9",
                  "0"
                ]
              ],
              "shape": {
                "columns": 10,
                "rows": 7
              }
            },
            "text/html": [
              "<div>\n",
              "<style scoped>\n",
              "    .dataframe tbody tr th:only-of-type {\n",
              "        vertical-align: middle;\n",
              "    }\n",
              "\n",
              "    .dataframe tbody tr th {\n",
              "        vertical-align: top;\n",
              "    }\n",
              "\n",
              "    .dataframe thead th {\n",
              "        text-align: right;\n",
              "    }\n",
              "</style>\n",
              "<table border=\"1\" class=\"dataframe\">\n",
              "  <thead>\n",
              "    <tr style=\"text-align: right;\">\n",
              "      <th></th>\n",
              "      <th>sex</th>\n",
              "      <th>tv</th>\n",
              "      <th>computer</th>\n",
              "      <th>sleep</th>\n",
              "      <th>height</th>\n",
              "      <th>momheight</th>\n",
              "      <th>dadheight</th>\n",
              "      <th>exercise</th>\n",
              "      <th>gpa</th>\n",
              "      <th>tall</th>\n",
              "    </tr>\n",
              "  </thead>\n",
              "  <tbody>\n",
              "    <tr>\n",
              "      <th>0</th>\n",
              "      <td>f</td>\n",
              "      <td>13.0</td>\n",
              "      <td>10.0</td>\n",
              "      <td>3.5</td>\n",
              "      <td>66.0</td>\n",
              "      <td>66.0</td>\n",
              "      <td>71.0</td>\n",
              "      <td>10.0</td>\n",
              "      <td>4.00</td>\n",
              "      <td>0</td>\n",
              "    </tr>\n",
              "    <tr>\n",
              "      <th>42</th>\n",
              "      <td>m</td>\n",
              "      <td>0.0</td>\n",
              "      <td>30.0</td>\n",
              "      <td>3.5</td>\n",
              "      <td>69.0</td>\n",
              "      <td>63.0</td>\n",
              "      <td>65.0</td>\n",
              "      <td>6.0</td>\n",
              "      <td>3.04</td>\n",
              "      <td>1</td>\n",
              "    </tr>\n",
              "    <tr>\n",
              "      <th>46</th>\n",
              "      <td>f</td>\n",
              "      <td>2.0</td>\n",
              "      <td>10.0</td>\n",
              "      <td>11.0</td>\n",
              "      <td>64.0</td>\n",
              "      <td>62.0</td>\n",
              "      <td>68.0</td>\n",
              "      <td>2.0</td>\n",
              "      <td>3.06</td>\n",
              "      <td>0</td>\n",
              "    </tr>\n",
              "    <tr>\n",
              "      <th>63</th>\n",
              "      <td>m</td>\n",
              "      <td>10.0</td>\n",
              "      <td>5.0</td>\n",
              "      <td>2.0</td>\n",
              "      <td>66.0</td>\n",
              "      <td>60.0</td>\n",
              "      <td>65.0</td>\n",
              "      <td>1.0</td>\n",
              "      <td>NaN</td>\n",
              "      <td>1</td>\n",
              "    </tr>\n",
              "    <tr>\n",
              "      <th>69</th>\n",
              "      <td>m</td>\n",
              "      <td>0.0</td>\n",
              "      <td>10.0</td>\n",
              "      <td>12.0</td>\n",
              "      <td>71.0</td>\n",
              "      <td>64.0</td>\n",
              "      <td>72.0</td>\n",
              "      <td>2.0</td>\n",
              "      <td>1.85</td>\n",
              "      <td>0</td>\n",
              "    </tr>\n",
              "    <tr>\n",
              "      <th>95</th>\n",
              "      <td>f</td>\n",
              "      <td>35.0</td>\n",
              "      <td>21.0</td>\n",
              "      <td>10.5</td>\n",
              "      <td>63.0</td>\n",
              "      <td>68.0</td>\n",
              "      <td>75.0</td>\n",
              "      <td>2.5</td>\n",
              "      <td>2.83</td>\n",
              "      <td>0</td>\n",
              "    </tr>\n",
              "    <tr>\n",
              "      <th>110</th>\n",
              "      <td>f</td>\n",
              "      <td>1.0</td>\n",
              "      <td>13.5</td>\n",
              "      <td>3.0</td>\n",
              "      <td>62.0</td>\n",
              "      <td>60.0</td>\n",
              "      <td>68.0</td>\n",
              "      <td>3.0</td>\n",
              "      <td>3.90</td>\n",
              "      <td>0</td>\n",
              "    </tr>\n",
              "  </tbody>\n",
              "</table>\n",
              "</div>"
            ],
            "text/plain": [
              "    sex    tv  computer  sleep  height  momheight  dadheight  exercise   gpa  \\\n",
              "0     f  13.0      10.0    3.5    66.0       66.0       71.0      10.0  4.00   \n",
              "42    m   0.0      30.0    3.5    69.0       63.0       65.0       6.0  3.04   \n",
              "46    f   2.0      10.0   11.0    64.0       62.0       68.0       2.0  3.06   \n",
              "63    m  10.0       5.0    2.0    66.0       60.0       65.0       1.0   NaN   \n",
              "69    m   0.0      10.0   12.0    71.0       64.0       72.0       2.0  1.85   \n",
              "95    f  35.0      21.0   10.5    63.0       68.0       75.0       2.5  2.83   \n",
              "110   f   1.0      13.5    3.0    62.0       60.0       68.0       3.0  3.90   \n",
              "\n",
              "     tall  \n",
              "0       0  \n",
              "42      1  \n",
              "46      0  \n",
              "63      1  \n",
              "69      0  \n",
              "95      0  \n",
              "110     0  "
            ]
          },
          "execution_count": 79,
          "metadata": {},
          "output_type": "execute_result"
        }
      ],
      "source": [
        "mean = hw[\"sleep\"].mean()\n",
        "std_dev = hw[\"sleep\"].std()\n",
        "outliers = hw[(hw[\"sleep\"] > mean + 2*std_dev) | (hw[\"sleep\"] < mean - 2*std_dev)]\n",
        "outliers"
      ]
    },
    {
      "cell_type": "markdown",
      "metadata": {
        "id": "R4V75FpQHmuP"
      },
      "source": [
        "4. For female observations, replace the missing values under the gpa column with the mean gpa for all female observations."
      ]
    },
    {
      "cell_type": "code",
      "execution_count": 80,
      "metadata": {
        "id": "8hF0LcKTGAgW",
        "trusted": true
      },
      "outputs": [
        {
          "data": {
            "text/plain": [
              "0"
            ]
          },
          "execution_count": 80,
          "metadata": {},
          "output_type": "execute_result"
        }
      ],
      "source": [
        "hw.loc[(hw['sex'] == 'f') & (hw['gpa'].isna()), 'gpa'] = hw[hw['sex'] == 'f']['gpa'].mean()\n",
        "int(hw.loc[(hw['sex'] == 'f') & (hw['gpa'].isna()), 'gpa'].isnull().sum()) # Number of Null Values Left"
      ]
    },
    {
      "cell_type": "markdown",
      "metadata": {
        "id": "ZdPzxTjxHqgH"
      },
      "source": [
        "5. Use iloc and slice method to slice the first 4 columns of the dataset, keep all rows.\n",
        "- Save the sliced subset in a dataframe called subset, then show the first 5 observations of dataframe subset."
      ]
    },
    {
      "cell_type": "code",
      "execution_count": 81,
      "metadata": {
        "id": "ojsHJlyYGAgW",
        "trusted": true
      },
      "outputs": [
        {
          "data": {
            "application/vnd.microsoft.datawrangler.viewer.v0+json": {
              "columns": [
                {
                  "name": "index",
                  "rawType": "int64",
                  "type": "integer"
                },
                {
                  "name": "sex",
                  "rawType": "object",
                  "type": "string"
                },
                {
                  "name": "tv",
                  "rawType": "float64",
                  "type": "float"
                },
                {
                  "name": "computer",
                  "rawType": "float64",
                  "type": "float"
                },
                {
                  "name": "sleep",
                  "rawType": "float64",
                  "type": "float"
                }
              ],
              "conversionMethod": "pd.DataFrame",
              "ref": "dab08075-c4ba-4345-be61-ecc6b34ab677",
              "rows": [
                [
                  "0",
                  "f",
                  "13.0",
                  "10.0",
                  "3.5"
                ],
                [
                  "1",
                  "m",
                  "20.0",
                  "7.0",
                  "9.0"
                ],
                [
                  "2",
                  "m",
                  "15.0",
                  "15.0",
                  "6.0"
                ],
                [
                  "3",
                  "m",
                  "8.0",
                  "20.0",
                  "6.0"
                ],
                [
                  "4",
                  "f",
                  "2.5",
                  "10.0",
                  "5.0"
                ]
              ],
              "shape": {
                "columns": 4,
                "rows": 5
              }
            },
            "text/html": [
              "<div>\n",
              "<style scoped>\n",
              "    .dataframe tbody tr th:only-of-type {\n",
              "        vertical-align: middle;\n",
              "    }\n",
              "\n",
              "    .dataframe tbody tr th {\n",
              "        vertical-align: top;\n",
              "    }\n",
              "\n",
              "    .dataframe thead th {\n",
              "        text-align: right;\n",
              "    }\n",
              "</style>\n",
              "<table border=\"1\" class=\"dataframe\">\n",
              "  <thead>\n",
              "    <tr style=\"text-align: right;\">\n",
              "      <th></th>\n",
              "      <th>sex</th>\n",
              "      <th>tv</th>\n",
              "      <th>computer</th>\n",
              "      <th>sleep</th>\n",
              "    </tr>\n",
              "  </thead>\n",
              "  <tbody>\n",
              "    <tr>\n",
              "      <th>0</th>\n",
              "      <td>f</td>\n",
              "      <td>13.0</td>\n",
              "      <td>10.0</td>\n",
              "      <td>3.5</td>\n",
              "    </tr>\n",
              "    <tr>\n",
              "      <th>1</th>\n",
              "      <td>m</td>\n",
              "      <td>20.0</td>\n",
              "      <td>7.0</td>\n",
              "      <td>9.0</td>\n",
              "    </tr>\n",
              "    <tr>\n",
              "      <th>2</th>\n",
              "      <td>m</td>\n",
              "      <td>15.0</td>\n",
              "      <td>15.0</td>\n",
              "      <td>6.0</td>\n",
              "    </tr>\n",
              "    <tr>\n",
              "      <th>3</th>\n",
              "      <td>m</td>\n",
              "      <td>8.0</td>\n",
              "      <td>20.0</td>\n",
              "      <td>6.0</td>\n",
              "    </tr>\n",
              "    <tr>\n",
              "      <th>4</th>\n",
              "      <td>f</td>\n",
              "      <td>2.5</td>\n",
              "      <td>10.0</td>\n",
              "      <td>5.0</td>\n",
              "    </tr>\n",
              "  </tbody>\n",
              "</table>\n",
              "</div>"
            ],
            "text/plain": [
              "  sex    tv  computer  sleep\n",
              "0   f  13.0      10.0    3.5\n",
              "1   m  20.0       7.0    9.0\n",
              "2   m  15.0      15.0    6.0\n",
              "3   m   8.0      20.0    6.0\n",
              "4   f   2.5      10.0    5.0"
            ]
          },
          "execution_count": 81,
          "metadata": {},
          "output_type": "execute_result"
        }
      ],
      "source": [
        "subset = hw.iloc[:, 0:4]\n",
        "subset.head()"
      ]
    },
    {
      "cell_type": "markdown",
      "metadata": {
        "id": "KHomqoMeHuo6"
      },
      "source": [
        "6. Add a new column named \"healthy\" in the hw dataframe.\n",
        "- Use a lambda function to fill this column with \"1\" if number of hours spent on exercise is greater than 5, and \"0\" otherwise.\n",
        "- Print the resulting dataframe hw."
      ]
    },
    {
      "cell_type": "code",
      "execution_count": 82,
      "metadata": {
        "id": "1T4eGAYyGAgX",
        "trusted": true
      },
      "outputs": [
        {
          "data": {
            "application/vnd.microsoft.datawrangler.viewer.v0+json": {
              "columns": [
                {
                  "name": "index",
                  "rawType": "int64",
                  "type": "integer"
                },
                {
                  "name": "sex",
                  "rawType": "object",
                  "type": "string"
                },
                {
                  "name": "tv",
                  "rawType": "float64",
                  "type": "float"
                },
                {
                  "name": "computer",
                  "rawType": "float64",
                  "type": "float"
                },
                {
                  "name": "sleep",
                  "rawType": "float64",
                  "type": "float"
                },
                {
                  "name": "height",
                  "rawType": "float64",
                  "type": "float"
                },
                {
                  "name": "momheight",
                  "rawType": "float64",
                  "type": "float"
                },
                {
                  "name": "dadheight",
                  "rawType": "float64",
                  "type": "float"
                },
                {
                  "name": "exercise",
                  "rawType": "float64",
                  "type": "float"
                },
                {
                  "name": "gpa",
                  "rawType": "float64",
                  "type": "float"
                },
                {
                  "name": "tall",
                  "rawType": "int64",
                  "type": "integer"
                },
                {
                  "name": "healthy",
                  "rawType": "int64",
                  "type": "integer"
                }
              ],
              "conversionMethod": "pd.DataFrame",
              "ref": "7769c7f7-3adf-47e4-8ac4-9490301ed488",
              "rows": [
                [
                  "0",
                  "f",
                  "13.0",
                  "10.0",
                  "3.5",
                  "66.0",
                  "66.0",
                  "71.0",
                  "10.0",
                  "4.0",
                  "0",
                  "1"
                ],
                [
                  "1",
                  "m",
                  "20.0",
                  "7.0",
                  "9.0",
                  "72.0",
                  "64.0",
                  "65.0",
                  "2.0",
                  "2.3",
                  "1",
                  "0"
                ],
                [
                  "2",
                  "m",
                  "15.0",
                  "15.0",
                  "6.0",
                  "68.0",
                  "62.0",
                  "74.0",
                  "3.0",
                  "2.6",
                  "0",
                  "0"
                ],
                [
                  "3",
                  "m",
                  "8.0",
                  "20.0",
                  "6.0",
                  "68.0",
                  "59.0",
                  "70.0",
                  "6.0",
                  "2.8",
                  "0",
                  "1"
                ],
                [
                  "4",
                  "f",
                  "2.5",
                  "10.0",
                  "5.0",
                  "64.0",
                  "65.0",
                  "70.0",
                  "6.5",
                  "2.62",
                  "0",
                  "1"
                ],
                [
                  "5",
                  "m",
                  "2.0",
                  "14.0",
                  "9.0",
                  "68.5",
                  "60.0",
                  "68.0",
                  "2.0",
                  "2.2",
                  "1",
                  "0"
                ],
                [
                  "6",
                  "f",
                  "4.0",
                  "28.0",
                  "8.5",
                  "69.0",
                  "66.0",
                  "76.0",
                  "3.0",
                  "3.78",
                  "0",
                  "0"
                ],
                [
                  "7",
                  "f",
                  "8.0",
                  "10.0",
                  "7.0",
                  "66.0",
                  "63.0",
                  "70.0",
                  "4.5",
                  "3.2",
                  "0",
                  "0"
                ],
                [
                  "8",
                  "m",
                  "1.0",
                  "15.0",
                  "8.0",
                  "70.0",
                  "68.0",
                  "71.0",
                  "3.0",
                  "3.31",
                  "0",
                  "0"
                ],
                [
                  "9",
                  "m",
                  "8.0",
                  "25.0",
                  "4.5",
                  "67.0",
                  "63.0",
                  "66.0",
                  "6.0",
                  "3.39",
                  "1",
                  "1"
                ],
                [
                  "10",
                  "m",
                  "3.5",
                  "9.0",
                  "8.0",
                  "68.0",
                  "62.0",
                  "64.0",
                  "8.0",
                  "3.0",
                  "1",
                  "1"
                ],
                [
                  "11",
                  "f",
                  "11.0",
                  "20.0",
                  "5.0",
                  "68.0",
                  "64.0",
                  "69.0",
                  "0.0",
                  "2.5",
                  "0",
                  "0"
                ],
                [
                  "12",
                  "m",
                  "10.0",
                  "14.0",
                  "8.0",
                  "68.0",
                  "61.0",
                  "72.0",
                  "10.0",
                  "2.8",
                  "0",
                  "1"
                ],
                [
                  "13",
                  "m",
                  "1.0",
                  "84.0",
                  "5.0",
                  "61.0",
                  "62.0",
                  "62.0",
                  "3.0",
                  "2.34",
                  "0",
                  "0"
                ],
                [
                  "14",
                  "f",
                  "10.0",
                  "11.0",
                  "9.0",
                  "65.0",
                  "62.0",
                  "66.0",
                  "5.0",
                  "2.985526315789474",
                  "0",
                  "0"
                ],
                [
                  "15",
                  "f",
                  "10.0",
                  "1.0",
                  "9.0",
                  "64.0",
                  "70.0",
                  "73.0",
                  "4.0",
                  "2.4",
                  "0",
                  "0"
                ],
                [
                  "16",
                  "f",
                  "1.0",
                  "5.0",
                  "6.5",
                  "65.0",
                  "70.0",
                  "75.0",
                  "3.0",
                  "1.05",
                  "0",
                  "0"
                ],
                [
                  "17",
                  "m",
                  "2.0",
                  "6.0",
                  "5.0",
                  "71.0",
                  "62.0",
                  "69.0",
                  "20.0",
                  "3.25",
                  "1",
                  "1"
                ],
                [
                  "18",
                  "m",
                  "40.0",
                  "4.0",
                  "4.0",
                  "68.0",
                  "54.0",
                  "68.0",
                  "4.5",
                  "3.5",
                  "0",
                  "0"
                ],
                [
                  "19",
                  "m",
                  "10.0",
                  "10.0",
                  "8.5",
                  "77.0",
                  "64.0",
                  "74.0",
                  "10.0",
                  "2.2",
                  "1",
                  "1"
                ],
                [
                  "20",
                  "f",
                  "30.0",
                  "30.0",
                  "9.5",
                  "68.0",
                  "68.0",
                  "69.0",
                  "1.0",
                  "2.5",
                  "0",
                  "0"
                ],
                [
                  "21",
                  "m",
                  "1.5",
                  "8.0",
                  "8.5",
                  "67.0",
                  "64.0",
                  "66.0",
                  "5.0",
                  null,
                  "1",
                  "0"
                ],
                [
                  "22",
                  "m",
                  "10.0",
                  "12.0",
                  "9.0",
                  "75.0",
                  "68.0",
                  "73.0",
                  "7.0",
                  "3.0",
                  "1",
                  "1"
                ],
                [
                  "23",
                  "m",
                  "15.0",
                  "5.0",
                  "6.0",
                  "72.0",
                  "67.0",
                  "71.0",
                  "6.0",
                  "3.6",
                  "1",
                  "1"
                ],
                [
                  "24",
                  "m",
                  "4.0",
                  "5.0",
                  "6.5",
                  "68.0",
                  "66.0",
                  "68.0",
                  "9.0",
                  "3.16",
                  "0",
                  "1"
                ],
                [
                  "25",
                  "m",
                  "6.0",
                  "6.0",
                  "5.0",
                  "72.0",
                  "62.0",
                  "70.0",
                  "10.0",
                  "2.4",
                  "1",
                  "1"
                ],
                [
                  "26",
                  "f",
                  "100.0",
                  "2.0",
                  "7.0",
                  "66.0",
                  "60.0",
                  "77.0",
                  "3.0",
                  "2.65",
                  "0",
                  "0"
                ],
                [
                  "27",
                  "f",
                  "15.0",
                  "40.0",
                  "5.0",
                  "60.0",
                  "59.0",
                  "62.0",
                  "10.0",
                  "2.6",
                  "0",
                  "1"
                ],
                [
                  "28",
                  "f",
                  "1.0",
                  "14.0",
                  "6.0",
                  "60.0",
                  "62.0",
                  "63.0",
                  "2.0",
                  "2.985526315789474",
                  "0",
                  "0"
                ],
                [
                  "29",
                  "m",
                  "3.5",
                  "22.5",
                  "7.0",
                  "66.0",
                  "60.0",
                  "64.0",
                  "3.0",
                  "3.4",
                  "1",
                  "0"
                ],
                [
                  "30",
                  "m",
                  "10.0",
                  "20.0",
                  "8.0",
                  "75.0",
                  "64.0",
                  "67.0",
                  "5.0",
                  "4.0",
                  "1",
                  "0"
                ],
                [
                  "31",
                  "m",
                  "1.0",
                  "10.0",
                  "6.5",
                  "73.0",
                  "60.0",
                  "67.0",
                  "8.0",
                  "3.0",
                  "1",
                  "1"
                ],
                [
                  "32",
                  "f",
                  "1.0",
                  "3.0",
                  "7.0",
                  "64.0",
                  "60.0",
                  "72.0",
                  "3.0",
                  "2.985526315789474",
                  "0",
                  "0"
                ],
                [
                  "33",
                  "f",
                  "6.0",
                  "3.0",
                  "7.0",
                  "70.0",
                  "62.0",
                  "74.0",
                  "10.0",
                  "3.28",
                  "0",
                  "1"
                ],
                [
                  "34",
                  "f",
                  "1.5",
                  "5.5",
                  "5.5",
                  "64.0",
                  "61.0",
                  "70.0",
                  "1.5",
                  "3.2",
                  "0",
                  "0"
                ],
                [
                  "35",
                  "f",
                  "4.0",
                  "1.0",
                  "7.5",
                  "63.0",
                  "61.0",
                  "70.0",
                  "4.0",
                  "2.81",
                  "0",
                  "0"
                ],
                [
                  "36",
                  "f",
                  "10.0",
                  "5.0",
                  "9.0",
                  "61.0",
                  "60.0",
                  "67.0",
                  "3.0",
                  "2.87",
                  "0",
                  "0"
                ],
                [
                  "37",
                  "f",
                  "18.0",
                  "14.0",
                  "7.0",
                  "69.0",
                  "65.0",
                  "68.0",
                  "5.0",
                  "3.19",
                  "1",
                  "0"
                ],
                [
                  "38",
                  "m",
                  "20.0",
                  "15.0",
                  "6.5",
                  "73.0",
                  "67.0",
                  "73.0",
                  "4.0",
                  "1.98",
                  "0",
                  "0"
                ],
                [
                  "39",
                  "f",
                  "4.0",
                  "6.0",
                  "6.0",
                  "63.0",
                  "64.0",
                  "65.0",
                  "4.0",
                  "1.9",
                  "0",
                  "0"
                ],
                [
                  "40",
                  "m",
                  "20.0",
                  "25.0",
                  "9.0",
                  "70.0",
                  "60.0",
                  "64.0",
                  "5.0",
                  "2.51",
                  "1",
                  "0"
                ],
                [
                  "41",
                  "m",
                  "5.0",
                  "20.0",
                  "4.0",
                  "70.0",
                  "64.0",
                  "68.0",
                  "2.0",
                  "3.2",
                  "1",
                  "0"
                ],
                [
                  "42",
                  "m",
                  "0.0",
                  "30.0",
                  "3.5",
                  "69.0",
                  "63.0",
                  "65.0",
                  "6.0",
                  "3.04",
                  "1",
                  "1"
                ],
                [
                  "43",
                  "m",
                  "11.0",
                  "17.0",
                  "4.5",
                  "76.0",
                  "66.0",
                  "72.0",
                  "4.0",
                  "2.5",
                  "1",
                  "0"
                ],
                [
                  "44",
                  "f",
                  "0.0",
                  "30.0",
                  "8.5",
                  "66.0",
                  "66.0",
                  "66.0",
                  "2.0",
                  "2.0",
                  "0",
                  "0"
                ],
                [
                  "45",
                  "f",
                  "1.0",
                  "8.5",
                  "7.0",
                  "65.0",
                  "64.0",
                  "70.0",
                  "4.0",
                  "2.6",
                  "0",
                  "0"
                ],
                [
                  "46",
                  "f",
                  "2.0",
                  "10.0",
                  "11.0",
                  "64.0",
                  "62.0",
                  "68.0",
                  "2.0",
                  "3.06",
                  "0",
                  "0"
                ],
                [
                  "47",
                  "f",
                  "8.0",
                  "7.0",
                  "8.0",
                  "66.0",
                  "64.0",
                  "73.0",
                  "6.0",
                  "2.8",
                  "0",
                  "1"
                ],
                [
                  "48",
                  "f",
                  "1.0",
                  "5.0",
                  "4.0",
                  "65.0",
                  "61.0",
                  "67.0",
                  "3.0",
                  "2.985526315789474",
                  "0",
                  "0"
                ],
                [
                  "49",
                  "f",
                  "3.0",
                  "8.0",
                  "7.0",
                  "63.0",
                  "60.0",
                  "67.0",
                  "2.0",
                  "3.3",
                  "0",
                  "0"
                ]
              ],
              "shape": {
                "columns": 11,
                "rows": 148
              }
            },
            "text/html": [
              "<div>\n",
              "<style scoped>\n",
              "    .dataframe tbody tr th:only-of-type {\n",
              "        vertical-align: middle;\n",
              "    }\n",
              "\n",
              "    .dataframe tbody tr th {\n",
              "        vertical-align: top;\n",
              "    }\n",
              "\n",
              "    .dataframe thead th {\n",
              "        text-align: right;\n",
              "    }\n",
              "</style>\n",
              "<table border=\"1\" class=\"dataframe\">\n",
              "  <thead>\n",
              "    <tr style=\"text-align: right;\">\n",
              "      <th></th>\n",
              "      <th>sex</th>\n",
              "      <th>tv</th>\n",
              "      <th>computer</th>\n",
              "      <th>sleep</th>\n",
              "      <th>height</th>\n",
              "      <th>momheight</th>\n",
              "      <th>dadheight</th>\n",
              "      <th>exercise</th>\n",
              "      <th>gpa</th>\n",
              "      <th>tall</th>\n",
              "      <th>healthy</th>\n",
              "    </tr>\n",
              "  </thead>\n",
              "  <tbody>\n",
              "    <tr>\n",
              "      <th>0</th>\n",
              "      <td>f</td>\n",
              "      <td>13.0</td>\n",
              "      <td>10.0</td>\n",
              "      <td>3.5</td>\n",
              "      <td>66.0</td>\n",
              "      <td>66.0</td>\n",
              "      <td>71.0</td>\n",
              "      <td>10.0</td>\n",
              "      <td>4.00</td>\n",
              "      <td>0</td>\n",
              "      <td>1</td>\n",
              "    </tr>\n",
              "    <tr>\n",
              "      <th>1</th>\n",
              "      <td>m</td>\n",
              "      <td>20.0</td>\n",
              "      <td>7.0</td>\n",
              "      <td>9.0</td>\n",
              "      <td>72.0</td>\n",
              "      <td>64.0</td>\n",
              "      <td>65.0</td>\n",
              "      <td>2.0</td>\n",
              "      <td>2.30</td>\n",
              "      <td>1</td>\n",
              "      <td>0</td>\n",
              "    </tr>\n",
              "    <tr>\n",
              "      <th>2</th>\n",
              "      <td>m</td>\n",
              "      <td>15.0</td>\n",
              "      <td>15.0</td>\n",
              "      <td>6.0</td>\n",
              "      <td>68.0</td>\n",
              "      <td>62.0</td>\n",
              "      <td>74.0</td>\n",
              "      <td>3.0</td>\n",
              "      <td>2.60</td>\n",
              "      <td>0</td>\n",
              "      <td>0</td>\n",
              "    </tr>\n",
              "    <tr>\n",
              "      <th>3</th>\n",
              "      <td>m</td>\n",
              "      <td>8.0</td>\n",
              "      <td>20.0</td>\n",
              "      <td>6.0</td>\n",
              "      <td>68.0</td>\n",
              "      <td>59.0</td>\n",
              "      <td>70.0</td>\n",
              "      <td>6.0</td>\n",
              "      <td>2.80</td>\n",
              "      <td>0</td>\n",
              "      <td>1</td>\n",
              "    </tr>\n",
              "    <tr>\n",
              "      <th>4</th>\n",
              "      <td>f</td>\n",
              "      <td>2.5</td>\n",
              "      <td>10.0</td>\n",
              "      <td>5.0</td>\n",
              "      <td>64.0</td>\n",
              "      <td>65.0</td>\n",
              "      <td>70.0</td>\n",
              "      <td>6.5</td>\n",
              "      <td>2.62</td>\n",
              "      <td>0</td>\n",
              "      <td>1</td>\n",
              "    </tr>\n",
              "    <tr>\n",
              "      <th>...</th>\n",
              "      <td>...</td>\n",
              "      <td>...</td>\n",
              "      <td>...</td>\n",
              "      <td>...</td>\n",
              "      <td>...</td>\n",
              "      <td>...</td>\n",
              "      <td>...</td>\n",
              "      <td>...</td>\n",
              "      <td>...</td>\n",
              "      <td>...</td>\n",
              "      <td>...</td>\n",
              "    </tr>\n",
              "    <tr>\n",
              "      <th>143</th>\n",
              "      <td>f</td>\n",
              "      <td>5.0</td>\n",
              "      <td>35.0</td>\n",
              "      <td>5.0</td>\n",
              "      <td>65.0</td>\n",
              "      <td>69.0</td>\n",
              "      <td>72.0</td>\n",
              "      <td>5.0</td>\n",
              "      <td>2.18</td>\n",
              "      <td>0</td>\n",
              "      <td>0</td>\n",
              "    </tr>\n",
              "    <tr>\n",
              "      <th>144</th>\n",
              "      <td>m</td>\n",
              "      <td>8.0</td>\n",
              "      <td>32.0</td>\n",
              "      <td>6.0</td>\n",
              "      <td>72.0</td>\n",
              "      <td>65.0</td>\n",
              "      <td>71.0</td>\n",
              "      <td>1.5</td>\n",
              "      <td>2.80</td>\n",
              "      <td>1</td>\n",
              "      <td>0</td>\n",
              "    </tr>\n",
              "    <tr>\n",
              "      <th>145</th>\n",
              "      <td>m</td>\n",
              "      <td>9.0</td>\n",
              "      <td>7.0</td>\n",
              "      <td>7.0</td>\n",
              "      <td>75.0</td>\n",
              "      <td>68.0</td>\n",
              "      <td>74.0</td>\n",
              "      <td>7.0</td>\n",
              "      <td>3.50</td>\n",
              "      <td>1</td>\n",
              "      <td>1</td>\n",
              "    </tr>\n",
              "    <tr>\n",
              "      <th>146</th>\n",
              "      <td>m</td>\n",
              "      <td>1.0</td>\n",
              "      <td>10.0</td>\n",
              "      <td>5.0</td>\n",
              "      <td>72.0</td>\n",
              "      <td>60.0</td>\n",
              "      <td>74.0</td>\n",
              "      <td>3.0</td>\n",
              "      <td>4.00</td>\n",
              "      <td>0</td>\n",
              "      <td>0</td>\n",
              "    </tr>\n",
              "    <tr>\n",
              "      <th>147</th>\n",
              "      <td>f</td>\n",
              "      <td>5.0</td>\n",
              "      <td>2.0</td>\n",
              "      <td>6.0</td>\n",
              "      <td>64.0</td>\n",
              "      <td>62.0</td>\n",
              "      <td>66.0</td>\n",
              "      <td>6.0</td>\n",
              "      <td>4.00</td>\n",
              "      <td>0</td>\n",
              "      <td>1</td>\n",
              "    </tr>\n",
              "  </tbody>\n",
              "</table>\n",
              "<p>148 rows × 11 columns</p>\n",
              "</div>"
            ],
            "text/plain": [
              "    sex    tv  computer  sleep  height  momheight  dadheight  exercise   gpa  \\\n",
              "0     f  13.0      10.0    3.5    66.0       66.0       71.0      10.0  4.00   \n",
              "1     m  20.0       7.0    9.0    72.0       64.0       65.0       2.0  2.30   \n",
              "2     m  15.0      15.0    6.0    68.0       62.0       74.0       3.0  2.60   \n",
              "3     m   8.0      20.0    6.0    68.0       59.0       70.0       6.0  2.80   \n",
              "4     f   2.5      10.0    5.0    64.0       65.0       70.0       6.5  2.62   \n",
              "..   ..   ...       ...    ...     ...        ...        ...       ...   ...   \n",
              "143   f   5.0      35.0    5.0    65.0       69.0       72.0       5.0  2.18   \n",
              "144   m   8.0      32.0    6.0    72.0       65.0       71.0       1.5  2.80   \n",
              "145   m   9.0       7.0    7.0    75.0       68.0       74.0       7.0  3.50   \n",
              "146   m   1.0      10.0    5.0    72.0       60.0       74.0       3.0  4.00   \n",
              "147   f   5.0       2.0    6.0    64.0       62.0       66.0       6.0  4.00   \n",
              "\n",
              "     tall  healthy  \n",
              "0       0        1  \n",
              "1       1        0  \n",
              "2       0        0  \n",
              "3       0        1  \n",
              "4       0        1  \n",
              "..    ...      ...  \n",
              "143     0        0  \n",
              "144     1        0  \n",
              "145     1        1  \n",
              "146     0        0  \n",
              "147     0        1  \n",
              "\n",
              "[148 rows x 11 columns]"
            ]
          },
          "execution_count": 82,
          "metadata": {},
          "output_type": "execute_result"
        }
      ],
      "source": [
        "hw['healthy'] = hw['exercise'].apply(lambda x: 1 if x > 5 else 0)\n",
        "hw"
      ]
    },
    {
      "cell_type": "markdown",
      "metadata": {
        "id": "Uc-EY9oyH3B3"
      },
      "source": [
        "7. Create a histogram to show the frequency of male and female observations."
      ]
    },
    {
      "cell_type": "code",
      "execution_count": 83,
      "metadata": {
        "id": "59YB4TBpGAgX",
        "trusted": true
      },
      "outputs": [
        {
          "data": {
            "image/png": "[encoded data removed]",
            "text/plain": [
              "<Figure size 640x480 with 1 Axes>"
            ]
          },
          "metadata": {},
          "output_type": "display_data"
        }
      ],
      "source": [
        "hw['sex'].value_counts().plot(kind='bar')\n",
        "plt.title('Distribution of Gender')\n",
        "plt.xlabel('Gender')\n",
        "plt.ylabel('Count')\n",
        "plt.show()"
      ]
    },
    {
      "cell_type": "markdown",
      "metadata": {
        "id": "CA6JdYBAIzgD"
      },
      "source": [
        "8.  Create a new dataframe hw_binned, result of equal-sized binning of all the numerical columns in hw dataset given the percentile points in the quantile table.\n",
        "- Use a for loop to iterate over the columns in hw dataset, and call qcut for binning each of the columns."
      ]
    },
    {
      "cell_type": "code",
      "execution_count": 84,
      "metadata": {
        "id": "jBwU1QYUGAgX",
        "trusted": true
      },
      "outputs": [
        {
          "data": {
            "application/vnd.microsoft.datawrangler.viewer.v0+json": {
              "columns": [
                {
                  "name": "index",
                  "rawType": "int64",
                  "type": "integer"
                },
                {
                  "name": "sex",
                  "rawType": "object",
                  "type": "string"
                },
                {
                  "name": "tv",
                  "rawType": "category",
                  "type": "unknown"
                },
                {
                  "name": "computer",
                  "rawType": "category",
                  "type": "unknown"
                },
                {
                  "name": "sleep",
                  "rawType": "category",
                  "type": "unknown"
                },
                {
                  "name": "height",
                  "rawType": "category",
                  "type": "unknown"
                },
                {
                  "name": "momheight",
                  "rawType": "category",
                  "type": "unknown"
                },
                {
                  "name": "dadheight",
                  "rawType": "category",
                  "type": "unknown"
                },
                {
                  "name": "exercise",
                  "rawType": "category",
                  "type": "unknown"
                },
                {
                  "name": "gpa",
                  "rawType": "category",
                  "type": "unknown"
                },
                {
                  "name": "tall",
                  "rawType": "int64",
                  "type": "integer"
                },
                {
                  "name": "healthy",
                  "rawType": "int64",
                  "type": "integer"
                }
              ],
              "conversionMethod": "pd.DataFrame",
              "ref": "22dcd8a8-1387-49c0-8e19-ce0111e23c0d",
              "rows": [
                [
                  "0",
                  "f",
                  "Q4",
                  "Q2",
                  "Q1",
                  "Q2",
                  "Q4",
                  "Q3",
                  "Q4",
                  "Q4",
                  "0",
                  "1"
                ],
                [
                  "1",
                  "m",
                  "Q4",
                  "Q2",
                  "Q4",
                  "Q4",
                  "Q3",
                  "Q1",
                  "Q1",
                  "Q1",
                  "1",
                  "0"
                ],
                [
                  "2",
                  "m",
                  "Q4",
                  "Q3",
                  "Q1",
                  "Q3",
                  "Q2",
                  "Q4",
                  "Q2",
                  "Q2",
                  "0",
                  "0"
                ],
                [
                  "3",
                  "m",
                  "Q3",
                  "Q3",
                  "Q1",
                  "Q3",
                  "Q1",
                  "Q3",
                  "Q3",
                  "Q2",
                  "0",
                  "1"
                ],
                [
                  "4",
                  "f",
                  "Q2",
                  "Q2",
                  "Q1",
                  "Q1",
                  "Q3",
                  "Q3",
                  "Q4",
                  "Q2",
                  "0",
                  "1"
                ],
                [
                  "5",
                  "m",
                  "Q1",
                  "Q3",
                  "Q4",
                  "Q3",
                  "Q1",
                  "Q2",
                  "Q1",
                  "Q1",
                  "1",
                  "0"
                ],
                [
                  "6",
                  "f",
                  "Q2",
                  "Q4",
                  "Q4",
                  "Q3",
                  "Q4",
                  "Q4",
                  "Q2",
                  "Q4",
                  "0",
                  "0"
                ],
                [
                  "7",
                  "f",
                  "Q3",
                  "Q2",
                  "Q2",
                  "Q2",
                  "Q2",
                  "Q3",
                  "Q3",
                  "Q3",
                  "0",
                  "0"
                ],
                [
                  "8",
                  "m",
                  "Q1",
                  "Q3",
                  "Q3",
                  "Q4",
                  "Q4",
                  "Q3",
                  "Q2",
                  "Q4",
                  "0",
                  "0"
                ],
                [
                  "9",
                  "m",
                  "Q3",
                  "Q4",
                  "Q1",
                  "Q3",
                  "Q2",
                  "Q1",
                  "Q3",
                  "Q4",
                  "1",
                  "1"
                ],
                [
                  "10",
                  "m",
                  "Q2",
                  "Q2",
                  "Q3",
                  "Q3",
                  "Q2",
                  "Q1",
                  "Q4",
                  "Q2",
                  "1",
                  "1"
                ],
                [
                  "11",
                  "f",
                  "Q3",
                  "Q3",
                  "Q1",
                  "Q3",
                  "Q3",
                  "Q2",
                  "Q1",
                  "Q1",
                  "0",
                  "0"
                ],
                [
                  "12",
                  "m",
                  "Q3",
                  "Q3",
                  "Q3",
                  "Q3",
                  "Q1",
                  "Q3",
                  "Q4",
                  "Q2",
                  "0",
                  "1"
                ],
                [
                  "13",
                  "m",
                  "Q1",
                  "Q4",
                  "Q1",
                  "Q1",
                  "Q2",
                  "Q1",
                  "Q2",
                  "Q1",
                  "0",
                  "0"
                ],
                [
                  "14",
                  "f",
                  "Q3",
                  "Q3",
                  "Q4",
                  "Q2",
                  "Q2",
                  "Q1",
                  "Q3",
                  "Q2",
                  "0",
                  "0"
                ],
                [
                  "15",
                  "f",
                  "Q3",
                  "Q1",
                  "Q4",
                  "Q1",
                  "Q4",
                  "Q4",
                  "Q3",
                  "Q1",
                  "0",
                  "0"
                ],
                [
                  "16",
                  "f",
                  "Q1",
                  "Q1",
                  "Q2",
                  "Q2",
                  "Q4",
                  "Q4",
                  "Q2",
                  "Q1",
                  "0",
                  "0"
                ],
                [
                  "17",
                  "m",
                  "Q1",
                  "Q1",
                  "Q1",
                  "Q4",
                  "Q2",
                  "Q2",
                  "Q4",
                  "Q3",
                  "1",
                  "1"
                ],
                [
                  "18",
                  "m",
                  "Q4",
                  "Q1",
                  "Q1",
                  "Q3",
                  "Q1",
                  "Q2",
                  "Q3",
                  "Q4",
                  "0",
                  "0"
                ],
                [
                  "19",
                  "m",
                  "Q3",
                  "Q2",
                  "Q4",
                  "Q4",
                  "Q3",
                  "Q4",
                  "Q4",
                  "Q1",
                  "1",
                  "1"
                ],
                [
                  "20",
                  "f",
                  "Q4",
                  "Q4",
                  "Q4",
                  "Q3",
                  "Q4",
                  "Q2",
                  "Q1",
                  "Q1",
                  "0",
                  "0"
                ],
                [
                  "21",
                  "m",
                  "Q1",
                  "Q2",
                  "Q4",
                  "Q3",
                  "Q3",
                  "Q1",
                  "Q3",
                  null,
                  "1",
                  "0"
                ],
                [
                  "22",
                  "m",
                  "Q3",
                  "Q3",
                  "Q4",
                  "Q4",
                  "Q4",
                  "Q4",
                  "Q4",
                  "Q2",
                  "1",
                  "1"
                ],
                [
                  "23",
                  "m",
                  "Q4",
                  "Q1",
                  "Q1",
                  "Q4",
                  "Q4",
                  "Q3",
                  "Q3",
                  "Q4",
                  "1",
                  "1"
                ],
                [
                  "24",
                  "m",
                  "Q2",
                  "Q1",
                  "Q2",
                  "Q3",
                  "Q4",
                  "Q2",
                  "Q4",
                  "Q3",
                  "0",
                  "1"
                ],
                [
                  "25",
                  "m",
                  "Q3",
                  "Q1",
                  "Q1",
                  "Q4",
                  "Q2",
                  "Q3",
                  "Q4",
                  "Q1",
                  "1",
                  "1"
                ],
                [
                  "26",
                  "f",
                  "Q4",
                  "Q1",
                  "Q2",
                  "Q2",
                  "Q1",
                  "Q4",
                  "Q2",
                  "Q2",
                  "0",
                  "0"
                ],
                [
                  "27",
                  "f",
                  "Q4",
                  "Q4",
                  "Q1",
                  "Q1",
                  "Q1",
                  "Q1",
                  "Q4",
                  "Q2",
                  "0",
                  "1"
                ],
                [
                  "28",
                  "f",
                  "Q1",
                  "Q3",
                  "Q1",
                  "Q1",
                  "Q2",
                  "Q1",
                  "Q1",
                  "Q2",
                  "0",
                  "0"
                ],
                [
                  "29",
                  "m",
                  "Q2",
                  "Q4",
                  "Q2",
                  "Q2",
                  "Q1",
                  "Q1",
                  "Q2",
                  "Q4",
                  "1",
                  "0"
                ],
                [
                  "30",
                  "m",
                  "Q3",
                  "Q3",
                  "Q3",
                  "Q4",
                  "Q3",
                  "Q1",
                  "Q3",
                  "Q4",
                  "1",
                  "0"
                ],
                [
                  "31",
                  "m",
                  "Q1",
                  "Q2",
                  "Q2",
                  "Q4",
                  "Q1",
                  "Q1",
                  "Q4",
                  "Q2",
                  "1",
                  "1"
                ],
                [
                  "32",
                  "f",
                  "Q1",
                  "Q1",
                  "Q2",
                  "Q1",
                  "Q1",
                  "Q3",
                  "Q2",
                  "Q2",
                  "0",
                  "0"
                ],
                [
                  "33",
                  "f",
                  "Q3",
                  "Q1",
                  "Q2",
                  "Q4",
                  "Q2",
                  "Q4",
                  "Q4",
                  "Q3",
                  "0",
                  "1"
                ],
                [
                  "34",
                  "f",
                  "Q1",
                  "Q1",
                  "Q1",
                  "Q1",
                  "Q1",
                  "Q3",
                  "Q1",
                  "Q3",
                  "0",
                  "0"
                ],
                [
                  "35",
                  "f",
                  "Q2",
                  "Q1",
                  "Q3",
                  "Q1",
                  "Q1",
                  "Q3",
                  "Q3",
                  "Q2",
                  "0",
                  "0"
                ],
                [
                  "36",
                  "f",
                  "Q3",
                  "Q1",
                  "Q4",
                  "Q1",
                  "Q1",
                  "Q1",
                  "Q2",
                  "Q2",
                  "0",
                  "0"
                ],
                [
                  "37",
                  "f",
                  "Q4",
                  "Q3",
                  "Q2",
                  "Q3",
                  "Q3",
                  "Q2",
                  "Q3",
                  "Q3",
                  "1",
                  "0"
                ],
                [
                  "38",
                  "m",
                  "Q4",
                  "Q3",
                  "Q2",
                  "Q4",
                  "Q4",
                  "Q4",
                  "Q3",
                  "Q1",
                  "0",
                  "0"
                ],
                [
                  "39",
                  "f",
                  "Q2",
                  "Q1",
                  "Q1",
                  "Q1",
                  "Q3",
                  "Q1",
                  "Q3",
                  "Q1",
                  "0",
                  "0"
                ],
                [
                  "40",
                  "m",
                  "Q4",
                  "Q4",
                  "Q4",
                  "Q4",
                  "Q1",
                  "Q1",
                  "Q3",
                  "Q2",
                  "1",
                  "0"
                ],
                [
                  "41",
                  "m",
                  "Q2",
                  "Q3",
                  "Q1",
                  "Q4",
                  "Q3",
                  "Q2",
                  "Q1",
                  "Q3",
                  "1",
                  "0"
                ],
                [
                  "42",
                  "m",
                  "Q1",
                  "Q4",
                  "Q1",
                  "Q3",
                  "Q2",
                  "Q1",
                  "Q3",
                  "Q3",
                  "1",
                  "1"
                ],
                [
                  "43",
                  "m",
                  "Q3",
                  "Q3",
                  "Q1",
                  "Q4",
                  "Q4",
                  "Q3",
                  "Q3",
                  "Q1",
                  "1",
                  "0"
                ],
                [
                  "44",
                  "f",
                  "Q1",
                  "Q4",
                  "Q4",
                  "Q2",
                  "Q4",
                  "Q1",
                  "Q1",
                  "Q1",
                  "0",
                  "0"
                ],
                [
                  "45",
                  "f",
                  "Q1",
                  "Q2",
                  "Q2",
                  "Q2",
                  "Q3",
                  "Q3",
                  "Q3",
                  "Q2",
                  "0",
                  "0"
                ],
                [
                  "46",
                  "f",
                  "Q1",
                  "Q2",
                  "Q4",
                  "Q1",
                  "Q2",
                  "Q2",
                  "Q1",
                  "Q3",
                  "0",
                  "0"
                ],
                [
                  "47",
                  "f",
                  "Q3",
                  "Q2",
                  "Q3",
                  "Q2",
                  "Q3",
                  "Q4",
                  "Q3",
                  "Q2",
                  "0",
                  "1"
                ],
                [
                  "48",
                  "f",
                  "Q1",
                  "Q1",
                  "Q1",
                  "Q2",
                  "Q1",
                  "Q1",
                  "Q2",
                  "Q2",
                  "0",
                  "0"
                ],
                [
                  "49",
                  "f",
                  "Q2",
                  "Q2",
                  "Q2",
                  "Q1",
                  "Q1",
                  "Q1",
                  "Q1",
                  "Q3",
                  "0",
                  "0"
                ]
              ],
              "shape": {
                "columns": 11,
                "rows": 148
              }
            },
            "text/html": [
              "<div>\n",
              "<style scoped>\n",
              "    .dataframe tbody tr th:only-of-type {\n",
              "        vertical-align: middle;\n",
              "    }\n",
              "\n",
              "    .dataframe tbody tr th {\n",
              "        vertical-align: top;\n",
              "    }\n",
              "\n",
              "    .dataframe thead th {\n",
              "        text-align: right;\n",
              "    }\n",
              "</style>\n",
              "<table border=\"1\" class=\"dataframe\">\n",
              "  <thead>\n",
              "    <tr style=\"text-align: right;\">\n",
              "      <th></th>\n",
              "      <th>sex</th>\n",
              "      <th>tv</th>\n",
              "      <th>computer</th>\n",
              "      <th>sleep</th>\n",
              "      <th>height</th>\n",
              "      <th>momheight</th>\n",
              "      <th>dadheight</th>\n",
              "      <th>exercise</th>\n",
              "      <th>gpa</th>\n",
              "      <th>tall</th>\n",
              "      <th>healthy</th>\n",
              "    </tr>\n",
              "  </thead>\n",
              "  <tbody>\n",
              "    <tr>\n",
              "      <th>0</th>\n",
              "      <td>f</td>\n",
              "      <td>Q4</td>\n",
              "      <td>Q2</td>\n",
              "      <td>Q1</td>\n",
              "      <td>Q2</td>\n",
              "      <td>Q4</td>\n",
              "      <td>Q3</td>\n",
              "      <td>Q4</td>\n",
              "      <td>Q4</td>\n",
              "      <td>0</td>\n",
              "      <td>1</td>\n",
              "    </tr>\n",
              "    <tr>\n",
              "      <th>1</th>\n",
              "      <td>m</td>\n",
              "      <td>Q4</td>\n",
              "      <td>Q2</td>\n",
              "      <td>Q4</td>\n",
              "      <td>Q4</td>\n",
              "      <td>Q3</td>\n",
              "      <td>Q1</td>\n",
              "      <td>Q1</td>\n",
              "      <td>Q1</td>\n",
              "      <td>1</td>\n",
              "      <td>0</td>\n",
              "    </tr>\n",
              "    <tr>\n",
              "      <th>2</th>\n",
              "      <td>m</td>\n",
              "      <td>Q4</td>\n",
              "      <td>Q3</td>\n",
              "      <td>Q1</td>\n",
              "      <td>Q3</td>\n",
              "      <td>Q2</td>\n",
              "      <td>Q4</td>\n",
              "      <td>Q2</td>\n",
              "      <td>Q2</td>\n",
              "      <td>0</td>\n",
              "      <td>0</td>\n",
              "    </tr>\n",
              "    <tr>\n",
              "      <th>3</th>\n",
              "      <td>m</td>\n",
              "      <td>Q3</td>\n",
              "      <td>Q3</td>\n",
              "      <td>Q1</td>\n",
              "      <td>Q3</td>\n",
              "      <td>Q1</td>\n",
              "      <td>Q3</td>\n",
              "      <td>Q3</td>\n",
              "      <td>Q2</td>\n",
              "      <td>0</td>\n",
              "      <td>1</td>\n",
              "    </tr>\n",
              "    <tr>\n",
              "      <th>4</th>\n",
              "      <td>f</td>\n",
              "      <td>Q2</td>\n",
              "      <td>Q2</td>\n",
              "      <td>Q1</td>\n",
              "      <td>Q1</td>\n",
              "      <td>Q3</td>\n",
              "      <td>Q3</td>\n",
              "      <td>Q4</td>\n",
              "      <td>Q2</td>\n",
              "      <td>0</td>\n",
              "      <td>1</td>\n",
              "    </tr>\n",
              "    <tr>\n",
              "      <th>...</th>\n",
              "      <td>...</td>\n",
              "      <td>...</td>\n",
              "      <td>...</td>\n",
              "      <td>...</td>\n",
              "      <td>...</td>\n",
              "      <td>...</td>\n",
              "      <td>...</td>\n",
              "      <td>...</td>\n",
              "      <td>...</td>\n",
              "      <td>...</td>\n",
              "      <td>...</td>\n",
              "    </tr>\n",
              "    <tr>\n",
              "      <th>143</th>\n",
              "      <td>f</td>\n",
              "      <td>Q2</td>\n",
              "      <td>Q4</td>\n",
              "      <td>Q1</td>\n",
              "      <td>Q2</td>\n",
              "      <td>Q4</td>\n",
              "      <td>Q3</td>\n",
              "      <td>Q3</td>\n",
              "      <td>Q1</td>\n",
              "      <td>0</td>\n",
              "      <td>0</td>\n",
              "    </tr>\n",
              "    <tr>\n",
              "      <th>144</th>\n",
              "      <td>m</td>\n",
              "      <td>Q3</td>\n",
              "      <td>Q4</td>\n",
              "      <td>Q1</td>\n",
              "      <td>Q4</td>\n",
              "      <td>Q3</td>\n",
              "      <td>Q3</td>\n",
              "      <td>Q1</td>\n",
              "      <td>Q2</td>\n",
              "      <td>1</td>\n",
              "      <td>0</td>\n",
              "    </tr>\n",
              "    <tr>\n",
              "      <th>145</th>\n",
              "      <td>m</td>\n",
              "      <td>Q3</td>\n",
              "      <td>Q2</td>\n",
              "      <td>Q2</td>\n",
              "      <td>Q4</td>\n",
              "      <td>Q4</td>\n",
              "      <td>Q4</td>\n",
              "      <td>Q4</td>\n",
              "      <td>Q4</td>\n",
              "      <td>1</td>\n",
              "      <td>1</td>\n",
              "    </tr>\n",
              "    <tr>\n",
              "      <th>146</th>\n",
              "      <td>m</td>\n",
              "      <td>Q1</td>\n",
              "      <td>Q2</td>\n",
              "      <td>Q1</td>\n",
              "      <td>Q4</td>\n",
              "      <td>Q1</td>\n",
              "      <td>Q4</td>\n",
              "      <td>Q2</td>\n",
              "      <td>Q4</td>\n",
              "      <td>0</td>\n",
              "      <td>0</td>\n",
              "    </tr>\n",
              "    <tr>\n",
              "      <th>147</th>\n",
              "      <td>f</td>\n",
              "      <td>Q2</td>\n",
              "      <td>Q1</td>\n",
              "      <td>Q1</td>\n",
              "      <td>Q1</td>\n",
              "      <td>Q2</td>\n",
              "      <td>Q1</td>\n",
              "      <td>Q3</td>\n",
              "      <td>Q4</td>\n",
              "      <td>0</td>\n",
              "      <td>1</td>\n",
              "    </tr>\n",
              "  </tbody>\n",
              "</table>\n",
              "<p>148 rows × 11 columns</p>\n",
              "</div>"
            ],
            "text/plain": [
              "    sex  tv computer sleep height momheight dadheight exercise gpa  tall  \\\n",
              "0     f  Q4       Q2    Q1     Q2        Q4        Q3       Q4  Q4     0   \n",
              "1     m  Q4       Q2    Q4     Q4        Q3        Q1       Q1  Q1     1   \n",
              "2     m  Q4       Q3    Q1     Q3        Q2        Q4       Q2  Q2     0   \n",
              "3     m  Q3       Q3    Q1     Q3        Q1        Q3       Q3  Q2     0   \n",
              "4     f  Q2       Q2    Q1     Q1        Q3        Q3       Q4  Q2     0   \n",
              "..   ..  ..      ...   ...    ...       ...       ...      ...  ..   ...   \n",
              "143   f  Q2       Q4    Q1     Q2        Q4        Q3       Q3  Q1     0   \n",
              "144   m  Q3       Q4    Q1     Q4        Q3        Q3       Q1  Q2     1   \n",
              "145   m  Q3       Q2    Q2     Q4        Q4        Q4       Q4  Q4     1   \n",
              "146   m  Q1       Q2    Q1     Q4        Q1        Q4       Q2  Q4     0   \n",
              "147   f  Q2       Q1    Q1     Q1        Q2        Q1       Q3  Q4     0   \n",
              "\n",
              "     healthy  \n",
              "0          1  \n",
              "1          0  \n",
              "2          0  \n",
              "3          1  \n",
              "4          1  \n",
              "..       ...  \n",
              "143        0  \n",
              "144        0  \n",
              "145        1  \n",
              "146        0  \n",
              "147        1  \n",
              "\n",
              "[148 rows x 11 columns]"
            ]
          },
          "execution_count": 84,
          "metadata": {},
          "output_type": "execute_result"
        }
      ],
      "source": [
        "hw_binned_dict = {}\n",
        "for col in hw.columns:\n",
        "    if hw[col].dtype in ['float64', 'int64']:\n",
        "        try:\n",
        "            hw_binned_dict[col] = pd.qcut(hw[col], q=4, labels=['Q1', 'Q2', 'Q3', 'Q4'], duplicates='drop')\n",
        "        except Exception as e:\n",
        "            # print(f\"In Column {col}\", e)\n",
        "            hw_binned_dict[col] = hw[col]\n",
        "    else:\n",
        "        # print(\"The Column {col} isn't a Numeric Datatype.\")\n",
        "        hw_binned_dict[col] = hw[col]\n",
        "hw_binned = pd.DataFrame(hw_binned_dict)\n",
        "hw_binned"
      ]
    },
    {
      "cell_type": "markdown",
      "metadata": {
        "id": "QTo3qa3_I22J"
      },
      "source": [
        "9. Calculate the average number of sleep hours for males who have gpa 3 or higher."
      ]
    },
    {
      "cell_type": "code",
      "execution_count": 85,
      "metadata": {
        "id": "d0jSIaLWGAgX",
        "trusted": true
      },
      "outputs": [
        {
          "data": {
            "text/plain": [
              "'6.59'"
            ]
          },
          "execution_count": 85,
          "metadata": {},
          "output_type": "execute_result"
        }
      ],
      "source": [
        "high_gpa_males = hw[(hw['sex'] == 'm') & (hw['gpa'] >= 3)]\n",
        "avg_sleep = high_gpa_males['sleep'].mean()\n",
        "f'{avg_sleep:.2f}'"
      ]
    },
    {
      "cell_type": "markdown",
      "metadata": {
        "id": "PpRrXateI6UM"
      },
      "source": [
        "10. Create a new function called \"total_hours\", which return the sum of hours spent on \"Tv\", \"computer\" and \"sleep\".\n",
        "- Apply the function to hw dataframe and print the total_hours for all observations."
      ]
    },
    {
      "cell_type": "code",
      "execution_count": 86,
      "metadata": {
        "id": "J2pnWbVEGAgY",
        "trusted": true
      },
      "outputs": [
        {
          "data": {
            "application/vnd.microsoft.datawrangler.viewer.v0+json": {
              "columns": [
                {
                  "name": "index",
                  "rawType": "int64",
                  "type": "integer"
                },
                {
                  "name": "tv",
                  "rawType": "float64",
                  "type": "float"
                },
                {
                  "name": "computer",
                  "rawType": "float64",
                  "type": "float"
                },
                {
                  "name": "sleep",
                  "rawType": "float64",
                  "type": "float"
                },
                {
                  "name": "total_hours",
                  "rawType": "float64",
                  "type": "float"
                }
              ],
              "conversionMethod": "pd.DataFrame",
              "ref": "c6dbfc1b-e285-4f60-ba46-61980ac47aad",
              "rows": [
                [
                  "0",
                  "13.0",
                  "10.0",
                  "3.5",
                  "26.5"
                ],
                [
                  "1",
                  "20.0",
                  "7.0",
                  "9.0",
                  "36.0"
                ],
                [
                  "2",
                  "15.0",
                  "15.0",
                  "6.0",
                  "36.0"
                ],
                [
                  "3",
                  "8.0",
                  "20.0",
                  "6.0",
                  "34.0"
                ],
                [
                  "4",
                  "2.5",
                  "10.0",
                  "5.0",
                  "17.5"
                ],
                [
                  "5",
                  "2.0",
                  "14.0",
                  "9.0",
                  "25.0"
                ],
                [
                  "6",
                  "4.0",
                  "28.0",
                  "8.5",
                  "40.5"
                ],
                [
                  "7",
                  "8.0",
                  "10.0",
                  "7.0",
                  "25.0"
                ],
                [
                  "8",
                  "1.0",
                  "15.0",
                  "8.0",
                  "24.0"
                ],
                [
                  "9",
                  "8.0",
                  "25.0",
                  "4.5",
                  "37.5"
                ],
                [
                  "10",
                  "3.5",
                  "9.0",
                  "8.0",
                  "20.5"
                ],
                [
                  "11",
                  "11.0",
                  "20.0",
                  "5.0",
                  "36.0"
                ],
                [
                  "12",
                  "10.0",
                  "14.0",
                  "8.0",
                  "32.0"
                ],
                [
                  "13",
                  "1.0",
                  "84.0",
                  "5.0",
                  "90.0"
                ],
                [
                  "14",
                  "10.0",
                  "11.0",
                  "9.0",
                  "30.0"
                ],
                [
                  "15",
                  "10.0",
                  "1.0",
                  "9.0",
                  "20.0"
                ],
                [
                  "16",
                  "1.0",
                  "5.0",
                  "6.5",
                  "12.5"
                ],
                [
                  "17",
                  "2.0",
                  "6.0",
                  "5.0",
                  "13.0"
                ],
                [
                  "18",
                  "40.0",
                  "4.0",
                  "4.0",
                  "48.0"
                ],
                [
                  "19",
                  "10.0",
                  "10.0",
                  "8.5",
                  "28.5"
                ],
                [
                  "20",
                  "30.0",
                  "30.0",
                  "9.5",
                  "69.5"
                ],
                [
                  "21",
                  "1.5",
                  "8.0",
                  "8.5",
                  "18.0"
                ],
                [
                  "22",
                  "10.0",
                  "12.0",
                  "9.0",
                  "31.0"
                ],
                [
                  "23",
                  "15.0",
                  "5.0",
                  "6.0",
                  "26.0"
                ],
                [
                  "24",
                  "4.0",
                  "5.0",
                  "6.5",
                  "15.5"
                ],
                [
                  "25",
                  "6.0",
                  "6.0",
                  "5.0",
                  "17.0"
                ],
                [
                  "26",
                  "100.0",
                  "2.0",
                  "7.0",
                  "109.0"
                ],
                [
                  "27",
                  "15.0",
                  "40.0",
                  "5.0",
                  "60.0"
                ],
                [
                  "28",
                  "1.0",
                  "14.0",
                  "6.0",
                  "21.0"
                ],
                [
                  "29",
                  "3.5",
                  "22.5",
                  "7.0",
                  "33.0"
                ],
                [
                  "30",
                  "10.0",
                  "20.0",
                  "8.0",
                  "38.0"
                ],
                [
                  "31",
                  "1.0",
                  "10.0",
                  "6.5",
                  "17.5"
                ],
                [
                  "32",
                  "1.0",
                  "3.0",
                  "7.0",
                  "11.0"
                ],
                [
                  "33",
                  "6.0",
                  "3.0",
                  "7.0",
                  "16.0"
                ],
                [
                  "34",
                  "1.5",
                  "5.5",
                  "5.5",
                  "12.5"
                ],
                [
                  "35",
                  "4.0",
                  "1.0",
                  "7.5",
                  "12.5"
                ],
                [
                  "36",
                  "10.0",
                  "5.0",
                  "9.0",
                  "24.0"
                ],
                [
                  "37",
                  "18.0",
                  "14.0",
                  "7.0",
                  "39.0"
                ],
                [
                  "38",
                  "20.0",
                  "15.0",
                  "6.5",
                  "41.5"
                ],
                [
                  "39",
                  "4.0",
                  "6.0",
                  "6.0",
                  "16.0"
                ],
                [
                  "40",
                  "20.0",
                  "25.0",
                  "9.0",
                  "54.0"
                ],
                [
                  "41",
                  "5.0",
                  "20.0",
                  "4.0",
                  "29.0"
                ],
                [
                  "42",
                  "0.0",
                  "30.0",
                  "3.5",
                  "33.5"
                ],
                [
                  "43",
                  "11.0",
                  "17.0",
                  "4.5",
                  "32.5"
                ],
                [
                  "44",
                  "0.0",
                  "30.0",
                  "8.5",
                  "38.5"
                ],
                [
                  "45",
                  "1.0",
                  "8.5",
                  "7.0",
                  "16.5"
                ],
                [
                  "46",
                  "2.0",
                  "10.0",
                  "11.0",
                  "23.0"
                ],
                [
                  "47",
                  "8.0",
                  "7.0",
                  "8.0",
                  "23.0"
                ],
                [
                  "48",
                  "1.0",
                  "5.0",
                  "4.0",
                  "10.0"
                ],
                [
                  "49",
                  "3.0",
                  "8.0",
                  "7.0",
                  "18.0"
                ]
              ],
              "shape": {
                "columns": 4,
                "rows": 148
              }
            },
            "text/html": [
              "<div>\n",
              "<style scoped>\n",
              "    .dataframe tbody tr th:only-of-type {\n",
              "        vertical-align: middle;\n",
              "    }\n",
              "\n",
              "    .dataframe tbody tr th {\n",
              "        vertical-align: top;\n",
              "    }\n",
              "\n",
              "    .dataframe thead th {\n",
              "        text-align: right;\n",
              "    }\n",
              "</style>\n",
              "<table border=\"1\" class=\"dataframe\">\n",
              "  <thead>\n",
              "    <tr style=\"text-align: right;\">\n",
              "      <th></th>\n",
              "      <th>tv</th>\n",
              "      <th>computer</th>\n",
              "      <th>sleep</th>\n",
              "      <th>total_hours</th>\n",
              "    </tr>\n",
              "  </thead>\n",
              "  <tbody>\n",
              "    <tr>\n",
              "      <th>0</th>\n",
              "      <td>13.0</td>\n",
              "      <td>10.0</td>\n",
              "      <td>3.5</td>\n",
              "      <td>26.5</td>\n",
              "    </tr>\n",
              "    <tr>\n",
              "      <th>1</th>\n",
              "      <td>20.0</td>\n",
              "      <td>7.0</td>\n",
              "      <td>9.0</td>\n",
              "      <td>36.0</td>\n",
              "    </tr>\n",
              "    <tr>\n",
              "      <th>2</th>\n",
              "      <td>15.0</td>\n",
              "      <td>15.0</td>\n",
              "      <td>6.0</td>\n",
              "      <td>36.0</td>\n",
              "    </tr>\n",
              "    <tr>\n",
              "      <th>3</th>\n",
              "      <td>8.0</td>\n",
              "      <td>20.0</td>\n",
              "      <td>6.0</td>\n",
              "      <td>34.0</td>\n",
              "    </tr>\n",
              "    <tr>\n",
              "      <th>4</th>\n",
              "      <td>2.5</td>\n",
              "      <td>10.0</td>\n",
              "      <td>5.0</td>\n",
              "      <td>17.5</td>\n",
              "    </tr>\n",
              "    <tr>\n",
              "      <th>...</th>\n",
              "      <td>...</td>\n",
              "      <td>...</td>\n",
              "      <td>...</td>\n",
              "      <td>...</td>\n",
              "    </tr>\n",
              "    <tr>\n",
              "      <th>143</th>\n",
              "      <td>5.0</td>\n",
              "      <td>35.0</td>\n",
              "      <td>5.0</td>\n",
              "      <td>45.0</td>\n",
              "    </tr>\n",
              "    <tr>\n",
              "      <th>144</th>\n",
              "      <td>8.0</td>\n",
              "      <td>32.0</td>\n",
              "      <td>6.0</td>\n",
              "      <td>46.0</td>\n",
              "    </tr>\n",
              "    <tr>\n",
              "      <th>145</th>\n",
              "      <td>9.0</td>\n",
              "      <td>7.0</td>\n",
              "      <td>7.0</td>\n",
              "      <td>23.0</td>\n",
              "    </tr>\n",
              "    <tr>\n",
              "      <th>146</th>\n",
              "      <td>1.0</td>\n",
              "      <td>10.0</td>\n",
              "      <td>5.0</td>\n",
              "      <td>16.0</td>\n",
              "    </tr>\n",
              "    <tr>\n",
              "      <th>147</th>\n",
              "      <td>5.0</td>\n",
              "      <td>2.0</td>\n",
              "      <td>6.0</td>\n",
              "      <td>13.0</td>\n",
              "    </tr>\n",
              "  </tbody>\n",
              "</table>\n",
              "<p>148 rows × 4 columns</p>\n",
              "</div>"
            ],
            "text/plain": [
              "       tv  computer  sleep  total_hours\n",
              "0    13.0      10.0    3.5         26.5\n",
              "1    20.0       7.0    9.0         36.0\n",
              "2    15.0      15.0    6.0         36.0\n",
              "3     8.0      20.0    6.0         34.0\n",
              "4     2.5      10.0    5.0         17.5\n",
              "..    ...       ...    ...          ...\n",
              "143   5.0      35.0    5.0         45.0\n",
              "144   8.0      32.0    6.0         46.0\n",
              "145   9.0       7.0    7.0         23.0\n",
              "146   1.0      10.0    5.0         16.0\n",
              "147   5.0       2.0    6.0         13.0\n",
              "\n",
              "[148 rows x 4 columns]"
            ]
          },
          "execution_count": 86,
          "metadata": {},
          "output_type": "execute_result"
        }
      ],
      "source": [
        "def total_hours(row):\n",
        "    return row['tv'] + row['computer'] + row['sleep']\n",
        "hw['total_hours'] = hw.apply(total_hours, axis=1)\n",
        "hw[['tv', 'computer', 'sleep', 'total_hours']]"
      ]
    },
    {
      "cell_type": "markdown",
      "metadata": {
        "id": "8V4a6G5hJBsO"
      },
      "source": [
        "# Use the invoice and customer dataframes to answer q11-15"
      ]
    },
    {
      "cell_type": "code",
      "execution_count": 87,
      "metadata": {
        "id": "VMBdaSPKGAgY",
        "trusted": true
      },
      "outputs": [
        {
          "data": {
            "application/vnd.microsoft.datawrangler.viewer.v0+json": {
              "columns": [
                {
                  "name": "index",
                  "rawType": "int64",
                  "type": "integer"
                },
                {
                  "name": "Unnamed: 0",
                  "rawType": "int64",
                  "type": "integer"
                },
                {
                  "name": "CUS_CODE",
                  "rawType": "int64",
                  "type": "integer"
                },
                {
                  "name": "CUS_LNAME",
                  "rawType": "object",
                  "type": "string"
                },
                {
                  "name": "CUS_FNAME",
                  "rawType": "object",
                  "type": "string"
                }
              ],
              "conversionMethod": "pd.DataFrame",
              "ref": "c6a88dd2-ff6c-4a13-a566-a01a1a5233e3",
              "rows": [
                [
                  "0",
                  "0",
                  "10010",
                  "Ramas",
                  "Alfred"
                ],
                [
                  "1",
                  "1",
                  "10011",
                  "Dunne",
                  "Leona"
                ],
                [
                  "2",
                  "2",
                  "10012",
                  "Smith",
                  "Kathy"
                ],
                [
                  "3",
                  "3",
                  "10013",
                  "Olowski",
                  "Paul"
                ],
                [
                  "4",
                  "4",
                  "10014",
                  "Orlando",
                  "Myron"
                ],
                [
                  "5",
                  "5",
                  "10015",
                  "O'Brian",
                  "Amy"
                ],
                [
                  "6",
                  "6",
                  "10016",
                  "Brown",
                  "James"
                ],
                [
                  "7",
                  "7",
                  "10017",
                  "Williams",
                  "George"
                ],
                [
                  "8",
                  "8",
                  "10018",
                  "Farriss",
                  "Anne"
                ],
                [
                  "9",
                  "9",
                  "10019",
                  "Smith",
                  "Olette"
                ]
              ],
              "shape": {
                "columns": 4,
                "rows": 10
              }
            },
            "text/html": [
              "<div>\n",
              "<style scoped>\n",
              "    .dataframe tbody tr th:only-of-type {\n",
              "        vertical-align: middle;\n",
              "    }\n",
              "\n",
              "    .dataframe tbody tr th {\n",
              "        vertical-align: top;\n",
              "    }\n",
              "\n",
              "    .dataframe thead th {\n",
              "        text-align: right;\n",
              "    }\n",
              "</style>\n",
              "<table border=\"1\" class=\"dataframe\">\n",
              "  <thead>\n",
              "    <tr style=\"text-align: right;\">\n",
              "      <th></th>\n",
              "      <th>Unnamed: 0</th>\n",
              "      <th>CUS_CODE</th>\n",
              "      <th>CUS_LNAME</th>\n",
              "      <th>CUS_FNAME</th>\n",
              "    </tr>\n",
              "  </thead>\n",
              "  <tbody>\n",
              "    <tr>\n",
              "      <th>0</th>\n",
              "      <td>0</td>\n",
              "      <td>10010</td>\n",
              "      <td>Ramas</td>\n",
              "      <td>Alfred</td>\n",
              "    </tr>\n",
              "    <tr>\n",
              "      <th>1</th>\n",
              "      <td>1</td>\n",
              "      <td>10011</td>\n",
              "      <td>Dunne</td>\n",
              "      <td>Leona</td>\n",
              "    </tr>\n",
              "    <tr>\n",
              "      <th>2</th>\n",
              "      <td>2</td>\n",
              "      <td>10012</td>\n",
              "      <td>Smith</td>\n",
              "      <td>Kathy</td>\n",
              "    </tr>\n",
              "    <tr>\n",
              "      <th>3</th>\n",
              "      <td>3</td>\n",
              "      <td>10013</td>\n",
              "      <td>Olowski</td>\n",
              "      <td>Paul</td>\n",
              "    </tr>\n",
              "    <tr>\n",
              "      <th>4</th>\n",
              "      <td>4</td>\n",
              "      <td>10014</td>\n",
              "      <td>Orlando</td>\n",
              "      <td>Myron</td>\n",
              "    </tr>\n",
              "    <tr>\n",
              "      <th>5</th>\n",
              "      <td>5</td>\n",
              "      <td>10015</td>\n",
              "      <td>O'Brian</td>\n",
              "      <td>Amy</td>\n",
              "    </tr>\n",
              "    <tr>\n",
              "      <th>6</th>\n",
              "      <td>6</td>\n",
              "      <td>10016</td>\n",
              "      <td>Brown</td>\n",
              "      <td>James</td>\n",
              "    </tr>\n",
              "    <tr>\n",
              "      <th>7</th>\n",
              "      <td>7</td>\n",
              "      <td>10017</td>\n",
              "      <td>Williams</td>\n",
              "      <td>George</td>\n",
              "    </tr>\n",
              "    <tr>\n",
              "      <th>8</th>\n",
              "      <td>8</td>\n",
              "      <td>10018</td>\n",
              "      <td>Farriss</td>\n",
              "      <td>Anne</td>\n",
              "    </tr>\n",
              "    <tr>\n",
              "      <th>9</th>\n",
              "      <td>9</td>\n",
              "      <td>10019</td>\n",
              "      <td>Smith</td>\n",
              "      <td>Olette</td>\n",
              "    </tr>\n",
              "  </tbody>\n",
              "</table>\n",
              "</div>"
            ],
            "text/plain": [
              "   Unnamed: 0  CUS_CODE CUS_LNAME CUS_FNAME\n",
              "0           0     10010     Ramas    Alfred\n",
              "1           1     10011     Dunne     Leona\n",
              "2           2     10012     Smith     Kathy\n",
              "3           3     10013   Olowski      Paul\n",
              "4           4     10014   Orlando     Myron\n",
              "5           5     10015   O'Brian       Amy\n",
              "6           6     10016     Brown     James\n",
              "7           7     10017  Williams    George\n",
              "8           8     10018   Farriss      Anne\n",
              "9           9     10019     Smith    Olette"
            ]
          },
          "execution_count": 87,
          "metadata": {},
          "output_type": "execute_result"
        }
      ],
      "source": [
        "customer=pd.read_csv('customer.csv')\n",
        "customer"
      ]
    },
    {
      "cell_type": "code",
      "execution_count": 88,
      "metadata": {},
      "outputs": [
        {
          "data": {
            "application/vnd.microsoft.datawrangler.viewer.v0+json": {
              "columns": [
                {
                  "name": "index",
                  "rawType": "int64",
                  "type": "integer"
                },
                {
                  "name": "Unnamed: 0",
                  "rawType": "int64",
                  "type": "integer"
                },
                {
                  "name": "INV_NUMBER",
                  "rawType": "int64",
                  "type": "integer"
                },
                {
                  "name": "CUS_CODE",
                  "rawType": "int64",
                  "type": "integer"
                },
                {
                  "name": "INV_DATE",
                  "rawType": "object",
                  "type": "string"
                }
              ],
              "conversionMethod": "pd.DataFrame",
              "ref": "4cc91287-9177-42fe-bd3c-df3f0f7eda25",
              "rows": [
                [
                  "0",
                  "0",
                  "1001",
                  "10014",
                  "2012-01-16"
                ],
                [
                  "1",
                  "1",
                  "1002",
                  "10011",
                  "2012-01-16"
                ],
                [
                  "2",
                  "2",
                  "1003",
                  "10012",
                  "2012-01-16"
                ],
                [
                  "3",
                  "3",
                  "1004",
                  "10011",
                  "2012-01-17"
                ],
                [
                  "4",
                  "4",
                  "1005",
                  "10018",
                  "2012-01-17"
                ],
                [
                  "5",
                  "5",
                  "1006",
                  "10014",
                  "2012-01-17"
                ],
                [
                  "6",
                  "6",
                  "1007",
                  "10015",
                  "2012-01-17"
                ],
                [
                  "7",
                  "7",
                  "1008",
                  "10011",
                  "2012-01-17"
                ]
              ],
              "shape": {
                "columns": 4,
                "rows": 8
              }
            },
            "text/html": [
              "<div>\n",
              "<style scoped>\n",
              "    .dataframe tbody tr th:only-of-type {\n",
              "        vertical-align: middle;\n",
              "    }\n",
              "\n",
              "    .dataframe tbody tr th {\n",
              "        vertical-align: top;\n",
              "    }\n",
              "\n",
              "    .dataframe thead th {\n",
              "        text-align: right;\n",
              "    }\n",
              "</style>\n",
              "<table border=\"1\" class=\"dataframe\">\n",
              "  <thead>\n",
              "    <tr style=\"text-align: right;\">\n",
              "      <th></th>\n",
              "      <th>Unnamed: 0</th>\n",
              "      <th>INV_NUMBER</th>\n",
              "      <th>CUS_CODE</th>\n",
              "      <th>INV_DATE</th>\n",
              "    </tr>\n",
              "  </thead>\n",
              "  <tbody>\n",
              "    <tr>\n",
              "      <th>0</th>\n",
              "      <td>0</td>\n",
              "      <td>1001</td>\n",
              "      <td>10014</td>\n",
              "      <td>2012-01-16</td>\n",
              "    </tr>\n",
              "    <tr>\n",
              "      <th>1</th>\n",
              "      <td>1</td>\n",
              "      <td>1002</td>\n",
              "      <td>10011</td>\n",
              "      <td>2012-01-16</td>\n",
              "    </tr>\n",
              "    <tr>\n",
              "      <th>2</th>\n",
              "      <td>2</td>\n",
              "      <td>1003</td>\n",
              "      <td>10012</td>\n",
              "      <td>2012-01-16</td>\n",
              "    </tr>\n",
              "    <tr>\n",
              "      <th>3</th>\n",
              "      <td>3</td>\n",
              "      <td>1004</td>\n",
              "      <td>10011</td>\n",
              "      <td>2012-01-17</td>\n",
              "    </tr>\n",
              "    <tr>\n",
              "      <th>4</th>\n",
              "      <td>4</td>\n",
              "      <td>1005</td>\n",
              "      <td>10018</td>\n",
              "      <td>2012-01-17</td>\n",
              "    </tr>\n",
              "    <tr>\n",
              "      <th>5</th>\n",
              "      <td>5</td>\n",
              "      <td>1006</td>\n",
              "      <td>10014</td>\n",
              "      <td>2012-01-17</td>\n",
              "    </tr>\n",
              "    <tr>\n",
              "      <th>6</th>\n",
              "      <td>6</td>\n",
              "      <td>1007</td>\n",
              "      <td>10015</td>\n",
              "      <td>2012-01-17</td>\n",
              "    </tr>\n",
              "    <tr>\n",
              "      <th>7</th>\n",
              "      <td>7</td>\n",
              "      <td>1008</td>\n",
              "      <td>10011</td>\n",
              "      <td>2012-01-17</td>\n",
              "    </tr>\n",
              "  </tbody>\n",
              "</table>\n",
              "</div>"
            ],
            "text/plain": [
              "   Unnamed: 0  INV_NUMBER  CUS_CODE    INV_DATE\n",
              "0           0        1001     10014  2012-01-16\n",
              "1           1        1002     10011  2012-01-16\n",
              "2           2        1003     10012  2012-01-16\n",
              "3           3        1004     10011  2012-01-17\n",
              "4           4        1005     10018  2012-01-17\n",
              "5           5        1006     10014  2012-01-17\n",
              "6           6        1007     10015  2012-01-17\n",
              "7           7        1008     10011  2012-01-17"
            ]
          },
          "execution_count": 88,
          "metadata": {},
          "output_type": "execute_result"
        }
      ],
      "source": [
        "invoice=pd.read_csv('invoice.csv')\n",
        "invoice"
      ]
    },
    {
      "cell_type": "markdown",
      "metadata": {
        "id": "p5bTvkqXJEl0"
      },
      "source": [
        "11. Count the number of invoices per customer from the invoice dataframe."
      ]
    },
    {
      "cell_type": "code",
      "execution_count": 89,
      "metadata": {
        "id": "Jf01s5GfGAgY",
        "trusted": true
      },
      "outputs": [
        {
          "data": {
            "text/plain": [
              "CUS_CODE\n",
              "10011    3\n",
              "10014    2\n",
              "10012    1\n",
              "10018    1\n",
              "10015    1\n",
              "Name: count, dtype: int64"
            ]
          },
          "execution_count": 89,
          "metadata": {},
          "output_type": "execute_result"
        }
      ],
      "source": [
        "invoice['CUS_CODE'].value_counts()"
      ]
    },
    {
      "cell_type": "markdown",
      "metadata": {
        "id": "5ddSY0NmJHZg"
      },
      "source": [
        "12. Merge the customer and invoice dataframes and show all matched and unmatched rows from both dataframes."
      ]
    },
    {
      "cell_type": "code",
      "execution_count": 90,
      "metadata": {
        "id": "CA_q-8YxGAgY",
        "trusted": true
      },
      "outputs": [
        {
          "data": {
            "application/vnd.microsoft.datawrangler.viewer.v0+json": {
              "columns": [
                {
                  "name": "index",
                  "rawType": "int64",
                  "type": "integer"
                },
                {
                  "name": "Unnamed: 0_x",
                  "rawType": "int64",
                  "type": "integer"
                },
                {
                  "name": "CUS_CODE",
                  "rawType": "int64",
                  "type": "integer"
                },
                {
                  "name": "CUS_LNAME",
                  "rawType": "object",
                  "type": "string"
                },
                {
                  "name": "CUS_FNAME",
                  "rawType": "object",
                  "type": "string"
                },
                {
                  "name": "Unnamed: 0_y",
                  "rawType": "float64",
                  "type": "float"
                },
                {
                  "name": "INV_NUMBER",
                  "rawType": "float64",
                  "type": "float"
                },
                {
                  "name": "INV_DATE",
                  "rawType": "object",
                  "type": "unknown"
                }
              ],
              "conversionMethod": "pd.DataFrame",
              "ref": "cf3a0dfd-a05a-4984-922a-196600ed9a78",
              "rows": [
                [
                  "0",
                  "0",
                  "10010",
                  "Ramas",
                  "Alfred",
                  null,
                  null,
                  null
                ],
                [
                  "1",
                  "1",
                  "10011",
                  "Dunne",
                  "Leona",
                  "1.0",
                  "1002.0",
                  "2012-01-16"
                ],
                [
                  "2",
                  "1",
                  "10011",
                  "Dunne",
                  "Leona",
                  "3.0",
                  "1004.0",
                  "2012-01-17"
                ],
                [
                  "3",
                  "1",
                  "10011",
                  "Dunne",
                  "Leona",
                  "7.0",
                  "1008.0",
                  "2012-01-17"
                ],
                [
                  "4",
                  "2",
                  "10012",
                  "Smith",
                  "Kathy",
                  "2.0",
                  "1003.0",
                  "2012-01-16"
                ],
                [
                  "5",
                  "3",
                  "10013",
                  "Olowski",
                  "Paul",
                  null,
                  null,
                  null
                ],
                [
                  "6",
                  "4",
                  "10014",
                  "Orlando",
                  "Myron",
                  "0.0",
                  "1001.0",
                  "2012-01-16"
                ],
                [
                  "7",
                  "4",
                  "10014",
                  "Orlando",
                  "Myron",
                  "5.0",
                  "1006.0",
                  "2012-01-17"
                ],
                [
                  "8",
                  "5",
                  "10015",
                  "O'Brian",
                  "Amy",
                  "6.0",
                  "1007.0",
                  "2012-01-17"
                ],
                [
                  "9",
                  "6",
                  "10016",
                  "Brown",
                  "James",
                  null,
                  null,
                  null
                ],
                [
                  "10",
                  "7",
                  "10017",
                  "Williams",
                  "George",
                  null,
                  null,
                  null
                ],
                [
                  "11",
                  "8",
                  "10018",
                  "Farriss",
                  "Anne",
                  "4.0",
                  "1005.0",
                  "2012-01-17"
                ],
                [
                  "12",
                  "9",
                  "10019",
                  "Smith",
                  "Olette",
                  null,
                  null,
                  null
                ]
              ],
              "shape": {
                "columns": 7,
                "rows": 13
              }
            },
            "text/html": [
              "<div>\n",
              "<style scoped>\n",
              "    .dataframe tbody tr th:only-of-type {\n",
              "        vertical-align: middle;\n",
              "    }\n",
              "\n",
              "    .dataframe tbody tr th {\n",
              "        vertical-align: top;\n",
              "    }\n",
              "\n",
              "    .dataframe thead th {\n",
              "        text-align: right;\n",
              "    }\n",
              "</style>\n",
              "<table border=\"1\" class=\"dataframe\">\n",
              "  <thead>\n",
              "    <tr style=\"text-align: right;\">\n",
              "      <th></th>\n",
              "      <th>Unnamed: 0_x</th>\n",
              "      <th>CUS_CODE</th>\n",
              "      <th>CUS_LNAME</th>\n",
              "      <th>CUS_FNAME</th>\n",
              "      <th>Unnamed: 0_y</th>\n",
              "      <th>INV_NUMBER</th>\n",
              "      <th>INV_DATE</th>\n",
              "    </tr>\n",
              "  </thead>\n",
              "  <tbody>\n",
              "    <tr>\n",
              "      <th>0</th>\n",
              "      <td>0</td>\n",
              "      <td>10010</td>\n",
              "      <td>Ramas</td>\n",
              "      <td>Alfred</td>\n",
              "      <td>NaN</td>\n",
              "      <td>NaN</td>\n",
              "      <td>NaN</td>\n",
              "    </tr>\n",
              "    <tr>\n",
              "      <th>1</th>\n",
              "      <td>1</td>\n",
              "      <td>10011</td>\n",
              "      <td>Dunne</td>\n",
              "      <td>Leona</td>\n",
              "      <td>1.0</td>\n",
              "      <td>1002.0</td>\n",
              "      <td>2012-01-16</td>\n",
              "    </tr>\n",
              "    <tr>\n",
              "      <th>2</th>\n",
              "      <td>1</td>\n",
              "      <td>10011</td>\n",
              "      <td>Dunne</td>\n",
              "      <td>Leona</td>\n",
              "      <td>3.0</td>\n",
              "      <td>1004.0</td>\n",
              "      <td>2012-01-17</td>\n",
              "    </tr>\n",
              "    <tr>\n",
              "      <th>3</th>\n",
              "      <td>1</td>\n",
              "      <td>10011</td>\n",
              "      <td>Dunne</td>\n",
              "      <td>Leona</td>\n",
              "      <td>7.0</td>\n",
              "      <td>1008.0</td>\n",
              "      <td>2012-01-17</td>\n",
              "    </tr>\n",
              "    <tr>\n",
              "      <th>4</th>\n",
              "      <td>2</td>\n",
              "      <td>10012</td>\n",
              "      <td>Smith</td>\n",
              "      <td>Kathy</td>\n",
              "      <td>2.0</td>\n",
              "      <td>1003.0</td>\n",
              "      <td>2012-01-16</td>\n",
              "    </tr>\n",
              "    <tr>\n",
              "      <th>5</th>\n",
              "      <td>3</td>\n",
              "      <td>10013</td>\n",
              "      <td>Olowski</td>\n",
              "      <td>Paul</td>\n",
              "      <td>NaN</td>\n",
              "      <td>NaN</td>\n",
              "      <td>NaN</td>\n",
              "    </tr>\n",
              "    <tr>\n",
              "      <th>6</th>\n",
              "      <td>4</td>\n",
              "      <td>10014</td>\n",
              "      <td>Orlando</td>\n",
              "      <td>Myron</td>\n",
              "      <td>0.0</td>\n",
              "      <td>1001.0</td>\n",
              "      <td>2012-01-16</td>\n",
              "    </tr>\n",
              "    <tr>\n",
              "      <th>7</th>\n",
              "      <td>4</td>\n",
              "      <td>10014</td>\n",
              "      <td>Orlando</td>\n",
              "      <td>Myron</td>\n",
              "      <td>5.0</td>\n",
              "      <td>1006.0</td>\n",
              "      <td>2012-01-17</td>\n",
              "    </tr>\n",
              "    <tr>\n",
              "      <th>8</th>\n",
              "      <td>5</td>\n",
              "      <td>10015</td>\n",
              "      <td>O'Brian</td>\n",
              "      <td>Amy</td>\n",
              "      <td>6.0</td>\n",
              "      <td>1007.0</td>\n",
              "      <td>2012-01-17</td>\n",
              "    </tr>\n",
              "    <tr>\n",
              "      <th>9</th>\n",
              "      <td>6</td>\n",
              "      <td>10016</td>\n",
              "      <td>Brown</td>\n",
              "      <td>James</td>\n",
              "      <td>NaN</td>\n",
              "      <td>NaN</td>\n",
              "      <td>NaN</td>\n",
              "    </tr>\n",
              "    <tr>\n",
              "      <th>10</th>\n",
              "      <td>7</td>\n",
              "      <td>10017</td>\n",
              "      <td>Williams</td>\n",
              "      <td>George</td>\n",
              "      <td>NaN</td>\n",
              "      <td>NaN</td>\n",
              "      <td>NaN</td>\n",
              "    </tr>\n",
              "    <tr>\n",
              "      <th>11</th>\n",
              "      <td>8</td>\n",
              "      <td>10018</td>\n",
              "      <td>Farriss</td>\n",
              "      <td>Anne</td>\n",
              "      <td>4.0</td>\n",
              "      <td>1005.0</td>\n",
              "      <td>2012-01-17</td>\n",
              "    </tr>\n",
              "    <tr>\n",
              "      <th>12</th>\n",
              "      <td>9</td>\n",
              "      <td>10019</td>\n",
              "      <td>Smith</td>\n",
              "      <td>Olette</td>\n",
              "      <td>NaN</td>\n",
              "      <td>NaN</td>\n",
              "      <td>NaN</td>\n",
              "    </tr>\n",
              "  </tbody>\n",
              "</table>\n",
              "</div>"
            ],
            "text/plain": [
              "    Unnamed: 0_x  CUS_CODE CUS_LNAME CUS_FNAME  Unnamed: 0_y  INV_NUMBER  \\\n",
              "0              0     10010     Ramas    Alfred           NaN         NaN   \n",
              "1              1     10011     Dunne     Leona           1.0      1002.0   \n",
              "2              1     10011     Dunne     Leona           3.0      1004.0   \n",
              "3              1     10011     Dunne     Leona           7.0      1008.0   \n",
              "4              2     10012     Smith     Kathy           2.0      1003.0   \n",
              "5              3     10013   Olowski      Paul           NaN         NaN   \n",
              "6              4     10014   Orlando     Myron           0.0      1001.0   \n",
              "7              4     10014   Orlando     Myron           5.0      1006.0   \n",
              "8              5     10015   O'Brian       Amy           6.0      1007.0   \n",
              "9              6     10016     Brown     James           NaN         NaN   \n",
              "10             7     10017  Williams    George           NaN         NaN   \n",
              "11             8     10018   Farriss      Anne           4.0      1005.0   \n",
              "12             9     10019     Smith    Olette           NaN         NaN   \n",
              "\n",
              "      INV_DATE  \n",
              "0          NaN  \n",
              "1   2012-01-16  \n",
              "2   2012-01-17  \n",
              "3   2012-01-17  \n",
              "4   2012-01-16  \n",
              "5          NaN  \n",
              "6   2012-01-16  \n",
              "7   2012-01-17  \n",
              "8   2012-01-17  \n",
              "9          NaN  \n",
              "10         NaN  \n",
              "11  2012-01-17  \n",
              "12         NaN  "
            ]
          },
          "execution_count": 90,
          "metadata": {},
          "output_type": "execute_result"
        }
      ],
      "source": [
        "pd.merge(customer, invoice, on='CUS_CODE', how='outer')"
      ]
    },
    {
      "cell_type": "markdown",
      "metadata": {
        "id": "QtLlT_QLJKOM"
      },
      "source": [
        "13. Merge the two dataframes customer and invoice into dataframe called customerInvoice using inner join.\n",
        "- Write customerInvoice data to a customerInvoice.csv file."
      ]
    },
    {
      "cell_type": "code",
      "execution_count": 91,
      "metadata": {
        "id": "uos15N_PGAgZ",
        "trusted": true
      },
      "outputs": [
        {
          "data": {
            "application/vnd.microsoft.datawrangler.viewer.v0+json": {
              "columns": [
                {
                  "name": "index",
                  "rawType": "int64",
                  "type": "integer"
                },
                {
                  "name": "Unnamed: 0_x",
                  "rawType": "int64",
                  "type": "integer"
                },
                {
                  "name": "CUS_CODE",
                  "rawType": "int64",
                  "type": "integer"
                },
                {
                  "name": "CUS_LNAME",
                  "rawType": "object",
                  "type": "string"
                },
                {
                  "name": "CUS_FNAME",
                  "rawType": "object",
                  "type": "string"
                },
                {
                  "name": "Unnamed: 0_y",
                  "rawType": "int64",
                  "type": "integer"
                },
                {
                  "name": "INV_NUMBER",
                  "rawType": "int64",
                  "type": "integer"
                },
                {
                  "name": "INV_DATE",
                  "rawType": "object",
                  "type": "string"
                }
              ],
              "conversionMethod": "pd.DataFrame",
              "ref": "75e7de8c-0608-4475-a728-4ca099ee8d02",
              "rows": [
                [
                  "0",
                  "1",
                  "10011",
                  "Dunne",
                  "Leona",
                  "1",
                  "1002",
                  "2012-01-16"
                ],
                [
                  "1",
                  "1",
                  "10011",
                  "Dunne",
                  "Leona",
                  "3",
                  "1004",
                  "2012-01-17"
                ],
                [
                  "2",
                  "1",
                  "10011",
                  "Dunne",
                  "Leona",
                  "7",
                  "1008",
                  "2012-01-17"
                ],
                [
                  "3",
                  "2",
                  "10012",
                  "Smith",
                  "Kathy",
                  "2",
                  "1003",
                  "2012-01-16"
                ],
                [
                  "4",
                  "4",
                  "10014",
                  "Orlando",
                  "Myron",
                  "0",
                  "1001",
                  "2012-01-16"
                ],
                [
                  "5",
                  "4",
                  "10014",
                  "Orlando",
                  "Myron",
                  "5",
                  "1006",
                  "2012-01-17"
                ],
                [
                  "6",
                  "5",
                  "10015",
                  "O'Brian",
                  "Amy",
                  "6",
                  "1007",
                  "2012-01-17"
                ],
                [
                  "7",
                  "8",
                  "10018",
                  "Farriss",
                  "Anne",
                  "4",
                  "1005",
                  "2012-01-17"
                ]
              ],
              "shape": {
                "columns": 7,
                "rows": 8
              }
            },
            "text/html": [
              "<div>\n",
              "<style scoped>\n",
              "    .dataframe tbody tr th:only-of-type {\n",
              "        vertical-align: middle;\n",
              "    }\n",
              "\n",
              "    .dataframe tbody tr th {\n",
              "        vertical-align: top;\n",
              "    }\n",
              "\n",
              "    .dataframe thead th {\n",
              "        text-align: right;\n",
              "    }\n",
              "</style>\n",
              "<table border=\"1\" class=\"dataframe\">\n",
              "  <thead>\n",
              "    <tr style=\"text-align: right;\">\n",
              "      <th></th>\n",
              "      <th>Unnamed: 0_x</th>\n",
              "      <th>CUS_CODE</th>\n",
              "      <th>CUS_LNAME</th>\n",
              "      <th>CUS_FNAME</th>\n",
              "      <th>Unnamed: 0_y</th>\n",
              "      <th>INV_NUMBER</th>\n",
              "      <th>INV_DATE</th>\n",
              "    </tr>\n",
              "  </thead>\n",
              "  <tbody>\n",
              "    <tr>\n",
              "      <th>0</th>\n",
              "      <td>1</td>\n",
              "      <td>10011</td>\n",
              "      <td>Dunne</td>\n",
              "      <td>Leona</td>\n",
              "      <td>1</td>\n",
              "      <td>1002</td>\n",
              "      <td>2012-01-16</td>\n",
              "    </tr>\n",
              "    <tr>\n",
              "      <th>1</th>\n",
              "      <td>1</td>\n",
              "      <td>10011</td>\n",
              "      <td>Dunne</td>\n",
              "      <td>Leona</td>\n",
              "      <td>3</td>\n",
              "      <td>1004</td>\n",
              "      <td>2012-01-17</td>\n",
              "    </tr>\n",
              "    <tr>\n",
              "      <th>2</th>\n",
              "      <td>1</td>\n",
              "      <td>10011</td>\n",
              "      <td>Dunne</td>\n",
              "      <td>Leona</td>\n",
              "      <td>7</td>\n",
              "      <td>1008</td>\n",
              "      <td>2012-01-17</td>\n",
              "    </tr>\n",
              "    <tr>\n",
              "      <th>3</th>\n",
              "      <td>2</td>\n",
              "      <td>10012</td>\n",
              "      <td>Smith</td>\n",
              "      <td>Kathy</td>\n",
              "      <td>2</td>\n",
              "      <td>1003</td>\n",
              "      <td>2012-01-16</td>\n",
              "    </tr>\n",
              "    <tr>\n",
              "      <th>4</th>\n",
              "      <td>4</td>\n",
              "      <td>10014</td>\n",
              "      <td>Orlando</td>\n",
              "      <td>Myron</td>\n",
              "      <td>0</td>\n",
              "      <td>1001</td>\n",
              "      <td>2012-01-16</td>\n",
              "    </tr>\n",
              "    <tr>\n",
              "      <th>5</th>\n",
              "      <td>4</td>\n",
              "      <td>10014</td>\n",
              "      <td>Orlando</td>\n",
              "      <td>Myron</td>\n",
              "      <td>5</td>\n",
              "      <td>1006</td>\n",
              "      <td>2012-01-17</td>\n",
              "    </tr>\n",
              "    <tr>\n",
              "      <th>6</th>\n",
              "      <td>5</td>\n",
              "      <td>10015</td>\n",
              "      <td>O'Brian</td>\n",
              "      <td>Amy</td>\n",
              "      <td>6</td>\n",
              "      <td>1007</td>\n",
              "      <td>2012-01-17</td>\n",
              "    </tr>\n",
              "    <tr>\n",
              "      <th>7</th>\n",
              "      <td>8</td>\n",
              "      <td>10018</td>\n",
              "      <td>Farriss</td>\n",
              "      <td>Anne</td>\n",
              "      <td>4</td>\n",
              "      <td>1005</td>\n",
              "      <td>2012-01-17</td>\n",
              "    </tr>\n",
              "  </tbody>\n",
              "</table>\n",
              "</div>"
            ],
            "text/plain": [
              "   Unnamed: 0_x  CUS_CODE CUS_LNAME CUS_FNAME  Unnamed: 0_y  INV_NUMBER  \\\n",
              "0             1     10011     Dunne     Leona             1        1002   \n",
              "1             1     10011     Dunne     Leona             3        1004   \n",
              "2             1     10011     Dunne     Leona             7        1008   \n",
              "3             2     10012     Smith     Kathy             2        1003   \n",
              "4             4     10014   Orlando     Myron             0        1001   \n",
              "5             4     10014   Orlando     Myron             5        1006   \n",
              "6             5     10015   O'Brian       Amy             6        1007   \n",
              "7             8     10018   Farriss      Anne             4        1005   \n",
              "\n",
              "     INV_DATE  \n",
              "0  2012-01-16  \n",
              "1  2012-01-17  \n",
              "2  2012-01-17  \n",
              "3  2012-01-16  \n",
              "4  2012-01-16  \n",
              "5  2012-01-17  \n",
              "6  2012-01-17  \n",
              "7  2012-01-17  "
            ]
          },
          "execution_count": 91,
          "metadata": {},
          "output_type": "execute_result"
        }
      ],
      "source": [
        "customerInvoice = pd.merge(customer, invoice, on='CUS_CODE', how='inner')\n",
        "customerInvoice.to_csv('customerInvoice.csv', index=False)\n",
        "customerInvoice"
      ]
    },
    {
      "cell_type": "markdown",
      "metadata": {
        "id": "AxNQ5xebJOfE"
      },
      "source": [
        "14. Group the invoices by customer last name and invoice date."
      ]
    },
    {
      "cell_type": "code",
      "execution_count": 92,
      "metadata": {
        "id": "gMtjf8XxGAgZ",
        "trusted": true
      },
      "outputs": [
        {
          "data": {
            "application/vnd.microsoft.datawrangler.viewer.v0+json": {
              "columns": [
                {
                  "name": "index",
                  "rawType": "int64",
                  "type": "integer"
                },
                {
                  "name": "CUS_LNAME",
                  "rawType": "object",
                  "type": "string"
                },
                {
                  "name": "INV_DATE",
                  "rawType": "object",
                  "type": "string"
                },
                {
                  "name": "count",
                  "rawType": "int64",
                  "type": "integer"
                }
              ],
              "conversionMethod": "pd.DataFrame",
              "ref": "f21e3ba0-d7a5-4ce7-a474-6a78ebde084c",
              "rows": [
                [
                  "0",
                  "Dunne",
                  "2012-01-16",
                  "1"
                ],
                [
                  "1",
                  "Dunne",
                  "2012-01-17",
                  "2"
                ],
                [
                  "2",
                  "Farriss",
                  "2012-01-17",
                  "1"
                ],
                [
                  "3",
                  "O'Brian",
                  "2012-01-17",
                  "1"
                ],
                [
                  "4",
                  "Orlando",
                  "2012-01-16",
                  "1"
                ],
                [
                  "5",
                  "Orlando",
                  "2012-01-17",
                  "1"
                ],
                [
                  "6",
                  "Smith",
                  "2012-01-16",
                  "1"
                ]
              ],
              "shape": {
                "columns": 3,
                "rows": 7
              }
            },
            "text/html": [
              "<div>\n",
              "<style scoped>\n",
              "    .dataframe tbody tr th:only-of-type {\n",
              "        vertical-align: middle;\n",
              "    }\n",
              "\n",
              "    .dataframe tbody tr th {\n",
              "        vertical-align: top;\n",
              "    }\n",
              "\n",
              "    .dataframe thead th {\n",
              "        text-align: right;\n",
              "    }\n",
              "</style>\n",
              "<table border=\"1\" class=\"dataframe\">\n",
              "  <thead>\n",
              "    <tr style=\"text-align: right;\">\n",
              "      <th></th>\n",
              "      <th>CUS_LNAME</th>\n",
              "      <th>INV_DATE</th>\n",
              "      <th>count</th>\n",
              "    </tr>\n",
              "  </thead>\n",
              "  <tbody>\n",
              "    <tr>\n",
              "      <th>0</th>\n",
              "      <td>Dunne</td>\n",
              "      <td>2012-01-16</td>\n",
              "      <td>1</td>\n",
              "    </tr>\n",
              "    <tr>\n",
              "      <th>1</th>\n",
              "      <td>Dunne</td>\n",
              "      <td>2012-01-17</td>\n",
              "      <td>2</td>\n",
              "    </tr>\n",
              "    <tr>\n",
              "      <th>2</th>\n",
              "      <td>Farriss</td>\n",
              "      <td>2012-01-17</td>\n",
              "      <td>1</td>\n",
              "    </tr>\n",
              "    <tr>\n",
              "      <th>3</th>\n",
              "      <td>O'Brian</td>\n",
              "      <td>2012-01-17</td>\n",
              "      <td>1</td>\n",
              "    </tr>\n",
              "    <tr>\n",
              "      <th>4</th>\n",
              "      <td>Orlando</td>\n",
              "      <td>2012-01-16</td>\n",
              "      <td>1</td>\n",
              "    </tr>\n",
              "    <tr>\n",
              "      <th>5</th>\n",
              "      <td>Orlando</td>\n",
              "      <td>2012-01-17</td>\n",
              "      <td>1</td>\n",
              "    </tr>\n",
              "    <tr>\n",
              "      <th>6</th>\n",
              "      <td>Smith</td>\n",
              "      <td>2012-01-16</td>\n",
              "      <td>1</td>\n",
              "    </tr>\n",
              "  </tbody>\n",
              "</table>\n",
              "</div>"
            ],
            "text/plain": [
              "  CUS_LNAME    INV_DATE  count\n",
              "0     Dunne  2012-01-16      1\n",
              "1     Dunne  2012-01-17      2\n",
              "2   Farriss  2012-01-17      1\n",
              "3   O'Brian  2012-01-17      1\n",
              "4   Orlando  2012-01-16      1\n",
              "5   Orlando  2012-01-17      1\n",
              "6     Smith  2012-01-16      1"
            ]
          },
          "execution_count": 92,
          "metadata": {},
          "output_type": "execute_result"
        }
      ],
      "source": [
        "customerInvoice.groupby(['CUS_LNAME', 'INV_DATE']).size().reset_index(name='count')"
      ]
    },
    {
      "cell_type": "markdown",
      "metadata": {
        "id": "D6Ux_idIJQ_o"
      },
      "source": [
        "15. Print the unique values for the column invoice date from the customerInvoice dataframe."
      ]
    },
    {
      "cell_type": "code",
      "execution_count": 93,
      "metadata": {
        "id": "jzBv6VPNGAga",
        "trusted": true
      },
      "outputs": [
        {
          "data": {
            "text/plain": [
              "['2012-01-16', '2012-01-17']"
            ]
          },
          "execution_count": 93,
          "metadata": {},
          "output_type": "execute_result"
        }
      ],
      "source": [
        "list(customerInvoice['INV_DATE'].unique())"
      ]
    }
  ],
  "metadata": {
    "colab": {
      "provenance": []
    },
    "kernelspec": {
      "display_name": "Python 3",
      "language": "python",
      "name": "python3"
    },
    "language_info": {
      "codemirror_mode": {
        "name": "ipython",
        "version": 3
      },
      "file_extension": ".py",
      "mimetype": "text/x-python",
      "name": "python",
      "nbconvert_exporter": "python",
      "pygments_lexer": "ipython3",
      "version": "3.12.6"
    }
  },
  "nbformat": 4,
  "nbformat_minor": 0
}
