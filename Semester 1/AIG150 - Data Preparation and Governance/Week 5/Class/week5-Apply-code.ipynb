{
  "metadata": {
    "language_info": {
      "codemirror_mode": {
        "name": "python",
        "version": 3
      },
      "file_extension": ".py",
      "mimetype": "text/x-python",
      "name": "python",
      "nbconvert_exporter": "python",
      "pygments_lexer": "ipython3",
      "version": "3.8"
    },
    "kernelspec": {
      "name": "python",
      "display_name": "Python (Pyodide)",
      "language": "python"
    }
  },
  "nbformat_minor": 4,
  "nbformat": 4,
  "cells": [
    {
      "cell_type": "code",
      "source": "# AIG150 Winter 2024\n# Week 5 Sample Code \n# Asma M Paracha\n# apply functions",
      "metadata": {},
      "execution_count": null,
      "outputs": []
    },
    {
      "cell_type": "code",
      "source": "# define a function first\ndef my_sq(x):\n    return x** 2",
      "metadata": {
        "trusted": true
      },
      "execution_count": 3,
      "outputs": []
    },
    {
      "cell_type": "code",
      "source": "# create a dataframe object \nimport pandas as pd\n\ndf = pd.DataFrame({\"a\": [10, 20, 30], \"b\": [20, 30, 40]})\nprint(df)",
      "metadata": {
        "trusted": true
      },
      "execution_count": 1,
      "outputs": [
        {
          "name": "stdout",
          "text": "    a   b\n0  10  20\n1  20  30\n2  30  40\n",
          "output_type": "stream"
        }
      ]
    },
    {
      "cell_type": "code",
      "source": "# Apply the  my_sq to all values\ndf_sq=df.apply(my_sq)\nprint(df_sq)",
      "metadata": {
        "trusted": true
      },
      "execution_count": 4,
      "outputs": [
        {
          "name": "stdout",
          "text": "     a     b\n0  100   400\n1  400   900\n2  900  1600\n",
          "output_type": "stream"
        }
      ]
    },
    {
      "cell_type": "code",
      "source": "# Apply the  my_sq to all values in the a column\n# Apply to a series\ndf_csq=df['a'].apply(my_sq)\nprint(df_csq)",
      "metadata": {
        "trusted": true
      },
      "execution_count": 5,
      "outputs": [
        {
          "name": "stdout",
          "text": "0    100\n1    400\n2    900\nName: a, dtype: int64\n",
          "output_type": "stream"
        }
      ]
    },
    {
      "cell_type": "code",
      "source": "# Another way to perform column wise operations for each column\n# axis=0 or axis=\"column\"\nprint(df.apply(my_sq,axis=0))\nprint(df)",
      "metadata": {
        "trusted": true
      },
      "execution_count": 16,
      "outputs": [
        {
          "name": "stdout",
          "text": "     a     b\n0  100   400\n1  400   900\n2  900  1600\n    a   b\n0  10  20\n1  20  30\n2  30  40\n",
          "output_type": "stream"
        }
      ]
    },
    {
      "cell_type": "code",
      "source": "# To perform row wise operations, for each row\n# axis=1 or axis=\"index\"\nprint(df.apply(my_sq,axis=1))",
      "metadata": {
        "trusted": true
      },
      "execution_count": 15,
      "outputs": [
        {
          "name": "stdout",
          "text": "     a     b\n0  100   400\n1  400   900\n2  900  1600\n",
          "output_type": "stream"
        }
      ]
    },
    {
      "cell_type": "code",
      "source": "# Define a function that takes 2 parameters\ndef my_exp(x,e):\n    return x ** e",
      "metadata": {
        "trusted": true
      },
      "execution_count": 8,
      "outputs": []
    },
    {
      "cell_type": "code",
      "source": "# Apply to the dataframe, needs to pass only one parameter value\ndf_cube=df.apply(my_exp,e=0.5)\nprint(df_cube)",
      "metadata": {
        "trusted": true
      },
      "execution_count": 10,
      "outputs": [
        {
          "name": "stdout",
          "text": "          a         b\n0  3.162278  4.472136\n1  4.472136  5.477226\n2  5.477226  6.324555\n",
          "output_type": "stream"
        }
      ]
    },
    {
      "cell_type": "code",
      "source": "# will work on any number of columns\ndef avg_3(col):\n  x=col[0]\n  y=col[1]\n  z=col[2]  \n  return (x + y + z) / 3",
      "metadata": {
        "trusted": true
      },
      "execution_count": 19,
      "outputs": []
    },
    {
      "cell_type": "code",
      "source": "df_2=pd.DataFrame({\"a\": [10, 20, 30], \"b\": [20, 30, 40],\"c\":[50,60,70]})\nprint(df_2.apply(avg_3))",
      "metadata": {
        "trusted": true
      },
      "execution_count": 20,
      "outputs": [
        {
          "name": "stdout",
          "text": "a    20.0\nb    30.0\nc    60.0\ndtype: float64\n",
          "output_type": "stream"
        }
      ]
    },
    {
      "cell_type": "code",
      "source": "df_2=pd.DataFrame({\"a\": [10, 20, 30], \"b\": [20, 30, 40]})\nprint(df_2.apply(avg_3))",
      "metadata": {
        "trusted": true
      },
      "execution_count": 21,
      "outputs": [
        {
          "name": "stdout",
          "text": "a    20.0\nb    30.0\ndtype: float64\n",
          "output_type": "stream"
        }
      ]
    },
    {
      "cell_type": "code",
      "source": "df_2=pd.DataFrame({\"a\": [10, 20, 30], \"b\": [20, 30, 40],\"c\":[50,60,70],\"d\":[70,80,90]})\nprint( df_2)\nprint(df_2.apply(avg_3))",
      "metadata": {
        "trusted": true
      },
      "execution_count": 26,
      "outputs": [
        {
          "name": "stdout",
          "text": "    a   b   c   d\n0  10  20  50  70\n1  20  30  60  80\n2  30  40  70  90\na    20.0\nb    30.0\nc    60.0\nd    80.0\ndtype: float64\n",
          "output_type": "stream"
        }
      ]
    },
    {
      "cell_type": "code",
      "source": "# doing the row wise average\ndf_2=pd.DataFrame({\"a\": [10, 20, 30], \"b\": [20, 30, 40],\"c\":[50,60,70]})\nprint(df_2.apply(avg_3,axis=1))",
      "metadata": {
        "trusted": true
      },
      "execution_count": 23,
      "outputs": [
        {
          "name": "stdout",
          "text": "0    26.666667\n1    36.666667\n2    46.666667\ndtype: float64\n",
          "output_type": "stream"
        }
      ]
    },
    {
      "cell_type": "code",
      "source": "# Vectorized Functions\ndf = pd.DataFrame({\"a\": [10, 20, 30], \"b\": [20, 30, 40]})\nprint(df)\n\n#define an average function\ndef avg_2(x, y):\n  return (x + y) / 2\n\n#pass a vector or values for x and y\nprint(avg_2(df['a'], df['b']))\n",
      "metadata": {
        "trusted": true
      },
      "execution_count": 27,
      "outputs": [
        {
          "name": "stdout",
          "text": "    a   b\n0  10  20\n1  20  30\n2  30  40\n0    15.0\n1    25.0\n2    35.0\ndtype: float64\n",
          "output_type": "stream"
        }
      ]
    },
    {
      "cell_type": "code",
      "source": "# Vectorize with Numpy\nimport numpy as np\n\ndef avg_2_mod(x, y):\n   \"\"\"Calculate the average, unless x is 20\n   If the value is 20, return a missing value\n   \"\"\"\n   if (x == 20):\n     return(np.NaN)\n   else:\n     return (x + y) / 2\n\n# np.vectorize actually creates a new function\navg_2_mod_vec = np.vectorize(avg_2_mod)\n\n# use the newly vectorized function\nprint(avg_2_mod_vec(df['a'], df['b']))",
      "metadata": {
        "trusted": true
      },
      "execution_count": 29,
      "outputs": [
        {
          "name": "stdout",
          "text": "[15. nan 35.]\n",
          "output_type": "stream"
        }
      ]
    },
    {
      "cell_type": "code",
      "source": "# For simple function like my_sq you can use one-liner directly in the apply method, this is called lambda functions\n# Lambda functions takes only one parameter\ndf['a_sq_lamb'] = df['a'].apply(lambda x: x ** 2)\nprint(df)",
      "metadata": {
        "trusted": true
      },
      "execution_count": 30,
      "outputs": [
        {
          "name": "stdout",
          "text": "    a   b  a_sq_lamb\n0  10  20        100\n1  20  30        400\n2  30  40        900\n",
          "output_type": "stream"
        }
      ]
    },
    {
      "cell_type": "code",
      "source": "",
      "metadata": {},
      "execution_count": null,
      "outputs": []
    }
  ]
}