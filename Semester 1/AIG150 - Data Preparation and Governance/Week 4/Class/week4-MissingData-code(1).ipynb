{
  "cells": [
    {
      "cell_type": "code",
      "execution_count": 18,
      "metadata": {},
      "outputs": [],
      "source": [
        "# AIG150 Winter 2024\n",
        "# Week 4 Sample Code \n",
        "# Asma M Paracha\n",
        "# Working with missing data"
      ]
    },
    {
      "cell_type": "code",
      "execution_count": 19,
      "metadata": {
        "trusted": true
      },
      "outputs": [],
      "source": [
        "import pandas as pd\n",
        "from numpy import nan\n",
        "visited = pd.read_csv('survey_visited.csv')"
      ]
    },
    {
      "cell_type": "code",
      "execution_count": 20,
      "metadata": {
        "trusted": true
      },
      "outputs": [
        {
          "name": "stdout",
          "output_type": "stream",
          "text": [
            "   ident   site       dated\n",
            "0    619   DR-1  1927-02-08\n",
            "1    622   DR-1  1927-02-10\n",
            "2    734   DR-3  1939-01-07\n",
            "3    735   DR-3  1930-01-12\n",
            "4    751   DR-3  1930-02-26\n",
            "5    752   DR-3         NaN\n",
            "6    837  MSK-4  1932-01-14\n",
            "7    844   DR-1  1932-03-22\n"
          ]
        }
      ],
      "source": [
        "# the data returned has missing values, loaded as NaN\n",
        "print(visited)"
      ]
    },
    {
      "cell_type": "code",
      "execution_count": 21,
      "metadata": {
        "trusted": true
      },
      "outputs": [
        {
          "name": "stdout",
          "output_type": "stream",
          "text": [
            "nan\n"
          ]
        }
      ],
      "source": [
        "print(visited.iloc[5,2])"
      ]
    },
    {
      "cell_type": "code",
      "execution_count": 22,
      "metadata": {
        "trusted": true
      },
      "outputs": [
        {
          "name": "stdout",
          "output_type": "stream",
          "text": [
            "True\n",
            "True\n"
          ]
        }
      ],
      "source": [
        "print(visited.iloc[5,2] is nan)\n",
        "print(pd.isnull(visited.iloc[5,2]))"
      ]
    },
    {
      "cell_type": "code",
      "execution_count": 23,
      "metadata": {
        "trusted": true
      },
      "outputs": [
        {
          "name": "stdout",
          "output_type": "stream",
          "text": [
            "   ident   site       dated\n",
            "0    619   DR-1  1927-02-08\n",
            "1    622   DR-1  1927-02-10\n",
            "2    734   DR-3  1939-01-07\n",
            "3    735   DR-3  1930-01-12\n",
            "4    751   DR-3  1930-02-26\n",
            "5    752   DR-3            \n",
            "6    837  MSK-4  1932-01-14\n",
            "7    844   DR-1  1932-03-22\n"
          ]
        }
      ],
      "source": [
        "# If you don't want to record anything for the missing vales\n",
        "visited = pd.read_csv('survey_visited.csv',keep_default_na=False)\n",
        "print(visited)"
      ]
    },
    {
      "cell_type": "code",
      "execution_count": 24,
      "metadata": {
        "trusted": true
      },
      "outputs": [
        {
          "name": "stdout",
          "output_type": "stream",
          "text": [
            "   ident   site       dated\n",
            "0    619   DR-1  1927-02-08\n",
            "1    622   DR-1  1927-02-10\n",
            "2    734   DR-3  1939-01-07\n",
            "3    735   DR-3  1930-01-12\n",
            "4    751   DR-3  1930-02-26\n",
            "5    752   DR-3         NaN\n",
            "6    837  MSK-4  1932-01-14\n",
            "7    844   DR-1  1932-03-22\n"
          ]
        }
      ],
      "source": [
        "# the data returned has missing values, loaded as NaN\n",
        "visited = pd.read_csv('survey_visited.csv', na_values=[\"\"],keep_default_na=False)\n",
        "print(visited)"
      ]
    },
    {
      "cell_type": "code",
      "execution_count": 25,
      "metadata": {
        "trusted": true
      },
      "outputs": [
        {
          "name": "stdout",
          "output_type": "stream",
          "text": [
            "   ident   site       dated\n",
            "0    619   DR-1  1927-02-08\n",
            "1    622   DR-1  1927-02-10\n",
            "2    734   DR-3  1939-01-07\n",
            "3    735   DR-3  1930-01-12\n",
            "4    751   DR-3  1930-02-26\n",
            "5    752   DR-3            \n",
            "6    837  MSK-4  1932-01-14\n",
            "7    844   DR-1  1932-03-22\n"
          ]
        }
      ],
      "source": [
        "# If you don't want to record the missing vales\n",
        "visited = pd.read_csv('survey_visited.csv', na_filter=False)\n",
        "print(visited)"
      ]
    },
    {
      "cell_type": "code",
      "execution_count": 26,
      "metadata": {
        "trusted": true
      },
      "outputs": [
        {
          "ename": "FileNotFoundError",
          "evalue": "[Errno 2] No such file or directory: 'survey_survey.csv'",
          "output_type": "error",
          "traceback": [
            "\u001b[1;31m---------------------------------------------------------------------------\u001b[0m",
            "\u001b[1;31mFileNotFoundError\u001b[0m                         Traceback (most recent call last)",
            "Cell \u001b[1;32mIn[26], line 2\u001b[0m\n\u001b[0;32m      1\u001b[0m \u001b[38;5;66;03m# missing values created at data merge\u001b[39;00m\n\u001b[1;32m----> 2\u001b[0m survey \u001b[38;5;241m=\u001b[39m \u001b[43mpd\u001b[49m\u001b[38;5;241;43m.\u001b[39;49m\u001b[43mread_csv\u001b[49m\u001b[43m(\u001b[49m\u001b[38;5;124;43m'\u001b[39;49m\u001b[38;5;124;43msurvey_survey.csv\u001b[39;49m\u001b[38;5;124;43m'\u001b[39;49m\u001b[43m)\u001b[49m\n\u001b[0;32m      3\u001b[0m visited \u001b[38;5;241m=\u001b[39m pd\u001b[38;5;241m.\u001b[39mread_csv(\u001b[38;5;124m'\u001b[39m\u001b[38;5;124msurvey_visited.csv\u001b[39m\u001b[38;5;124m'\u001b[39m)\n\u001b[0;32m      4\u001b[0m \u001b[38;5;28mprint\u001b[39m(survey)\n",
            "File \u001b[1;32mc:\\Users\\JonathanChackoPattas\\AppData\\Local\\Programs\\Python\\Python312\\Lib\\site-packages\\pandas\\io\\parsers\\readers.py:1026\u001b[0m, in \u001b[0;36mread_csv\u001b[1;34m(filepath_or_buffer, sep, delimiter, header, names, index_col, usecols, dtype, engine, converters, true_values, false_values, skipinitialspace, skiprows, skipfooter, nrows, na_values, keep_default_na, na_filter, verbose, skip_blank_lines, parse_dates, infer_datetime_format, keep_date_col, date_parser, date_format, dayfirst, cache_dates, iterator, chunksize, compression, thousands, decimal, lineterminator, quotechar, quoting, doublequote, escapechar, comment, encoding, encoding_errors, dialect, on_bad_lines, delim_whitespace, low_memory, memory_map, float_precision, storage_options, dtype_backend)\u001b[0m\n\u001b[0;32m   1013\u001b[0m kwds_defaults \u001b[38;5;241m=\u001b[39m _refine_defaults_read(\n\u001b[0;32m   1014\u001b[0m     dialect,\n\u001b[0;32m   1015\u001b[0m     delimiter,\n\u001b[1;32m   (...)\u001b[0m\n\u001b[0;32m   1022\u001b[0m     dtype_backend\u001b[38;5;241m=\u001b[39mdtype_backend,\n\u001b[0;32m   1023\u001b[0m )\n\u001b[0;32m   1024\u001b[0m kwds\u001b[38;5;241m.\u001b[39mupdate(kwds_defaults)\n\u001b[1;32m-> 1026\u001b[0m \u001b[38;5;28;01mreturn\u001b[39;00m \u001b[43m_read\u001b[49m\u001b[43m(\u001b[49m\u001b[43mfilepath_or_buffer\u001b[49m\u001b[43m,\u001b[49m\u001b[43m \u001b[49m\u001b[43mkwds\u001b[49m\u001b[43m)\u001b[49m\n",
            "File \u001b[1;32mc:\\Users\\JonathanChackoPattas\\AppData\\Local\\Programs\\Python\\Python312\\Lib\\site-packages\\pandas\\io\\parsers\\readers.py:620\u001b[0m, in \u001b[0;36m_read\u001b[1;34m(filepath_or_buffer, kwds)\u001b[0m\n\u001b[0;32m    617\u001b[0m _validate_names(kwds\u001b[38;5;241m.\u001b[39mget(\u001b[38;5;124m\"\u001b[39m\u001b[38;5;124mnames\u001b[39m\u001b[38;5;124m\"\u001b[39m, \u001b[38;5;28;01mNone\u001b[39;00m))\n\u001b[0;32m    619\u001b[0m \u001b[38;5;66;03m# Create the parser.\u001b[39;00m\n\u001b[1;32m--> 620\u001b[0m parser \u001b[38;5;241m=\u001b[39m \u001b[43mTextFileReader\u001b[49m\u001b[43m(\u001b[49m\u001b[43mfilepath_or_buffer\u001b[49m\u001b[43m,\u001b[49m\u001b[43m \u001b[49m\u001b[38;5;241;43m*\u001b[39;49m\u001b[38;5;241;43m*\u001b[39;49m\u001b[43mkwds\u001b[49m\u001b[43m)\u001b[49m\n\u001b[0;32m    622\u001b[0m \u001b[38;5;28;01mif\u001b[39;00m chunksize \u001b[38;5;129;01mor\u001b[39;00m iterator:\n\u001b[0;32m    623\u001b[0m     \u001b[38;5;28;01mreturn\u001b[39;00m parser\n",
            "File \u001b[1;32mc:\\Users\\JonathanChackoPattas\\AppData\\Local\\Programs\\Python\\Python312\\Lib\\site-packages\\pandas\\io\\parsers\\readers.py:1620\u001b[0m, in \u001b[0;36mTextFileReader.__init__\u001b[1;34m(self, f, engine, **kwds)\u001b[0m\n\u001b[0;32m   1617\u001b[0m     \u001b[38;5;28mself\u001b[39m\u001b[38;5;241m.\u001b[39moptions[\u001b[38;5;124m\"\u001b[39m\u001b[38;5;124mhas_index_names\u001b[39m\u001b[38;5;124m\"\u001b[39m] \u001b[38;5;241m=\u001b[39m kwds[\u001b[38;5;124m\"\u001b[39m\u001b[38;5;124mhas_index_names\u001b[39m\u001b[38;5;124m\"\u001b[39m]\n\u001b[0;32m   1619\u001b[0m \u001b[38;5;28mself\u001b[39m\u001b[38;5;241m.\u001b[39mhandles: IOHandles \u001b[38;5;241m|\u001b[39m \u001b[38;5;28;01mNone\u001b[39;00m \u001b[38;5;241m=\u001b[39m \u001b[38;5;28;01mNone\u001b[39;00m\n\u001b[1;32m-> 1620\u001b[0m \u001b[38;5;28mself\u001b[39m\u001b[38;5;241m.\u001b[39m_engine \u001b[38;5;241m=\u001b[39m \u001b[38;5;28;43mself\u001b[39;49m\u001b[38;5;241;43m.\u001b[39;49m\u001b[43m_make_engine\u001b[49m\u001b[43m(\u001b[49m\u001b[43mf\u001b[49m\u001b[43m,\u001b[49m\u001b[43m \u001b[49m\u001b[38;5;28;43mself\u001b[39;49m\u001b[38;5;241;43m.\u001b[39;49m\u001b[43mengine\u001b[49m\u001b[43m)\u001b[49m\n",
            "File \u001b[1;32mc:\\Users\\JonathanChackoPattas\\AppData\\Local\\Programs\\Python\\Python312\\Lib\\site-packages\\pandas\\io\\parsers\\readers.py:1880\u001b[0m, in \u001b[0;36mTextFileReader._make_engine\u001b[1;34m(self, f, engine)\u001b[0m\n\u001b[0;32m   1878\u001b[0m     \u001b[38;5;28;01mif\u001b[39;00m \u001b[38;5;124m\"\u001b[39m\u001b[38;5;124mb\u001b[39m\u001b[38;5;124m\"\u001b[39m \u001b[38;5;129;01mnot\u001b[39;00m \u001b[38;5;129;01min\u001b[39;00m mode:\n\u001b[0;32m   1879\u001b[0m         mode \u001b[38;5;241m+\u001b[39m\u001b[38;5;241m=\u001b[39m \u001b[38;5;124m\"\u001b[39m\u001b[38;5;124mb\u001b[39m\u001b[38;5;124m\"\u001b[39m\n\u001b[1;32m-> 1880\u001b[0m \u001b[38;5;28mself\u001b[39m\u001b[38;5;241m.\u001b[39mhandles \u001b[38;5;241m=\u001b[39m \u001b[43mget_handle\u001b[49m\u001b[43m(\u001b[49m\n\u001b[0;32m   1881\u001b[0m \u001b[43m    \u001b[49m\u001b[43mf\u001b[49m\u001b[43m,\u001b[49m\n\u001b[0;32m   1882\u001b[0m \u001b[43m    \u001b[49m\u001b[43mmode\u001b[49m\u001b[43m,\u001b[49m\n\u001b[0;32m   1883\u001b[0m \u001b[43m    \u001b[49m\u001b[43mencoding\u001b[49m\u001b[38;5;241;43m=\u001b[39;49m\u001b[38;5;28;43mself\u001b[39;49m\u001b[38;5;241;43m.\u001b[39;49m\u001b[43moptions\u001b[49m\u001b[38;5;241;43m.\u001b[39;49m\u001b[43mget\u001b[49m\u001b[43m(\u001b[49m\u001b[38;5;124;43m\"\u001b[39;49m\u001b[38;5;124;43mencoding\u001b[39;49m\u001b[38;5;124;43m\"\u001b[39;49m\u001b[43m,\u001b[49m\u001b[43m \u001b[49m\u001b[38;5;28;43;01mNone\u001b[39;49;00m\u001b[43m)\u001b[49m\u001b[43m,\u001b[49m\n\u001b[0;32m   1884\u001b[0m \u001b[43m    \u001b[49m\u001b[43mcompression\u001b[49m\u001b[38;5;241;43m=\u001b[39;49m\u001b[38;5;28;43mself\u001b[39;49m\u001b[38;5;241;43m.\u001b[39;49m\u001b[43moptions\u001b[49m\u001b[38;5;241;43m.\u001b[39;49m\u001b[43mget\u001b[49m\u001b[43m(\u001b[49m\u001b[38;5;124;43m\"\u001b[39;49m\u001b[38;5;124;43mcompression\u001b[39;49m\u001b[38;5;124;43m\"\u001b[39;49m\u001b[43m,\u001b[49m\u001b[43m \u001b[49m\u001b[38;5;28;43;01mNone\u001b[39;49;00m\u001b[43m)\u001b[49m\u001b[43m,\u001b[49m\n\u001b[0;32m   1885\u001b[0m \u001b[43m    \u001b[49m\u001b[43mmemory_map\u001b[49m\u001b[38;5;241;43m=\u001b[39;49m\u001b[38;5;28;43mself\u001b[39;49m\u001b[38;5;241;43m.\u001b[39;49m\u001b[43moptions\u001b[49m\u001b[38;5;241;43m.\u001b[39;49m\u001b[43mget\u001b[49m\u001b[43m(\u001b[49m\u001b[38;5;124;43m\"\u001b[39;49m\u001b[38;5;124;43mmemory_map\u001b[39;49m\u001b[38;5;124;43m\"\u001b[39;49m\u001b[43m,\u001b[49m\u001b[43m \u001b[49m\u001b[38;5;28;43;01mFalse\u001b[39;49;00m\u001b[43m)\u001b[49m\u001b[43m,\u001b[49m\n\u001b[0;32m   1886\u001b[0m \u001b[43m    \u001b[49m\u001b[43mis_text\u001b[49m\u001b[38;5;241;43m=\u001b[39;49m\u001b[43mis_text\u001b[49m\u001b[43m,\u001b[49m\n\u001b[0;32m   1887\u001b[0m \u001b[43m    \u001b[49m\u001b[43merrors\u001b[49m\u001b[38;5;241;43m=\u001b[39;49m\u001b[38;5;28;43mself\u001b[39;49m\u001b[38;5;241;43m.\u001b[39;49m\u001b[43moptions\u001b[49m\u001b[38;5;241;43m.\u001b[39;49m\u001b[43mget\u001b[49m\u001b[43m(\u001b[49m\u001b[38;5;124;43m\"\u001b[39;49m\u001b[38;5;124;43mencoding_errors\u001b[39;49m\u001b[38;5;124;43m\"\u001b[39;49m\u001b[43m,\u001b[49m\u001b[43m \u001b[49m\u001b[38;5;124;43m\"\u001b[39;49m\u001b[38;5;124;43mstrict\u001b[39;49m\u001b[38;5;124;43m\"\u001b[39;49m\u001b[43m)\u001b[49m\u001b[43m,\u001b[49m\n\u001b[0;32m   1888\u001b[0m \u001b[43m    \u001b[49m\u001b[43mstorage_options\u001b[49m\u001b[38;5;241;43m=\u001b[39;49m\u001b[38;5;28;43mself\u001b[39;49m\u001b[38;5;241;43m.\u001b[39;49m\u001b[43moptions\u001b[49m\u001b[38;5;241;43m.\u001b[39;49m\u001b[43mget\u001b[49m\u001b[43m(\u001b[49m\u001b[38;5;124;43m\"\u001b[39;49m\u001b[38;5;124;43mstorage_options\u001b[39;49m\u001b[38;5;124;43m\"\u001b[39;49m\u001b[43m,\u001b[49m\u001b[43m \u001b[49m\u001b[38;5;28;43;01mNone\u001b[39;49;00m\u001b[43m)\u001b[49m\u001b[43m,\u001b[49m\n\u001b[0;32m   1889\u001b[0m \u001b[43m\u001b[49m\u001b[43m)\u001b[49m\n\u001b[0;32m   1890\u001b[0m \u001b[38;5;28;01massert\u001b[39;00m \u001b[38;5;28mself\u001b[39m\u001b[38;5;241m.\u001b[39mhandles \u001b[38;5;129;01mis\u001b[39;00m \u001b[38;5;129;01mnot\u001b[39;00m \u001b[38;5;28;01mNone\u001b[39;00m\n\u001b[0;32m   1891\u001b[0m f \u001b[38;5;241m=\u001b[39m \u001b[38;5;28mself\u001b[39m\u001b[38;5;241m.\u001b[39mhandles\u001b[38;5;241m.\u001b[39mhandle\n",
            "File \u001b[1;32mc:\\Users\\JonathanChackoPattas\\AppData\\Local\\Programs\\Python\\Python312\\Lib\\site-packages\\pandas\\io\\common.py:873\u001b[0m, in \u001b[0;36mget_handle\u001b[1;34m(path_or_buf, mode, encoding, compression, memory_map, is_text, errors, storage_options)\u001b[0m\n\u001b[0;32m    868\u001b[0m \u001b[38;5;28;01melif\u001b[39;00m \u001b[38;5;28misinstance\u001b[39m(handle, \u001b[38;5;28mstr\u001b[39m):\n\u001b[0;32m    869\u001b[0m     \u001b[38;5;66;03m# Check whether the filename is to be opened in binary mode.\u001b[39;00m\n\u001b[0;32m    870\u001b[0m     \u001b[38;5;66;03m# Binary mode does not support 'encoding' and 'newline'.\u001b[39;00m\n\u001b[0;32m    871\u001b[0m     \u001b[38;5;28;01mif\u001b[39;00m ioargs\u001b[38;5;241m.\u001b[39mencoding \u001b[38;5;129;01mand\u001b[39;00m \u001b[38;5;124m\"\u001b[39m\u001b[38;5;124mb\u001b[39m\u001b[38;5;124m\"\u001b[39m \u001b[38;5;129;01mnot\u001b[39;00m \u001b[38;5;129;01min\u001b[39;00m ioargs\u001b[38;5;241m.\u001b[39mmode:\n\u001b[0;32m    872\u001b[0m         \u001b[38;5;66;03m# Encoding\u001b[39;00m\n\u001b[1;32m--> 873\u001b[0m         handle \u001b[38;5;241m=\u001b[39m \u001b[38;5;28;43mopen\u001b[39;49m\u001b[43m(\u001b[49m\n\u001b[0;32m    874\u001b[0m \u001b[43m            \u001b[49m\u001b[43mhandle\u001b[49m\u001b[43m,\u001b[49m\n\u001b[0;32m    875\u001b[0m \u001b[43m            \u001b[49m\u001b[43mioargs\u001b[49m\u001b[38;5;241;43m.\u001b[39;49m\u001b[43mmode\u001b[49m\u001b[43m,\u001b[49m\n\u001b[0;32m    876\u001b[0m \u001b[43m            \u001b[49m\u001b[43mencoding\u001b[49m\u001b[38;5;241;43m=\u001b[39;49m\u001b[43mioargs\u001b[49m\u001b[38;5;241;43m.\u001b[39;49m\u001b[43mencoding\u001b[49m\u001b[43m,\u001b[49m\n\u001b[0;32m    877\u001b[0m \u001b[43m            \u001b[49m\u001b[43merrors\u001b[49m\u001b[38;5;241;43m=\u001b[39;49m\u001b[43merrors\u001b[49m\u001b[43m,\u001b[49m\n\u001b[0;32m    878\u001b[0m \u001b[43m            \u001b[49m\u001b[43mnewline\u001b[49m\u001b[38;5;241;43m=\u001b[39;49m\u001b[38;5;124;43m\"\u001b[39;49m\u001b[38;5;124;43m\"\u001b[39;49m\u001b[43m,\u001b[49m\n\u001b[0;32m    879\u001b[0m \u001b[43m        \u001b[49m\u001b[43m)\u001b[49m\n\u001b[0;32m    880\u001b[0m     \u001b[38;5;28;01melse\u001b[39;00m:\n\u001b[0;32m    881\u001b[0m         \u001b[38;5;66;03m# Binary mode\u001b[39;00m\n\u001b[0;32m    882\u001b[0m         handle \u001b[38;5;241m=\u001b[39m \u001b[38;5;28mopen\u001b[39m(handle, ioargs\u001b[38;5;241m.\u001b[39mmode)\n",
            "\u001b[1;31mFileNotFoundError\u001b[0m: [Errno 2] No such file or directory: 'survey_survey.csv'"
          ]
        }
      ],
      "source": [
        "# missing values created at data merge\n",
        "survey = pd.read_csv('survey_survey.csv')\n",
        "visited = pd.read_csv('survey_visited.csv')\n",
        "print(survey)\n",
        "print(visited)"
      ]
    },
    {
      "cell_type": "code",
      "execution_count": null,
      "metadata": {},
      "outputs": [],
      "source": []
    },
    {
      "cell_type": "code",
      "execution_count": 16,
      "metadata": {
        "trusted": true
      },
      "outputs": [
        {
          "name": "stdout",
          "output_type": "stream",
          "text": [
            "    ident   site       dated  taken person quant  reading\n",
            "0     619   DR-1  1927-02-08    619   dyer   rad     9.82\n",
            "1     619   DR-1  1927-02-08    619   dyer   sal     0.13\n",
            "2     622   DR-1  1927-02-10    622   dyer   rad     7.80\n",
            "3     622   DR-1  1927-02-10    622   dyer   sal     0.09\n",
            "4     734   DR-3  1939-01-07    734     pb   rad     8.41\n",
            "5     734   DR-3  1939-01-07    734   lake   sal     0.05\n",
            "6     734   DR-3  1939-01-07    734     pb  temp   -21.50\n",
            "7     735   DR-3  1930-01-12    735     pb   rad     7.22\n",
            "8     735   DR-3  1930-01-12    735    NaN   sal     0.06\n",
            "9     735   DR-3  1930-01-12    735    NaN  temp   -26.00\n",
            "10    751   DR-3  1930-02-26    751     pb   rad     4.35\n",
            "11    751   DR-3  1930-02-26    751     pb  temp   -18.50\n",
            "12    751   DR-3  1930-02-26    751   lake   sal     0.10\n",
            "13    752   DR-3         NaN    752   lake   rad     2.19\n",
            "14    752   DR-3         NaN    752   lake   sal     0.09\n",
            "15    752   DR-3         NaN    752   lake  temp   -16.00\n",
            "16    752   DR-3         NaN    752    roe   sal    41.60\n",
            "17    837  MSK-4  1932-01-14    837   lake   rad     1.46\n",
            "18    837  MSK-4  1932-01-14    837   lake   sal     0.21\n",
            "19    837  MSK-4  1932-01-14    837    roe   sal    22.50\n",
            "20    844   DR-1  1932-03-22    844    roe   rad    11.25\n"
          ]
        }
      ],
      "source": [
        "# merge the 2 dataframe objects visinting in missing values\n",
        "vs = visited.merge(survey, left_on='ident', right_on='taken')\n",
        "print(vs)"
      ]
    },
    {
      "cell_type": "code",
      "execution_count": 4,
      "metadata": {
        "trusted": true
      },
      "outputs": [
        {
          "name": "stdout",
          "output_type": "stream",
          "text": [
            "year\n",
            "1952    49.057620\n",
            "1957    51.507401\n",
            "1962    53.609249\n",
            "1967    55.678290\n",
            "1972    57.647386\n",
            "1977    59.570157\n",
            "1982    61.533197\n",
            "1987    63.212613\n",
            "1992    64.160338\n",
            "1997    65.014676\n",
            "2002    65.694923\n",
            "2007    67.007423\n",
            "Name: lifeExp, dtype: float64\n"
          ]
        }
      ],
      "source": [
        "# Missing values due to reindexing\n",
        "gapminder = pd.read_csv('gapminder.tsv', sep='\\t')\n",
        "life_exp = gapminder.groupby(['year'])['lifeExp'].mean()\n",
        "print(life_exp)"
      ]
    },
    {
      "cell_type": "code",
      "execution_count": null,
      "metadata": {
        "trusted": true
      },
      "outputs": [],
      "source": [
        "# Take a subset of the data for the year 2000 and then re-index it "
      ]
    },
    {
      "cell_type": "code",
      "execution_count": 5,
      "metadata": {
        "trusted": true
      },
      "outputs": [
        {
          "name": "stdout",
          "output_type": "stream",
          "text": [
            "year\n",
            "2002    65.694923\n",
            "2007    67.007423\n",
            "Name: lifeExp, dtype: float64\n"
          ]
        }
      ],
      "source": [
        "# subset\n",
        "y2000 = life_exp[life_exp.index > 2000]\n",
        "print(y2000)"
      ]
    },
    {
      "cell_type": "code",
      "execution_count": 6,
      "metadata": {
        "trusted": true
      },
      "outputs": [
        {
          "name": "stdout",
          "output_type": "stream",
          "text": [
            "year\n",
            "2000          NaN\n",
            "2001          NaN\n",
            "2002    65.694923\n",
            "2003          NaN\n",
            "2004          NaN\n",
            "2005          NaN\n",
            "2006          NaN\n",
            "2007    67.007423\n",
            "2008          NaN\n",
            "2009          NaN\n",
            "Name: lifeExp, dtype: float64\n"
          ]
        }
      ],
      "source": [
        "# reindex to see data from year 2000- 2010, will introduce a number of missing values\n",
        "print(y2000.reindex(range(2000, 2010)))"
      ]
    },
    {
      "cell_type": "code",
      "execution_count": 19,
      "metadata": {
        "trusted": true
      },
      "outputs": [
        {
          "name": "stdout",
          "output_type": "stream",
          "text": [
            "goat      4.0\n",
            "amoeba    NaN\n",
            "dtype: float64\n"
          ]
        }
      ],
      "source": [
        "# user input\n",
        "# missing value in a series\n",
        "from numpy import nan\n",
        "num_legs = pd.Series({'goat': 4, 'amoeba': nan})\n",
        "print(num_legs)"
      ]
    },
    {
      "cell_type": "code",
      "execution_count": 8,
      "metadata": {
        "trusted": true
      },
      "outputs": [
        {
          "name": "stdout",
          "output_type": "stream",
          "text": [
            "Date                   122\n",
            "Day                    122\n",
            "Cases_Guinea            93\n",
            "Cases_Liberia           83\n",
            "Cases_SierraLeone       87\n",
            "Cases_Nigeria           38\n",
            "Cases_Senegal           25\n",
            "Cases_UnitedStates      18\n",
            "Cases_Spain             16\n",
            "Cases_Mali              12\n",
            "Deaths_Guinea           92\n",
            "Deaths_Liberia          81\n",
            "Deaths_SierraLeone      87\n",
            "Deaths_Nigeria          38\n",
            "Deaths_Senegal          22\n",
            "Deaths_UnitedStates     18\n",
            "Deaths_Spain            16\n",
            "Deaths_Mali             12\n",
            "dtype: int64\n"
          ]
        }
      ],
      "source": [
        "# count the number of non-missing values\n",
        "ebola = pd.read_csv('country_timeseries.csv')\n",
        "print(ebola.count())"
      ]
    },
    {
      "cell_type": "code",
      "execution_count": 8,
      "metadata": {
        "trusted": true
      },
      "outputs": [
        {
          "name": "stdout",
          "output_type": "stream",
          "text": [
            "122\n",
            "Date                     0\n",
            "Day                      0\n",
            "Cases_Guinea            29\n",
            "Cases_Liberia           39\n",
            "Cases_SierraLeone       35\n",
            "Cases_Nigeria           84\n",
            "Cases_Senegal           97\n",
            "Cases_UnitedStates     104\n",
            "Cases_Spain            106\n",
            "Cases_Mali             110\n",
            "Deaths_Guinea           30\n",
            "Deaths_Liberia          41\n",
            "Deaths_SierraLeone      35\n",
            "Deaths_Nigeria          84\n",
            "Deaths_Senegal         100\n",
            "Deaths_UnitedStates    104\n",
            "Deaths_Spain           106\n",
            "Deaths_Mali            110\n",
            "dtype: int64\n"
          ]
        }
      ],
      "source": [
        "# to get the number of missing values you can subtract non missing row count from the total number of rows\n",
        "num_rows = ebola.shape[0]\n",
        "num_missing = num_rows - ebola.count()\n",
        "print(num_missing)"
      ]
    },
    {
      "cell_type": "code",
      "execution_count": 25,
      "metadata": {
        "trusted": true
      },
      "outputs": [
        {
          "name": "stdout",
          "output_type": "stream",
          "text": [
            "1214\n"
          ]
        }
      ],
      "source": [
        "# Aonther way to count the number of missing values\n",
        "import numpy as np\n",
        "#print(ebola.isnull())\n",
        "\n",
        "print(np.count_nonzero(ebola.isnull()))"
      ]
    },
    {
      "cell_type": "code",
      "execution_count": 11,
      "metadata": {
        "trusted": true
      },
      "outputs": [
        {
          "name": "stdout",
          "output_type": "stream",
          "text": [
            "29\n"
          ]
        }
      ],
      "source": [
        "# missing value in a column\n",
        "print(np.count_nonzero(ebola['Cases_Guinea'].isnull()))"
      ]
    },
    {
      "cell_type": "code",
      "execution_count": 25,
      "metadata": {
        "trusted": true
      },
      "outputs": [
        {
          "name": "stdout",
          "output_type": "stream",
          "text": [
            "           Date  Day  Cases_Guinea  Cases_Liberia  Cases_SierraLeone\n",
            "0      1/5/2015  289        2776.0            0.0            10030.0\n",
            "1      1/4/2015  288        2775.0            0.0             9780.0\n",
            "2      1/3/2015  287        2769.0         8166.0             9722.0\n",
            "3      1/2/2015  286           0.0         8157.0                0.0\n",
            "4    12/31/2014  284        2730.0         8115.0             9633.0\n",
            "..          ...  ...           ...            ...                ...\n",
            "117   3/27/2014    5         103.0            8.0                6.0\n",
            "118   3/26/2014    4          86.0            0.0                0.0\n",
            "119   3/25/2014    3          86.0            0.0                0.0\n",
            "120   3/24/2014    2          86.0            0.0                0.0\n",
            "121   3/22/2014    0          49.0            0.0                0.0\n",
            "\n",
            "[122 rows x 5 columns]\n"
          ]
        }
      ],
      "source": [
        "# Clean Missing Values\n",
        "# fill the missing values to 0 and only look at the first 5 columns\n",
        "print(ebola.fillna(0).iloc[:, 0:5])"
      ]
    },
    {
      "cell_type": "code",
      "execution_count": 9,
      "metadata": {
        "trusted": true
      },
      "outputs": [
        {
          "name": "stdout",
          "output_type": "stream",
          "text": [
            "           Date  Day  Cases_Guinea  Cases_Liberia  Cases_SierraLeone\n",
            "0      1/5/2015  289        2776.0         8166.0            10030.0\n",
            "1      1/4/2015  288        2775.0         8166.0             9780.0\n",
            "2      1/3/2015  287        2769.0         8166.0             9722.0\n",
            "3      1/2/2015  286        2730.0         8157.0             9633.0\n",
            "4    12/31/2014  284        2730.0         8115.0             9633.0\n",
            "..          ...  ...           ...            ...                ...\n",
            "117   3/27/2014    5         103.0            8.0                6.0\n",
            "118   3/26/2014    4          86.0            NaN                NaN\n",
            "119   3/25/2014    3          86.0            NaN                NaN\n",
            "120   3/24/2014    2          86.0            NaN                NaN\n",
            "121   3/22/2014    0          49.0            NaN                NaN\n",
            "\n",
            "[122 rows x 5 columns]\n"
          ]
        }
      ],
      "source": [
        "# forward fill method used to fill data forward, the last known value is use to fill in missing data\n",
        "# You can try bfill for backward fill \n",
        "print(ebola.fillna(method='ffill').iloc[:, 0:5])\n",
        "\n",
        "\n",
        "# Check the interpolate() method also"
      ]
    },
    {
      "cell_type": "code",
      "execution_count": 27,
      "metadata": {
        "trusted": true
      },
      "outputs": [
        {
          "name": "stdout",
          "output_type": "stream",
          "text": [
            "(122, 18)\n",
            "(1, 18)\n"
          ]
        }
      ],
      "source": [
        "# drop missing values\n",
        "# Check the complete dropna argument list for \"how\" and its possible values\n",
        "print(ebola.shape)\n",
        "ebola_dropna = ebola.dropna()\n",
        "print(ebola_dropna.shape)"
      ]
    },
    {
      "cell_type": "code",
      "execution_count": 28,
      "metadata": {
        "trusted": true
      },
      "outputs": [
        {
          "name": "stdout",
          "output_type": "stream",
          "text": [
            "          Date  Day  Cases_Guinea  Cases_Liberia  Cases_SierraLeone  \\\n",
            "19  11/18/2014  241        2047.0         7082.0             6190.0   \n",
            "\n",
            "    Cases_Nigeria  Cases_Senegal  Cases_UnitedStates  Cases_Spain  Cases_Mali  \\\n",
            "19           20.0            1.0                 4.0          1.0         6.0   \n",
            "\n",
            "    Deaths_Guinea  Deaths_Liberia  Deaths_SierraLeone  Deaths_Nigeria  \\\n",
            "19         1214.0          2963.0              1267.0             8.0   \n",
            "\n",
            "    Deaths_Senegal  Deaths_UnitedStates  Deaths_Spain  Deaths_Mali  \n",
            "19             0.0                  1.0           0.0          6.0  \n"
          ]
        }
      ],
      "source": [
        "print(ebola_dropna)"
      ]
    },
    {
      "cell_type": "code",
      "execution_count": null,
      "metadata": {},
      "outputs": [],
      "source": [
        "# Calculations involving missing values results in nan\n",
        "# The buildin sum and mean methods ignore NAN\n",
        "# USe the skipna=TRUE in your calculations"
      ]
    },
    {
      "cell_type": "code",
      "execution_count": 27,
      "metadata": {
        "trusted": true
      },
      "outputs": [
        {
          "name": "stdout",
          "output_type": "stream",
          "text": [
            "0    4.0\n",
            "1    NaN\n",
            "2    NaN\n",
            "dtype: float64\n"
          ]
        }
      ],
      "source": [
        "dset=[(1,nan,2),\n",
        "   (3,nan,nan)]\n",
        "df1=pd.DataFrame(data=dset)\n",
        "dset=[(4,5,6),\n",
        "      (8,9,10)]\n",
        "df2=pd.DataFrame(data=dset)\n",
        "print(df1.mul(df2))\n",
        "\n"
      ]
    },
    {
      "cell_type": "code",
      "execution_count": null,
      "metadata": {
        "trusted": true
      },
      "outputs": [],
      "source": [
        "print(df1.sum())"
      ]
    }
  ],
  "metadata": {
    "kernelspec": {
      "display_name": "Python 3",
      "language": "python",
      "name": "python3"
    },
    "language_info": {
      "codemirror_mode": {
        "name": "ipython",
        "version": 3
      },
      "file_extension": ".py",
      "mimetype": "text/x-python",
      "name": "python",
      "nbconvert_exporter": "python",
      "pygments_lexer": "ipython3",
      "version": "3.12.6"
    }
  },
  "nbformat": 4,
  "nbformat_minor": 4
}
