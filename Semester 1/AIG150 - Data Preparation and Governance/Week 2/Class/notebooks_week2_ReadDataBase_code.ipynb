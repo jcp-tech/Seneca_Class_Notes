{
  "metadata": {
    "language_info": {
      "codemirror_mode": {
        "name": "python",
        "version": 3
      },
      "file_extension": ".py",
      "mimetype": "text/x-python",
      "name": "python",
      "nbconvert_exporter": "python",
      "pygments_lexer": "ipython3",
      "version": "3.8"
    },
    "kernelspec": {
      "name": "python",
      "display_name": "Python (Pyodide)",
      "language": "python"
    },
    "colab": {
      "provenance": []
    }
  },
  "nbformat_minor": 0,
  "nbformat": 4,
  "cells": [
    {
      "cell_type": "code",
      "source": [
        "# AIG150 Fall 2024\n",
        "# Week 2 Sample Code\n",
        "# Mathusan Thanabalasingam\n",
        "# working with RDBMS"
      ],
      "metadata": {
        "id": "GSdhvPOJRdEa"
      },
      "execution_count": null,
      "outputs": []
    },
    {
      "cell_type": "code",
      "source": [
        "!pip install mysql-connector-python"
      ],
      "metadata": {
        "colab": {
          "base_uri": "https://localhost:8080/"
        },
        "id": "PFL0XbbKVuaf",
        "outputId": "fcd9bb4e-00f4-44db-9b36-4b48494eb7b2"
      },
      "execution_count": 1,
      "outputs": [
        {
          "output_type": "stream",
          "name": "stdout",
          "text": [
            "Collecting mysql-connector-python\n",
            "  Downloading mysql_connector_python-9.1.0-cp310-cp310-manylinux_2_28_x86_64.whl.metadata (6.0 kB)\n",
            "Downloading mysql_connector_python-9.1.0-cp310-cp310-manylinux_2_28_x86_64.whl (34.4 MB)\n",
            "\u001b[2K   \u001b[90m━━━━━━━━━━━━━━━━━━━━━━━━━━━━━━━━━━━━━━━━\u001b[0m \u001b[32m34.4/34.4 MB\u001b[0m \u001b[31m29.2 MB/s\u001b[0m eta \u001b[36m0:00:00\u001b[0m\n",
            "\u001b[?25hInstalling collected packages: mysql-connector-python\n",
            "Successfully installed mysql-connector-python-9.1.0\n"
          ]
        }
      ]
    },
    {
      "cell_type": "code",
      "source": [
        "# NOTE: I created my own database using https://www.freemysqlhosting.net/\n",
        "\n",
        "import pandas as pd\n",
        "import mysql.connector\n",
        "\n",
        "# Replace with your actual database credentials\n",
        "mydb = mysql.connector.connect(\n",
        "  host=\"sql5.freemysqlhosting.net\",\n",
        "  user=\"sql5757575\",\n",
        "  password=\"gCTYvUT6AN\",\n",
        "  database=\"sql5757575\"\n",
        ")\n",
        "\n",
        "# Create a cursor object\n",
        "mycursor = mydb.cursor()\n",
        "\n",
        "# Define your SQL query\n",
        "sql_query = \"SELECT * FROM countries\"\n",
        "\n",
        "# Read data into a pandas DataFrame\n",
        "df = pd.read_sql(sql_query, mydb)\n",
        "\n",
        "# Close the database connection\n",
        "mydb.close()\n",
        "\n",
        "# Now you can work with the DataFrame 'df'\n",
        "print(df.head())"
      ],
      "metadata": {
        "colab": {
          "base_uri": "https://localhost:8080/"
        },
        "id": "VNuVdMWe9iMf",
        "outputId": "31f1296d-ce9e-4694-fb1c-73227cf66294"
      },
      "execution_count": 5,
      "outputs": [
        {
          "output_type": "stream",
          "name": "stdout",
          "text": [
            "  country_id country_name  region_id\n",
            "0         AR    Argentina          2\n",
            "1         AU    Australia          3\n",
            "2         BE      Belgium          1\n",
            "3         BR       Brazil          2\n",
            "4         CA       Canada          2\n"
          ]
        },
        {
          "output_type": "stream",
          "name": "stderr",
          "text": [
            "<ipython-input-5-5c58ae094f8c>:21: UserWarning: pandas only supports SQLAlchemy connectable (engine/connection) or database string URI or sqlite3 DBAPI2 connection. Other DBAPI2 objects are not tested. Please consider using SQLAlchemy.\n",
            "  df = pd.read_sql(sql_query, mydb)\n"
          ]
        }
      ]
    },
    {
      "cell_type": "code",
      "source": [],
      "metadata": {
        "id": "jqI7ZtwMCZdK"
      },
      "execution_count": null,
      "outputs": []
    }
  ]
}