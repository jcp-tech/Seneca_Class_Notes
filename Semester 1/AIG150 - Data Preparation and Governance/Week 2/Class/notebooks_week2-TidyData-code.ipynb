{
  "metadata": {
    "language_info": {
      "codemirror_mode": {
        "name": "python",
        "version": 3
      },
      "file_extension": ".py",
      "mimetype": "text/x-python",
      "name": "python",
      "nbconvert_exporter": "python",
      "pygments_lexer": "ipython3",
      "version": "3.8"
    },
    "kernelspec": {
      "name": "python",
      "display_name": "Python (Pyodide)",
      "language": "python"
    }
  },
  "nbformat_minor": 4,
  "nbformat": 4,
  "cells": [
    {
      "cell_type": "code",
      "source": "# AIG150 Winter 2024\n# Week 2 Sample Code for Tidy Data\n# Asma M Paracha",
      "metadata": {
        "trusted": true
      },
      "execution_count": 1,
      "outputs": []
    },
    {
      "cell_type": "code",
      "source": "# read teh csv file\nimport pandas as pd\npew = pd.read_csv('pew.csv')\n",
      "metadata": {
        "trusted": true
      },
      "execution_count": 5,
      "outputs": []
    },
    {
      "cell_type": "code",
      "source": "# print the no of cols and rows\nprint(pew.shape)",
      "metadata": {
        "trusted": true
      },
      "execution_count": 6,
      "outputs": [
        {
          "name": "stdout",
          "text": "(18, 11)\n",
          "output_type": "stream"
        }
      ]
    },
    {
      "cell_type": "code",
      "source": "# print only the first few columns to get an idea\nprint(pew.iloc[:,0:5])",
      "metadata": {
        "trusted": true
      },
      "execution_count": 7,
      "outputs": [
        {
          "name": "stdout",
          "text": "                   religion  <$10k  $10-20k  $20-30k  $30-40k\n0                  Agnostic     27       34       60       81\n1                   Atheist     12       27       37       52\n2                  Buddhist     27       21       30       34\n3                  Catholic    418      617      732      670\n4        Don’t know/refused     15       14       15       11\n5          Evangelical Prot    575      869     1064      982\n6                     Hindu      1        9        7        9\n7   Historically Black Prot    228      244      236      238\n8         Jehovah's Witness     20       27       24       24\n9                    Jewish     19       19       25       25\n10            Mainline Prot    289      495      619      655\n11                   Mormon     29       40       48       51\n12                   Muslim      6        7        9       10\n13                 Orthodox     13       17       23       32\n14          Other Christian      9        7       11       13\n15             Other Faiths     20       33       40       46\n16    Other World Religions      5        2        3        4\n17             Unaffiliated    217      299      374      365\n",
          "output_type": "stream"
        }
      ]
    },
    {
      "cell_type": "code",
      "source": "# Tidy the data\n# all columns will be melt down except for religion variable will be the columns  and value is the count \npew_long = pew.melt(id_vars='religion')\nprint(pew_long)",
      "metadata": {
        "trusted": true
      },
      "execution_count": 8,
      "outputs": [
        {
          "name": "stdout",
          "text": "                  religion            variable  value\n0                 Agnostic               <$10k     27\n1                  Atheist               <$10k     12\n2                 Buddhist               <$10k     27\n3                 Catholic               <$10k    418\n4       Don’t know/refused               <$10k     15\n..                     ...                 ...    ...\n175               Orthodox  Don't know/refused     73\n176        Other Christian  Don't know/refused     18\n177           Other Faiths  Don't know/refused     71\n178  Other World Religions  Don't know/refused      8\n179           Unaffiliated  Don't know/refused    597\n\n[180 rows x 3 columns]\n",
          "output_type": "stream"
        }
      ]
    },
    {
      "cell_type": "code",
      "source": "# You can give name to the generated columns\npew_long = pew.melt(id_vars='religion',var_name=\"income\", value_name=\"count\")\nprint(pew_long)",
      "metadata": {
        "trusted": true
      },
      "execution_count": 9,
      "outputs": [
        {
          "name": "stdout",
          "text": "                  religion              income  count\n0                 Agnostic               <$10k     27\n1                  Atheist               <$10k     12\n2                 Buddhist               <$10k     27\n3                 Catholic               <$10k    418\n4       Don’t know/refused               <$10k     15\n..                     ...                 ...    ...\n175               Orthodox  Don't know/refused     73\n176        Other Christian  Don't know/refused     18\n177           Other Faiths  Don't know/refused     71\n178  Other World Religions  Don't know/refused      8\n179           Unaffiliated  Don't know/refused    597\n\n[180 rows x 3 columns]\n",
          "output_type": "stream"
        }
      ]
    },
    {
      "cell_type": "code",
      "source": "# Sometimes you have more than one column to hold still",
      "metadata": {},
      "execution_count": null,
      "outputs": []
    },
    {
      "cell_type": "code",
      "source": "# You need to use pivot with melt if a column of data actually holds two variables instead of one, see the example below:",
      "metadata": {},
      "execution_count": null,
      "outputs": []
    },
    {
      "cell_type": "code",
      "source": "weather=pd.read_csv('weather.csv')\nprint(weather.iloc[:5,:11])",
      "metadata": {
        "trusted": true
      },
      "execution_count": 10,
      "outputs": [
        {
          "name": "stdout",
          "text": "        id  year  month element  d1    d2    d3  d4    d5  d6  d7\n0  MX17004  2010      1    tmax NaN   NaN   NaN NaN   NaN NaN NaN\n1  MX17004  2010      1    tmin NaN   NaN   NaN NaN   NaN NaN NaN\n2  MX17004  2010      2    tmax NaN  27.3  24.1 NaN   NaN NaN NaN\n3  MX17004  2010      2    tmin NaN  14.4  14.4 NaN   NaN NaN NaN\n4  MX17004  2010      3    tmax NaN   NaN   NaN NaN  32.1 NaN NaN\n",
          "output_type": "stream"
        }
      ]
    },
    {
      "cell_type": "code",
      "source": "# Convert the long data into wide form\nweather_melt = weather.melt(id_vars=[\"id\", \"year\", \"month\", \"element\"],  var_name=\"day\",  value_name=\"temp\")\nprint(weather_melt)",
      "metadata": {
        "trusted": true
      },
      "execution_count": 15,
      "outputs": [
        {
          "name": "stdout",
          "text": "          id  year  month element  day  temp\n0    MX17004  2010      1    tmax   d1   NaN\n1    MX17004  2010      1    tmin   d1   NaN\n2    MX17004  2010      2    tmax   d1   NaN\n3    MX17004  2010      2    tmin   d1   NaN\n4    MX17004  2010      3    tmax   d1   NaN\n..       ...   ...    ...     ...  ...   ...\n677  MX17004  2010     10    tmin  d31   NaN\n678  MX17004  2010     11    tmax  d31   NaN\n679  MX17004  2010     11    tmin  d31   NaN\n680  MX17004  2010     12    tmax  d31   NaN\n681  MX17004  2010     12    tmin  d31   NaN\n\n[682 rows x 6 columns]\n",
          "output_type": "stream"
        }
      ]
    },
    {
      "cell_type": "code",
      "source": "# Element column contains the min and max temp\\day, we need to pivot that column",
      "metadata": {},
      "execution_count": null,
      "outputs": []
    },
    {
      "cell_type": "code",
      "source": "weather_tidy = weather_melt.pivot_table(index=['id', 'year', 'month', 'day'],columns='element',values='temp')\nprint(weather_tidy)",
      "metadata": {
        "trusted": true
      },
      "execution_count": 18,
      "outputs": [
        {
          "name": "stdout",
          "text": "element                 tmax  tmin\nid      year month day            \nMX17004 2010 1     d30  27.8  14.5\n             2     d11  29.7  13.4\n                   d2   27.3  14.4\n                   d23  29.9  10.7\n                   d3   24.1  14.4\n             3     d10  34.5  16.8\n                   d16  31.1  17.6\n                   d5   32.1  14.2\n             4     d27  36.3  16.7\n             5     d27  33.2  18.2\n             6     d17  28.0  17.5\n                   d29  30.1  18.0\n             7     d3   28.6  17.5\n                   d14  29.9  16.5\n             8     d23  26.4  15.0\n                   d5   29.6  15.8\n                   d29  28.0  15.3\n                   d13  29.8  16.5\n                   d25  29.7  15.6\n                   d31  25.4  15.4\n                   d8   29.0  17.3\n             10    d5   27.0  14.0\n                   d14  29.5  13.0\n                   d15  28.7  10.5\n                   d28  31.2  15.0\n                   d7   28.1  12.9\n             11    d2   31.3  16.3\n                   d5   26.3   7.9\n                   d27  27.7  14.2\n                   d26  28.1  12.1\n                   d4   27.2  12.0\n             12    d1   29.9  13.8\n                   d6   27.8  10.5\n",
          "output_type": "stream"
        }
      ]
    },
    {
      "cell_type": "code",
      "source": "# the data is tidy but still have some hirerachical columns structure that can be removed\nweather_tidy_flat = weather_tidy.reset_index()\nprint(weather_tidy_flat)\n# The data is tidy enough to work with",
      "metadata": {
        "trusted": true
      },
      "execution_count": 19,
      "outputs": [
        {
          "name": "stdout",
          "text": "element       id  year  month  day  tmax  tmin\n0        MX17004  2010      1  d30  27.8  14.5\n1        MX17004  2010      2  d11  29.7  13.4\n2        MX17004  2010      2   d2  27.3  14.4\n3        MX17004  2010      2  d23  29.9  10.7\n4        MX17004  2010      2   d3  24.1  14.4\n5        MX17004  2010      3  d10  34.5  16.8\n6        MX17004  2010      3  d16  31.1  17.6\n7        MX17004  2010      3   d5  32.1  14.2\n8        MX17004  2010      4  d27  36.3  16.7\n9        MX17004  2010      5  d27  33.2  18.2\n10       MX17004  2010      6  d17  28.0  17.5\n11       MX17004  2010      6  d29  30.1  18.0\n12       MX17004  2010      7   d3  28.6  17.5\n13       MX17004  2010      7  d14  29.9  16.5\n14       MX17004  2010      8  d23  26.4  15.0\n15       MX17004  2010      8   d5  29.6  15.8\n16       MX17004  2010      8  d29  28.0  15.3\n17       MX17004  2010      8  d13  29.8  16.5\n18       MX17004  2010      8  d25  29.7  15.6\n19       MX17004  2010      8  d31  25.4  15.4\n20       MX17004  2010      8   d8  29.0  17.3\n21       MX17004  2010     10   d5  27.0  14.0\n22       MX17004  2010     10  d14  29.5  13.0\n23       MX17004  2010     10  d15  28.7  10.5\n24       MX17004  2010     10  d28  31.2  15.0\n25       MX17004  2010     10   d7  28.1  12.9\n26       MX17004  2010     11   d2  31.3  16.3\n27       MX17004  2010     11   d5  26.3   7.9\n28       MX17004  2010     11  d27  27.7  14.2\n29       MX17004  2010     11  d26  28.1  12.1\n30       MX17004  2010     11   d4  27.2  12.0\n31       MX17004  2010     12   d1  29.9  13.8\n32       MX17004  2010     12   d6  27.8  10.5\n",
          "output_type": "stream"
        }
      ]
    },
    {
      "cell_type": "code",
      "source": "",
      "metadata": {},
      "execution_count": null,
      "outputs": []
    }
  ]
}