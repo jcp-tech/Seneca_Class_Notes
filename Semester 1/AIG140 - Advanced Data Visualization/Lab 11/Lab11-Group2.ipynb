{
 "cells": [
  {
   "cell_type": "code",
   "execution_count": 26,
   "id": "b692908f",
   "metadata": {},
   "outputs": [
    {
     "data": {
      "application/vnd.microsoft.datawrangler.viewer.v0+json": {
       "columns": [
        {
         "name": "Date",
         "rawType": "datetime64[ns]",
         "type": "datetime"
        },
        {
         "name": "Consumption",
         "rawType": "float64",
         "type": "float"
        }
       ],
       "conversionMethod": "pd.DataFrame",
       "ref": "371a4a78-262c-4948-bc8c-d3896d916ce1",
       "rows": [
        [
         "2021-01-01 00:00:00",
         "53.528104691935326"
        ],
        [
         "2021-01-02 00:00:00",
         "51.93987287082325"
        ],
        [
         "2021-01-03 00:00:00",
         "54.19115918359048"
        ],
        [
         "2021-01-04 00:00:00",
         "57.72071265986528"
        ],
        [
         "2021-01-05 00:00:00",
         "57.850840107686906"
        ],
        [
         "2021-01-06 00:00:00",
         "52.87557125916937"
        ],
        [
         "2021-01-07 00:00:00",
         "57.25545941652695"
        ],
        [
         "2021-01-08 00:00:00",
         "55.36989506024598"
        ],
        [
         "2021-01-09 00:00:00",
         "55.566171773254254"
        ],
        [
         "2021-01-10 00:00:00",
         "56.476479585352514"
        ],
        [
         "2021-01-11 00:00:00",
         "55.61821416124395"
        ],
        [
         "2021-01-12 00:00:00",
         "57.72427114131292"
        ],
        [
         "2021-01-13 00:00:00",
         "55.66100171175636"
        ],
        [
         "2021-01-14 00:00:00",
         "53.57703324836466"
        ],
        [
         "2021-01-15 00:00:00",
         "53.32728491957965"
        ],
        [
         "2021-01-16 00:00:00",
         "52.16734865474854"
        ],
        [
         "2021-01-17 00:00:00",
         "53.54859969222642"
        ],
        [
         "2021-01-18 00:00:00",
         "49.25600025708941"
        ],
        [
         "2021-01-19 00:00:00",
         "49.48720914183944"
        ],
        [
         "2021-01-20 00:00:00",
         "46.476084394009575"
        ],
        [
         "2021-01-21 00:00:00",
         "42.56389334940965"
        ],
        [
         "2021-01-22 00:00:00",
         "48.65195460940495"
        ],
        [
         "2021-01-23 00:00:00",
         "48.95626292087765"
        ],
        [
         "2021-01-24 00:00:00",
         "45.84306048234574"
        ],
        [
         "2021-01-25 00:00:00",
         "52.18422666649945"
        ],
        [
         "2021-01-26 00:00:00",
         "45.26114163188028"
        ],
        [
         "2021-01-27 00:00:00",
         "48.975792907215926"
        ],
        [
         "2021-01-28 00:00:00",
         "49.386706038485976"
        ],
        [
         "2021-01-29 00:00:00",
         "53.83187521333791"
        ],
        [
         "2021-01-30 00:00:00",
         "54.79915908571177"
        ],
        [
         "2021-01-31 00:00:00",
         "53.30989485139383"
        ],
        [
         "2021-02-01 00:00:00",
         "54.89588349329314"
        ],
        [
         "2021-02-02 00:00:00",
         "53.45811172011878"
        ],
        [
         "2021-02-03 00:00:00",
         "52.27733332501451"
        ],
        [
         "2021-02-04 00:00:00",
         "56.41989982873466"
        ],
        [
         "2021-02-05 00:00:00",
         "58.14282495713015"
        ],
        [
         "2021-02-06 00:00:00",
         "60.81586394293121"
        ],
        [
         "2021-02-07 00:00:00",
         "61.077369174410194"
        ],
        [
         "2021-02-08 00:00:00",
         "57.99795584202546"
        ],
        [
         "2021-02-09 00:00:00",
         "58.05067708032509"
        ],
        [
         "2021-02-10 00:00:00",
         "56.233021088788014"
        ],
        [
         "2021-02-11 00:00:00",
         "54.97568825302903"
        ],
        [
         "2021-02-12 00:00:00",
         "53.72638588021234"
        ],
        [
         "2021-02-13 00:00:00",
         "60.235234005842585"
        ],
        [
         "2021-02-14 00:00:00",
         "54.420254090585495"
        ],
        [
         "2021-02-15 00:00:00",
         "53.62385139677762"
        ],
        [
         "2021-02-16 00:00:00",
         "51.05485082581136"
        ],
        [
         "2021-02-17 00:00:00",
         "54.221297496284826"
        ],
        [
         "2021-02-18 00:00:00",
         "48.63327804342173"
        ],
        [
         "2021-02-19 00:00:00",
         "50.75879531218509"
        ]
       ],
       "shape": {
        "columns": 1,
        "rows": 120
       }
      },
      "text/html": [
       "<div>\n",
       "<style scoped>\n",
       "    .dataframe tbody tr th:only-of-type {\n",
       "        vertical-align: middle;\n",
       "    }\n",
       "\n",
       "    .dataframe tbody tr th {\n",
       "        vertical-align: top;\n",
       "    }\n",
       "\n",
       "    .dataframe thead th {\n",
       "        text-align: right;\n",
       "    }\n",
       "</style>\n",
       "<table border=\"1\" class=\"dataframe\">\n",
       "  <thead>\n",
       "    <tr style=\"text-align: right;\">\n",
       "      <th></th>\n",
       "      <th>Consumption</th>\n",
       "    </tr>\n",
       "    <tr>\n",
       "      <th>Date</th>\n",
       "      <th></th>\n",
       "    </tr>\n",
       "  </thead>\n",
       "  <tbody>\n",
       "    <tr>\n",
       "      <th>2021-01-01</th>\n",
       "      <td>53.528105</td>\n",
       "    </tr>\n",
       "    <tr>\n",
       "      <th>2021-01-02</th>\n",
       "      <td>51.939873</td>\n",
       "    </tr>\n",
       "    <tr>\n",
       "      <th>2021-01-03</th>\n",
       "      <td>54.191159</td>\n",
       "    </tr>\n",
       "    <tr>\n",
       "      <th>2021-01-04</th>\n",
       "      <td>57.720713</td>\n",
       "    </tr>\n",
       "    <tr>\n",
       "      <th>2021-01-05</th>\n",
       "      <td>57.850840</td>\n",
       "    </tr>\n",
       "    <tr>\n",
       "      <th>...</th>\n",
       "      <td>...</td>\n",
       "    </tr>\n",
       "    <tr>\n",
       "      <th>2021-04-26</th>\n",
       "      <td>58.774786</td>\n",
       "    </tr>\n",
       "    <tr>\n",
       "      <th>2021-04-27</th>\n",
       "      <td>59.778780</td>\n",
       "    </tr>\n",
       "    <tr>\n",
       "      <th>2021-04-28</th>\n",
       "      <td>58.451054</td>\n",
       "    </tr>\n",
       "    <tr>\n",
       "      <th>2021-04-29</th>\n",
       "      <td>60.994476</td>\n",
       "    </tr>\n",
       "    <tr>\n",
       "      <th>2021-04-30</th>\n",
       "      <td>62.704855</td>\n",
       "    </tr>\n",
       "  </tbody>\n",
       "</table>\n",
       "<p>120 rows × 1 columns</p>\n",
       "</div>"
      ],
      "text/plain": [
       "            Consumption\n",
       "Date                   \n",
       "2021-01-01    53.528105\n",
       "2021-01-02    51.939873\n",
       "2021-01-03    54.191159\n",
       "2021-01-04    57.720713\n",
       "2021-01-05    57.850840\n",
       "...                 ...\n",
       "2021-04-26    58.774786\n",
       "2021-04-27    59.778780\n",
       "2021-04-28    58.451054\n",
       "2021-04-29    60.994476\n",
       "2021-04-30    62.704855\n",
       "\n",
       "[120 rows x 1 columns]"
      ]
     },
     "execution_count": 26,
     "metadata": {},
     "output_type": "execute_result"
    }
   ],
   "source": [
    "import pandas as pd\n",
    "import numpy as np\n",
    "\n",
    "df = pd.read_csv(r\"Open Power Systems Data.csv\") # Load the CSV file\n",
    "df['Date'] = pd.to_datetime(df['Date'], format='%Y-%m-%d') # Convert the Date column to datetime format\n",
    "df.set_index('Date', inplace=True) # Set the Date column as the index of the DataFrame.\n",
    "df"
   ]
  },
  {
   "cell_type": "code",
   "execution_count": 27,
   "id": "8fc961d7",
   "metadata": {},
   "outputs": [
    {
     "data": {
      "application/vnd.microsoft.datawrangler.viewer.v0+json": {
       "columns": [
        {
         "name": "Date",
         "rawType": "datetime64[ns]",
         "type": "datetime"
        },
        {
         "name": "Consumption",
         "rawType": "float64",
         "type": "float"
        }
       ],
       "conversionMethod": "pd.DataFrame",
       "ref": "f4856090-59d5-4ec1-b0e0-b0d5ac77265b",
       "rows": [
        [
         "2021-01-01 00:00:00",
         "53.528104691935326"
        ],
        [
         "2021-01-02 00:00:00",
         "51.93987287082325"
        ],
        [
         "2021-01-03 00:00:00",
         "54.19115918359048"
        ],
        [
         "2021-01-04 00:00:00",
         "57.72071265986528"
        ],
        [
         "2021-01-05 00:00:00",
         "57.850840107686906"
        ]
       ],
       "shape": {
        "columns": 1,
        "rows": 5
       }
      },
      "text/html": [
       "<div>\n",
       "<style scoped>\n",
       "    .dataframe tbody tr th:only-of-type {\n",
       "        vertical-align: middle;\n",
       "    }\n",
       "\n",
       "    .dataframe tbody tr th {\n",
       "        vertical-align: top;\n",
       "    }\n",
       "\n",
       "    .dataframe thead th {\n",
       "        text-align: right;\n",
       "    }\n",
       "</style>\n",
       "<table border=\"1\" class=\"dataframe\">\n",
       "  <thead>\n",
       "    <tr style=\"text-align: right;\">\n",
       "      <th></th>\n",
       "      <th>Consumption</th>\n",
       "    </tr>\n",
       "    <tr>\n",
       "      <th>Date</th>\n",
       "      <th></th>\n",
       "    </tr>\n",
       "  </thead>\n",
       "  <tbody>\n",
       "    <tr>\n",
       "      <th>2021-01-01</th>\n",
       "      <td>53.528105</td>\n",
       "    </tr>\n",
       "    <tr>\n",
       "      <th>2021-01-02</th>\n",
       "      <td>51.939873</td>\n",
       "    </tr>\n",
       "    <tr>\n",
       "      <th>2021-01-03</th>\n",
       "      <td>54.191159</td>\n",
       "    </tr>\n",
       "    <tr>\n",
       "      <th>2021-01-04</th>\n",
       "      <td>57.720713</td>\n",
       "    </tr>\n",
       "    <tr>\n",
       "      <th>2021-01-05</th>\n",
       "      <td>57.850840</td>\n",
       "    </tr>\n",
       "  </tbody>\n",
       "</table>\n",
       "</div>"
      ],
      "text/plain": [
       "            Consumption\n",
       "Date                   \n",
       "2021-01-01    53.528105\n",
       "2021-01-02    51.939873\n",
       "2021-01-03    54.191159\n",
       "2021-01-04    57.720713\n",
       "2021-01-05    57.850840"
      ]
     },
     "execution_count": 27,
     "metadata": {},
     "output_type": "execute_result"
    }
   ],
   "source": [
    "df.head() # Display the first few rows of the DataFrame"
   ]
  },
  {
   "cell_type": "code",
   "execution_count": 28,
   "id": "923790ec",
   "metadata": {},
   "outputs": [
    {
     "data": {
      "application/vnd.microsoft.datawrangler.viewer.v0+json": {
       "columns": [
        {
         "name": "Date",
         "rawType": "datetime64[ns]",
         "type": "datetime"
        },
        {
         "name": "Consumption",
         "rawType": "float64",
         "type": "float"
        }
       ],
       "conversionMethod": "pd.DataFrame",
       "ref": "9bd6e6e4-b0de-41fd-ac09-b49c4fe078de",
       "rows": [
        [
         "2021-04-26 00:00:00",
         "58.7747857726706"
        ],
        [
         "2021-04-27 00:00:00",
         "59.77877980816053"
        ],
        [
         "2021-04-28 00:00:00",
         "58.451053552355965"
        ],
        [
         "2021-04-29 00:00:00",
         "60.99447552531316"
        ],
        [
         "2021-04-30 00:00:00",
         "62.70485488904425"
        ]
       ],
       "shape": {
        "columns": 1,
        "rows": 5
       }
      },
      "text/html": [
       "<div>\n",
       "<style scoped>\n",
       "    .dataframe tbody tr th:only-of-type {\n",
       "        vertical-align: middle;\n",
       "    }\n",
       "\n",
       "    .dataframe tbody tr th {\n",
       "        vertical-align: top;\n",
       "    }\n",
       "\n",
       "    .dataframe thead th {\n",
       "        text-align: right;\n",
       "    }\n",
       "</style>\n",
       "<table border=\"1\" class=\"dataframe\">\n",
       "  <thead>\n",
       "    <tr style=\"text-align: right;\">\n",
       "      <th></th>\n",
       "      <th>Consumption</th>\n",
       "    </tr>\n",
       "    <tr>\n",
       "      <th>Date</th>\n",
       "      <th></th>\n",
       "    </tr>\n",
       "  </thead>\n",
       "  <tbody>\n",
       "    <tr>\n",
       "      <th>2021-04-26</th>\n",
       "      <td>58.774786</td>\n",
       "    </tr>\n",
       "    <tr>\n",
       "      <th>2021-04-27</th>\n",
       "      <td>59.778780</td>\n",
       "    </tr>\n",
       "    <tr>\n",
       "      <th>2021-04-28</th>\n",
       "      <td>58.451054</td>\n",
       "    </tr>\n",
       "    <tr>\n",
       "      <th>2021-04-29</th>\n",
       "      <td>60.994476</td>\n",
       "    </tr>\n",
       "    <tr>\n",
       "      <th>2021-04-30</th>\n",
       "      <td>62.704855</td>\n",
       "    </tr>\n",
       "  </tbody>\n",
       "</table>\n",
       "</div>"
      ],
      "text/plain": [
       "            Consumption\n",
       "Date                   \n",
       "2021-04-26    58.774786\n",
       "2021-04-27    59.778780\n",
       "2021-04-28    58.451054\n",
       "2021-04-29    60.994476\n",
       "2021-04-30    62.704855"
      ]
     },
     "execution_count": 28,
     "metadata": {},
     "output_type": "execute_result"
    }
   ],
   "source": [
    "df.tail() # Display the last few rows of the DataFrame"
   ]
  },
  {
   "cell_type": "code",
   "execution_count": null,
   "id": "e5749a01",
   "metadata": {},
   "outputs": [
    {
     "name": "stdout",
     "output_type": "stream",
     "text": [
      "<class 'pandas.core.frame.DataFrame'>\n",
      "DatetimeIndex: 120 entries, 2021-01-01 to 2021-04-30\n",
      "Data columns (total 1 columns):\n",
      " #   Column       Non-Null Count  Dtype  \n",
      "---  ------       --------------  -----  \n",
      " 0   Consumption  120 non-null    float64\n",
      "dtypes: float64(1)\n",
      "memory usage: 1.9 KB\n"
     ]
    }
   ],
   "source": [
    "df.info() # Display information about the DataFrame"
   ]
  },
  {
   "cell_type": "code",
   "execution_count": null,
   "id": "7b07fbfd",
   "metadata": {},
   "outputs": [
    {
     "data": {
      "application/vnd.microsoft.datawrangler.viewer.v0+json": {
       "columns": [
        {
         "name": "index",
         "rawType": "object",
         "type": "string"
        },
        {
         "name": "Consumption",
         "rawType": "float64",
         "type": "float"
        }
       ],
       "conversionMethod": "pd.DataFrame",
       "ref": "7431a520-6050-4a64-8232-b691d0ee0402",
       "rows": [
        [
         "count",
         "120.0"
        ],
        [
         "mean",
         "56.21522349222451"
        ],
        [
         "std",
         "4.97976725549738"
        ],
        [
         "min",
         "42.56389334940965"
        ],
        [
         "25%",
         "53.356334380407816"
        ],
        [
         "50%",
         "55.94753586671024"
        ],
        [
         "75%",
         "59.98365003645653"
        ],
        [
         "max",
         "68.24435046465304"
        ]
       ],
       "shape": {
        "columns": 1,
        "rows": 8
       }
      },
      "text/html": [
       "<div>\n",
       "<style scoped>\n",
       "    .dataframe tbody tr th:only-of-type {\n",
       "        vertical-align: middle;\n",
       "    }\n",
       "\n",
       "    .dataframe tbody tr th {\n",
       "        vertical-align: top;\n",
       "    }\n",
       "\n",
       "    .dataframe thead th {\n",
       "        text-align: right;\n",
       "    }\n",
       "</style>\n",
       "<table border=\"1\" class=\"dataframe\">\n",
       "  <thead>\n",
       "    <tr style=\"text-align: right;\">\n",
       "      <th></th>\n",
       "      <th>Consumption</th>\n",
       "    </tr>\n",
       "  </thead>\n",
       "  <tbody>\n",
       "    <tr>\n",
       "      <th>count</th>\n",
       "      <td>120.000000</td>\n",
       "    </tr>\n",
       "    <tr>\n",
       "      <th>mean</th>\n",
       "      <td>56.215223</td>\n",
       "    </tr>\n",
       "    <tr>\n",
       "      <th>std</th>\n",
       "      <td>4.979767</td>\n",
       "    </tr>\n",
       "    <tr>\n",
       "      <th>min</th>\n",
       "      <td>42.563893</td>\n",
       "    </tr>\n",
       "    <tr>\n",
       "      <th>25%</th>\n",
       "      <td>53.356334</td>\n",
       "    </tr>\n",
       "    <tr>\n",
       "      <th>50%</th>\n",
       "      <td>55.947536</td>\n",
       "    </tr>\n",
       "    <tr>\n",
       "      <th>75%</th>\n",
       "      <td>59.983650</td>\n",
       "    </tr>\n",
       "    <tr>\n",
       "      <th>max</th>\n",
       "      <td>68.244350</td>\n",
       "    </tr>\n",
       "  </tbody>\n",
       "</table>\n",
       "</div>"
      ],
      "text/plain": [
       "       Consumption\n",
       "count   120.000000\n",
       "mean     56.215223\n",
       "std       4.979767\n",
       "min      42.563893\n",
       "25%      53.356334\n",
       "50%      55.947536\n",
       "75%      59.983650\n",
       "max      68.244350"
      ]
     },
     "execution_count": 30,
     "metadata": {},
     "output_type": "execute_result"
    }
   ],
   "source": [
    "df.describe() # Display summary statistics of the DataFrame"
   ]
  },
  {
   "cell_type": "code",
   "execution_count": null,
   "id": "fde58fc9",
   "metadata": {},
   "outputs": [
    {
     "data": {
      "image/png": "[encoded data removed]",
      "text/plain": [
       "<Figure size 1000x500 with 1 Axes>"
      ]
     },
     "metadata": {},
     "output_type": "display_data"
    }
   ],
   "source": [
    "import matplotlib.pyplot as plt\n",
    "import seaborn as sns\n",
    "\n",
    "# Plot a simple line graph of daily electricity consumption.\n",
    "plt.figure(figsize=(10, 5))\n",
    "plt.plot(df.index, df['Consumption'], label='Daily Consumption')\n",
    "plt.title('Daily Electricity Consumption')\n",
    "plt.xlabel('Date')\n",
    "plt.ylabel('Consumption (kWh)')\n",
    "plt.legend()\n",
    "plt.grid()\n",
    "plt.show() # Show the plot"
   ]
  }
 ],
 "metadata": {
  "kernelspec": {
   "display_name": "Python 3",
   "language": "python",
   "name": "python3"
  },
  "language_info": {
   "codemirror_mode": {
    "name": "ipython",
    "version": 3
   },
   "file_extension": ".py",
   "mimetype": "text/x-python",
   "name": "python",
   "nbconvert_exporter": "python",
   "pygments_lexer": "ipython3",
   "version": "3.12.6"
  }
 },
 "nbformat": 4,
 "nbformat_minor": 5
}
