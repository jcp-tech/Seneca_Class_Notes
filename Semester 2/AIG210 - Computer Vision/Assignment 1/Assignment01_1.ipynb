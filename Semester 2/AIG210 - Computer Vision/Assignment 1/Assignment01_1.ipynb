{
 "cells": [
  {
   "cell_type": "code",
   "execution_count": 2,
   "id": "e9f81b38",
   "metadata": {},
   "outputs": [
    {
     "name": "stdout",
     "output_type": "stream",
     "text": [
      "Collecting opencv-python\n",
      "  Using cached opencv_python-4.11.0.86-cp37-abi3-win_amd64.whl.metadata (20 kB)\n",
      "Requirement already satisfied: numpy>=1.21.2 in c:\\users\\adyl\\miniconda4\\lib\\site-packages (from opencv-python) (2.1.3)\n",
      "Using cached opencv_python-4.11.0.86-cp37-abi3-win_amd64.whl (39.5 MB)\n",
      "Installing collected packages: opencv-python\n",
      "Successfully installed opencv-python-4.11.0.86\n",
      "Note: you may need to restart the kernel to use updated packages.\n"
     ]
    }
   ],
   "source": [
    "%pip install opencv-python"
   ]
  },
  {
   "cell_type": "code",
   "execution_count": 13,
   "id": "a70395e3",
   "metadata": {},
   "outputs": [
    {
     "name": "stdout",
     "output_type": "stream",
     "text": [
      "Frame width: 640\n",
      "Frame height: 480\n",
      "Snapshot taken and saved as image01.jpg\n"
     ]
    },
    {
     "ename": "KeyboardInterrupt",
     "evalue": "",
     "output_type": "error",
     "traceback": [
      "\u001b[1;31m---------------------------------------------------------------------------\u001b[0m",
      "\u001b[1;31mKeyboardInterrupt\u001b[0m                         Traceback (most recent call last)",
      "Cell \u001b[1;32mIn[13], line 26\u001b[0m\n\u001b[0;32m     23\u001b[0m     \u001b[38;5;28;01mbreak\u001b[39;00m\n\u001b[0;32m     25\u001b[0m cv\u001b[38;5;241m.\u001b[39mimshow(\u001b[38;5;124m'\u001b[39m\u001b[38;5;124mframe\u001b[39m\u001b[38;5;124m'\u001b[39m, frame)\n\u001b[1;32m---> 26\u001b[0m key \u001b[38;5;241m=\u001b[39m \u001b[43mcv\u001b[49m\u001b[38;5;241;43m.\u001b[39;49m\u001b[43mwaitKey\u001b[49m\u001b[43m(\u001b[49m\u001b[38;5;241;43m500\u001b[39;49m\u001b[43m)\u001b[49m\n\u001b[0;32m     28\u001b[0m \u001b[38;5;28;01mif\u001b[39;00m key \u001b[38;5;241m&\u001b[39m \u001b[38;5;241m0xFF\u001b[39m \u001b[38;5;241m==\u001b[39m \u001b[38;5;28mord\u001b[39m(\u001b[38;5;124m'\u001b[39m\u001b[38;5;124mq\u001b[39m\u001b[38;5;124m'\u001b[39m):\n\u001b[0;32m     29\u001b[0m     \u001b[38;5;28;01mbreak\u001b[39;00m\n",
      "\u001b[1;31mKeyboardInterrupt\u001b[0m: "
     ]
    }
   ],
   "source": [
    "import cv2 as cv\n",
    "import datetime\n",
    "\n",
    "# Start a video capture, using device's camera\n",
    "cap = cv.VideoCapture(0)\n",
    "\n",
    "# Check if video file opened successfully\n",
    "if not cap.isOpened():\n",
    "    print(\"Error opening video stream or file\")\n",
    "\n",
    "frame_width = int(cap.get(3))\n",
    "frame_height = int(cap.get(4))\n",
    "print(\"Frame width:\", frame_width)\n",
    "print(\"Frame height:\", frame_height)\n",
    "\n",
    "# Snapshot counter\n",
    "snapshot_count = 1\n",
    "\n",
    "# Read until video is completed\n",
    "while cap.isOpened():\n",
    "    ret, frame = cap.read()\n",
    "    if not ret:\n",
    "        break\n",
    "\n",
    "    cv.imshow('frame', frame)\n",
    "    key = cv.waitKey(500)\n",
    "\n",
    "    if key & 0xFF == ord('q'):\n",
    "        break\n",
    "\n",
    "    elif key & 0xFF == ord('x'):\n",
    "        # Pad the snapshot with 40 pixels using constant red border\n",
    "        padded_frame = cv.copyMakeBorder(frame, 40, 80, 40, 40, cv.BORDER_CONSTANT, value=[0, 0, 255])\n",
    "\n",
    "        # Get current date and time\n",
    "        timestamp = datetime.datetime.now().strftime('%Y-%m-%d %H:%M:%S')\n",
    "\n",
    "        # Set position for timestamp (bottom left corner)\n",
    "        text_position = (50, padded_frame.shape[0] - 30)\n",
    "\n",
    "        # Add timestamp to image\n",
    "        cv.putText(padded_frame, timestamp, text_position, \n",
    "                   fontFace=cv.FONT_HERSHEY_SIMPLEX, fontScale=0.8, color=(255, 255, 255), thickness=2)\n",
    "\n",
    "        # Create auto-incrementing filename\n",
    "        filename = f'image{snapshot_count:02d}.jpg'\n",
    "        cv.imwrite(filename, padded_frame)\n",
    "        print(f\"Snapshot taken and saved as {filename}\")\n",
    "\n",
    "        # Show the snapshot in a new window for 1 second\n",
    "        cv.imshow('snapshot', padded_frame)\n",
    "        cv.waitKey(1000)\n",
    "        cv.destroyWindow('snapshot')\n",
    "\n",
    "        snapshot_count += 1\n",
    "\n",
    "# Release the video capture\n",
    "cap.release()\n",
    "cv.destroyAllWindows()\n"
   ]
  }
 ],
 "metadata": {
  "kernelspec": {
   "display_name": "base",
   "language": "python",
   "name": "python3"
  },
  "language_info": {
   "codemirror_mode": {
    "name": "ipython",
    "version": 3
   },
   "file_extension": ".py",
   "mimetype": "text/x-python",
   "name": "python",
   "nbconvert_exporter": "python",
   "pygments_lexer": "ipython3",
   "version": "3.12.3"
  }
 },
 "nbformat": 4,
 "nbformat_minor": 5
}
