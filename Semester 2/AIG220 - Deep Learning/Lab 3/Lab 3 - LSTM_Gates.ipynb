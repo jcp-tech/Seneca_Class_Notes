{
 "cells": [
  {
   "cell_type": "markdown",
   "metadata": {
    "id": "_l0Tshu8OgYq"
   },
   "source": [
    "Here is an example to illustrate how the `forget`, `input`, and `output` gates in an LSTM work. We'll take the example of a sequence of words in a sentence, where the LSTM is used for part-of-speech tagging. The LSTM must remember relevant information (such as the context of the sentence) and forget irrelevant details to make accurate predictions."
   ]
  },
  {
   "cell_type": "markdown",
   "metadata": {
    "id": "xhgElhlvOuC8"
   },
   "source": [
    "# Forget Gate\n",
    "The `forget` gate decides which information from the cell state should be thrown away or kept. This gate uses a `sigmoid` function to produce values between 0 and 1, where 0 means \"completely forget\" and 1 means \"completely retain\".\n",
    "### Example:\n",
    "Sentence: \"The quick brown fox jumps over the lazy dog.\"\n",
    "\n",
    "*   Input Sequence: [\"The\", \"quick\", \"brown\", \"fox\", \"jumps\", \"over\", \"the\",\n",
    "\"lazy\", \"dog\"]\n",
    "*   Current Word: \"fox\"\n",
    "*   Previous Words: [\"The\", \"quick\", \"brown\"]\n",
    "*  Forget Gate Example:\n",
    "  *  Forget information about \"The\" and \"quick\" as they are less relevant to\n",
    "predicting the part of speech of \"fox\".\n",
    "  *  Retain some information about \"brown\" since it might help in understanding \"fox\".\n",
    "\n"
   ]
  },
  {
   "cell_type": "markdown",
   "metadata": {
    "id": "9SwbFvXXO5mz"
   },
   "source": [
    "# Input Gate\n",
    "The input gate decides which new information should be added to the cell state. It also uses a sigmoid function to filter values and a tanh function to create new candidate values.\n",
    "\n",
    "### Example:\n",
    "Sentence: \"The quick brown fox jumps over the lazy dog.\"\n",
    "* Input Sequence: [\"The\", \"quick\", \"brown\", \"fox\", \"jumps\", \"over\", \"the\", \"lazy\", \"dog\"]\n",
    "* Current Word: \"fox\"\n",
    "* New Information Example:\n",
    "  * Add information about \"fox\" being a noun.\n",
    "  * Add context that \"fox\" is an animal, which might be relevant for future predictions."
   ]
  },
  {
   "cell_type": "markdown",
   "metadata": {
    "id": "XQoSyJ_AQJJJ"
   },
   "source": [
    "# Output Gate\n",
    "The output gate decides which part of the cell state should be output as the hidden state. This hidden state is used for the next time step and for making predictions.\n",
    "\n",
    "### Example:\n",
    "Sentence: \"The quick brown fox jumps over the lazy dog.\"\n",
    "* Input Sequence: [\"The\", \"quick\", \"brown\", \"fox\", \"jumps\", \"over\", \"the\", \"lazy\", \"dog\"]\n",
    "* Current Word: \"fox\"\n",
    "* Output Information Example:\n",
    "  * Output relevant information to predict that the next word \"jumps\" is likely a verb.\n",
    "  * Maintain information that the subject \"fox\" is a noun.\n"
   ]
  },
  {
   "cell_type": "markdown",
   "metadata": {
    "id": "ayYwXtDVRJi_"
   },
   "source": [
    "Now we use a more detailed example with numerical values to show how these gates work in the code:"
   ]
  },
  {
   "cell_type": "code",
   "execution_count": 1,
   "metadata": {
    "id": "5bqHLXrxRLYB"
   },
   "outputs": [],
   "source": [
    "import torch\n",
    "import torch.nn as nn\n",
    "import numpy as np\n"
   ]
  },
  {
   "cell_type": "code",
   "execution_count": 2,
   "metadata": {
    "id": "2-q4wghpRZez"
   },
   "outputs": [],
   "source": [
    "class LSTMCell(nn.Module):\n",
    "    def __init__(self, input_size, hidden_size):\n",
    "        super(LSTMCell, self).__init__()\n",
    "        self.hidden_size = hidden_size\n",
    "        self.i2h = nn.Linear(input_size + hidden_size, hidden_size * 4)\n",
    "        self.hidden_state = torch.zeros(1, hidden_size)\n",
    "        self.cell_state = torch.zeros(1, hidden_size)\n",
    "\n",
    "    def forward(self, x):\n",
    "        combined = torch.cat((x, self.hidden_state), 1)\n",
    "        gates = self.i2h(combined)\n",
    "        forget_gate, input_gate, output_gate, candidate_values = gates.chunk(4, 1)\n",
    "\n",
    "        forget_gate = torch.sigmoid(forget_gate)\n",
    "        input_gate = torch.sigmoid(input_gate)\n",
    "        output_gate = torch.sigmoid(output_gate)\n",
    "        candidate_values = torch.tanh(candidate_values)\n",
    "\n",
    "        self.cell_state = self.cell_state * forget_gate + input_gate * candidate_values\n",
    "        self.hidden_state = output_gate * torch.tanh(self.cell_state)\n",
    "\n",
    "        return self.hidden_state, self.cell_state\n",
    "\n",
    "# Initialize LSTM Cell\n",
    "input_size = 5\n",
    "hidden_size = 3\n",
    "lstm_cell = LSTMCell(input_size, hidden_size)\n"
   ]
  },
  {
   "cell_type": "markdown",
   "metadata": {
    "id": "YmOtTSh_Rh2X"
   },
   "source": [
    "Simulating One Time Step:"
   ]
  },
  {
   "cell_type": "code",
   "execution_count": 3,
   "metadata": {
    "colab": {
     "base_uri": "https://localhost:8080/"
    },
    "id": "MFfe3SVHRlwR",
    "outputId": "824e97ec-1a4b-4593-953d-bdbd2446683a"
   },
   "outputs": [
    {
     "name": "stdout",
     "output_type": "stream",
     "text": [
      "Hidden State:\n",
      " tensor([[-0.1606,  0.0099, -0.0613]], grad_fn=<MulBackward0>)\n",
      "Cell State:\n",
      " tensor([[-0.5996,  0.0169, -0.1663]], grad_fn=<AddBackward0>)\n"
     ]
    }
   ],
   "source": [
    "# Example input vector (one-hot encoded words or word embeddings)\n",
    "input_vector = torch.randn(1, input_size)\n",
    "\n",
    "# Forward pass through the LSTM cell\n",
    "hidden_state, cell_state = lstm_cell(input_vector)\n",
    "\n",
    "print(\"Hidden State:\\n\", hidden_state)\n",
    "print(\"Cell State:\\n\", cell_state)\n"
   ]
  },
  {
   "cell_type": "markdown",
   "metadata": {
    "id": "dPutd7C7RtrK"
   },
   "source": [
    "Here is an example of what happens in each gate:\n",
    "\n",
    "1. Forget Gate:\n",
    "  * Previous cell state: [0.5, 0.1, -0.3]\n",
    "  * Forget gate output (after sigmoid): [0.1, 0.9, 0.5]\n",
    "  * New cell state (forget operation): [0.5 * 0.1, 0.1 * 0.9, -0.3 * 0.5] = [0.05, 0.09, -0.15]\n",
    "2. Input Gate:\n",
    "\n",
    "  * Candidate values (after tanh): [0.2, -0.1, 0.4]\n",
    "  * Input gate output (after sigmoid): [0.8, 0.3, 0.6]\n",
    "  * New cell state (input operation): [0.05 + 0.8 * 0.2, 0.09 + 0.3 * (-0.1), -0.15 + 0.6 * 0.4] = [0.21, 0.06, 0.09]\n",
    "3. Output Gate:\n",
    "\n",
    "  * Output gate output (after sigmoid): [0.5, 0.9, 0.7]\n",
    "  * New hidden state: output_gate * tanh(new_cell_state) = [0.5 * tanh(0.21), 0.9 * tanh(0.06), 0.7 * tanh(0.09)] = [0.5 * 0.21, 0.9 * 0.06, 0.7 * 0.09] = [0.105, 0.054, 0.063]\n",
    "\n",
    "  Let's visualize them!"
   ]
  },
  {
   "cell_type": "code",
   "execution_count": 4,
   "metadata": {
    "colab": {
     "base_uri": "https://localhost:8080/",
     "height": 607
    },
    "id": "Qco-9O5xSUC3",
    "outputId": "2268930f-9443-401a-fa04-335417935435"
   },
   "outputs": [
    {
     "data": {
      "image/png": "[encoded data removed]",
      "text/plain": [
       "<Figure size 1000x600 with 6 Axes>"
      ]
     },
     "metadata": {},
     "output_type": "display_data"
    }
   ],
   "source": [
    "import matplotlib.pyplot as plt\n",
    "\n",
    "def visualize_gate_operations(forget_gate, input_gate, output_gate, candidate_values, cell_state, hidden_state):\n",
    "    gates = [\"Forget Gate\", \"Input Gate\", \"Output Gate\", \"Candidate Values\", \"Cell State\", \"Hidden State\"]\n",
    "    values = [forget_gate, input_gate, output_gate, candidate_values, cell_state, hidden_state]\n",
    "\n",
    "    plt.figure(figsize=(10, 6))\n",
    "    for i in range(len(gates)):\n",
    "        plt.subplot(2, 3, i+1)\n",
    "        plt.bar(range(len(values[i])), values[i])\n",
    "        plt.title(gates[i])\n",
    "        plt.ylim(-1, 1)\n",
    "    plt.tight_layout()\n",
    "    plt.show()\n",
    "\n",
    "# Example gate values\n",
    "forget_gate = [0.1, 0.9, 0.5]\n",
    "input_gate = [0.8, 0.3, 0.6]\n",
    "output_gate = [0.5, 0.9, 0.7]\n",
    "candidate_values = [0.2, -0.1, 0.4]\n",
    "cell_state = [0.21, 0.06, 0.09]\n",
    "hidden_state = [0.105, 0.054, 0.063]\n",
    "\n",
    "visualize_gate_operations(forget_gate, input_gate, output_gate, candidate_values, cell_state, hidden_state)\n"
   ]
  },
  {
   "cell_type": "markdown",
   "metadata": {
    "id": "dKdbUAThSXkv"
   },
   "source": [
    "# Summary\n",
    "* Forget Gate: Determines which parts of the previous cell state to forget. For instance, if processing \"fox\", we may forget details about \"The\" and \"quick\".\n",
    "* Input Gate: Decides what new information to store in the cell state. When processing \"fox\", we might add the information that \"fox\" is a noun.\n",
    "* Output Gate: Determines what part of the cell state to output as the hidden state, which will help in predicting the next word \"jumps\"."
   ]
  }
 ],
 "metadata": {
  "colab": {
   "provenance": []
  },
  "kernelspec": {
   "display_name": "Python 3 (ipykernel)",
   "language": "python",
   "name": "python3"
  },
  "language_info": {
   "codemirror_mode": {
    "name": "ipython",
    "version": 3
   },
   "file_extension": ".py",
   "mimetype": "text/x-python",
   "name": "python",
   "nbconvert_exporter": "python",
   "pygments_lexer": "ipython3",
   "version": "3.11.11"
  }
 },
 "nbformat": 4,
 "nbformat_minor": 4
}
